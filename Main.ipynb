{
 "cells": [
  {
   "cell_type": "code",
   "execution_count": 1,
   "metadata": {},
   "outputs": [
    {
     "name": "stderr",
     "output_type": "stream",
     "text": [
      "INFO:unityagents:\n",
      "'Academy' started successfully!\n",
      "Unity Academy name: Academy\n",
      "        Number of Brains: 1\n",
      "        Number of External Brains : 1\n",
      "        Lesson number : 0\n",
      "        Reset Parameters :\n",
      "\t\t\n",
      "Unity brain name: TennisBrain\n",
      "        Number of Visual Observations (per agent): 0\n",
      "        Vector Observation space type: continuous\n",
      "        Vector Observation space size (per agent): 8\n",
      "        Number of stacked Vector Observation: 3\n",
      "        Vector Action space type: continuous\n",
      "        Vector Action space size (per agent): 2\n",
      "        Vector Action descriptions: , \n"
     ]
    }
   ],
   "source": [
    "from unityagents import UnityEnvironment\n",
    "env_file = \"Tennis_Windows_x86_64\\Tennis.exe\" #'Tennis_Linux/Tennis.x86_64'#\n",
    "env = UnityEnvironment(file_name=env_file, no_graphics = True)"
   ]
  },
  {
   "cell_type": "code",
   "execution_count": 2,
   "metadata": {},
   "outputs": [
    {
     "name": "stdout",
     "output_type": "stream",
     "text": [
      "using device:  cpu\n",
      "NO grad. clipping used.\n"
     ]
    }
   ],
   "source": [
    "import torch\n",
    "import numpy as np\n",
    "from collections import deque\n",
    "import progressbar as pb\n",
    "import matplotlib.pyplot as plt\n",
    "from utils import OUprocess, Reply_buffer\n",
    "from Tennis_agent import SelfPlay_Agent"
   ]
  },
  {
   "cell_type": "code",
   "execution_count": 3,
   "metadata": {},
   "outputs": [
    {
     "name": "stdout",
     "output_type": "stream",
     "text": [
      "Number of agents: 2\n",
      "Size of each action: 2\n",
      "states shape:  (2, 24)\n",
      "There are 2 agents. Each observes a state with length: 24\n",
      "The state for the first agent looks like: [ 0.          0.          0.          0.          0.          0.\n",
      "  0.          0.          0.          0.          0.          0.\n",
      "  0.          0.          0.          0.         -6.65278625 -1.5\n",
      " -0.          0.          6.83172083  6.         -0.          0.        ]\n",
      "The state for the second agent looks like: [ 0.          0.          0.          0.          0.          0.\n",
      "  0.          0.          0.          0.          0.          0.\n",
      "  0.          0.          0.          0.         -6.4669857  -1.5\n",
      "  0.          0.         -6.83172083  6.          0.          0.        ]\n"
     ]
    }
   ],
   "source": [
    "# get the default brain\n",
    "brain_name = env.brain_names[0]\n",
    "brain = env.brains[brain_name]\n",
    "\n",
    "# reset the environment\n",
    "env_info = env.reset(train_mode=True)[brain_name]\n",
    "\n",
    "# number of agents \n",
    "num_agents = len(env_info.agents)\n",
    "print('Number of agents:', num_agents)\n",
    "\n",
    "# size of each action\n",
    "action_size = brain.vector_action_space_size\n",
    "print('Size of each action:', action_size)\n",
    "\n",
    "# examine the state space \n",
    "states = env_info.vector_observations\n",
    "state_size = states.shape[1]\n",
    "print('states shape: ',states.shape)\n",
    "print('There are {} agents. Each observes a state with length: {}'.format(states.shape[0], state_size))\n",
    "print('The state for the first agent looks like:', states[0])\n",
    "print('The state for the second agent looks like:', states[1])"
   ]
  },
  {
   "cell_type": "code",
   "execution_count": 4,
   "metadata": {},
   "outputs": [],
   "source": [
    "T_max = 1000\n",
    "max_buffer = int(1.e+6)\n",
    "buffer = Reply_buffer(max_buffer)\n",
    "noise_decay = 1#0.999\n",
    "noise_lvl = 0.2\n",
    "ouA = OUprocess(action_size, sigma=noise_lvl)\n",
    "ouB = OUprocess(action_size, sigma=noise_lvl)\n",
    "batch_size = 256\n",
    "update_steps = 5  #with (128,5,10,5e-4,5e-4) -> 0.23 @ 600 episodes\n",
    "GD_steps = 4 #with (256,5,4,1e-3,1e-3) -> 0.44 @ 800 episodes\n",
    "lra=3.e-3\n",
    "lrc=3.e-3\n",
    "agent = SelfPlay_Agent(state_size, action_size, num_agents, tau=1, lr_act=lra, lr_crit=lrc)\n",
    "\n",
    "nr_episodes = 1200"
   ]
  },
  {
   "cell_type": "code",
   "execution_count": 5,
   "metadata": {
    "scrolled": false
   },
   "outputs": [
    {
     "name": "stderr",
     "output_type": "stream",
     "text": [
      "training loop:   1% |                                                         |\r"
     ]
    },
    {
     "name": "stdout",
     "output_type": "stream",
     "text": [
      "Total score (averaged over agents) episode 20: -0.004999999888241291\n",
      "Score (max over agents) from episode 20: 0.0\n",
      "Rolling average score: 0.0\n",
      "Noise level:  0.2 0.2\n",
      "Actor loss: 0.03944665566086769 | Critic loss: 0.0001117241190513596\n"
     ]
    },
    {
     "name": "stderr",
     "output_type": "stream",
     "text": [
      "training loop:   3% |#                                                        |\r"
     ]
    },
    {
     "name": "stdout",
     "output_type": "stream",
     "text": [
      "Total score (averaged over agents) episode 40: -0.004999999888241291\n",
      "Score (max over agents) from episode 40: 0.0\n",
      "Rolling average score: 0.0022500000428408383\n",
      "Noise level:  0.2 0.2\n",
      "Actor loss: 0.00025725935120135546 | Critic loss: 2.8071150154573843e-05\n"
     ]
    },
    {
     "name": "stderr",
     "output_type": "stream",
     "text": [
      "training loop:   5% |##                                                       |\r"
     ]
    },
    {
     "name": "stdout",
     "output_type": "stream",
     "text": [
      "Total score (averaged over agents) episode 60: -0.004999999888241291\n",
      "Score (max over agents) from episode 60: 0.0\n",
      "Rolling average score: 0.006166666777183612\n",
      "Noise level:  0.2 0.2\n",
      "Actor loss: 0.0012401251588016748 | Critic loss: 2.004933776333928e-05\n"
     ]
    },
    {
     "name": "stderr",
     "output_type": "stream",
     "text": [
      "training loop:   6% |###                                                      |\r"
     ]
    },
    {
     "name": "stdout",
     "output_type": "stream",
     "text": [
      "Total score (averaged over agents) episode 80: 0.04500000085681677\n",
      "Score (max over agents) from episode 80: 0.10000000149011612\n",
      "Rolling average score: 0.010625000181607901\n",
      "Noise level:  0.2 0.2\n",
      "Actor loss: -0.004137566313147545 | Critic loss: 4.158737283432856e-05\n"
     ]
    },
    {
     "name": "stderr",
     "output_type": "stream",
     "text": [
      "training loop:   8% |####                                                     |\r"
     ]
    },
    {
     "name": "stdout",
     "output_type": "stream",
     "text": [
      "Total score (averaged over agents) episode 100: -0.004999999888241291\n",
      "Score (max over agents) from episode 100: 0.0\n",
      "Rolling average score: 0.009400000162422657\n",
      "Noise level:  0.2 0.2\n",
      "Actor loss: -0.016995370388031006 | Critic loss: 0.00011927062587346882\n"
     ]
    },
    {
     "name": "stderr",
     "output_type": "stream",
     "text": [
      "training loop:  10% |#####                                                    |\r"
     ]
    },
    {
     "name": "stdout",
     "output_type": "stream",
     "text": [
      "Total score (averaged over agents) episode 120: -0.004999999888241291\n",
      "Score (max over agents) from episode 120: 0.0\n",
      "Rolling average score: 0.020100000333040952\n",
      "Noise level:  0.2 0.2\n",
      "Actor loss: -0.01457118708640337 | Critic loss: 7.651789201190695e-05\n"
     ]
    },
    {
     "name": "stderr",
     "output_type": "stream",
     "text": [
      "training loop:  11% |######                                                   |\r"
     ]
    },
    {
     "name": "stdout",
     "output_type": "stream",
     "text": [
      "Total score (averaged over agents) episode 140: 0.04500000085681677\n",
      "Score (max over agents) from episode 140: 0.10000000149011612\n",
      "Rolling average score: 0.025800000429153442\n",
      "Noise level:  0.2 0.2\n",
      "Actor loss: -0.00830402784049511 | Critic loss: 8.62777087604627e-05\n"
     ]
    },
    {
     "name": "stderr",
     "output_type": "stream",
     "text": [
      "training loop:  13% |#######                                                  |\r"
     ]
    },
    {
     "name": "stdout",
     "output_type": "stream",
     "text": [
      "Total score (averaged over agents) episode 160: -0.004999999888241291\n",
      "Score (max over agents) from episode 160: 0.0\n",
      "Rolling average score: 0.024900000412017106\n",
      "Noise level:  0.2 0.2\n",
      "Actor loss: -0.014501395635306835 | Critic loss: 7.192746124928817e-05\n"
     ]
    },
    {
     "name": "stderr",
     "output_type": "stream",
     "text": [
      "training loop:  15% |########                                                 |\r"
     ]
    },
    {
     "name": "stdout",
     "output_type": "stream",
     "text": [
      "Total score (averaged over agents) episode 180: -0.004999999888241291\n",
      "Score (max over agents) from episode 180: 0.0\n",
      "Rolling average score: 0.020100000333040952\n",
      "Noise level:  0.2 0.2\n",
      "Actor loss: -0.007516906596720219 | Critic loss: 7.176194048952311e-05\n"
     ]
    },
    {
     "name": "stderr",
     "output_type": "stream",
     "text": [
      "training loop:  16% |#########                                                |\r"
     ]
    },
    {
     "name": "stdout",
     "output_type": "stream",
     "text": [
      "Total score (averaged over agents) episode 200: -0.004999999888241291\n",
      "Score (max over agents) from episode 200: 0.0\n",
      "Rolling average score: 0.029000000469386576\n",
      "Noise level:  0.2 0.2\n",
      "Actor loss: -0.02053249627351761 | Critic loss: 0.0001221338752657175\n"
     ]
    },
    {
     "name": "stderr",
     "output_type": "stream",
     "text": [
      "training loop:  18% |##########                                               |\r"
     ]
    },
    {
     "name": "stdout",
     "output_type": "stream",
     "text": [
      "Total score (averaged over agents) episode 220: -0.004999999888241291\n",
      "Score (max over agents) from episode 220: 0.0\n",
      "Rolling average score: 0.03500000055879354\n",
      "Noise level:  0.2 0.2\n",
      "Actor loss: -0.0420016311109066 | Critic loss: 0.00024379478418268263\n"
     ]
    },
    {
     "name": "stderr",
     "output_type": "stream",
     "text": [
      "training loop:  20% |###########                                              |\r"
     ]
    },
    {
     "name": "stdout",
     "output_type": "stream",
     "text": [
      "Total score (averaged over agents) episode 240: -0.004999999888241291\n",
      "Score (max over agents) from episode 240: 0.0\n",
      "Rolling average score: 0.040200000628829\n",
      "Noise level:  0.2 0.2\n",
      "Actor loss: -0.03596439212560654 | Critic loss: 0.00013765081530436873\n"
     ]
    },
    {
     "name": "stderr",
     "output_type": "stream",
     "text": [
      "training loop:  21% |###########                                              |\r"
     ]
    },
    {
     "name": "stdout",
     "output_type": "stream",
     "text": [
      "Total score (averaged over agents) episode 260: 0.04500000085681677\n",
      "Score (max over agents) from episode 260: 0.10000000149011612\n",
      "Rolling average score: 0.05190000081434846\n",
      "Noise level:  0.2 0.2\n",
      "Actor loss: -0.03148367255926132 | Critic loss: 0.00010129783186130226\n"
     ]
    },
    {
     "name": "stderr",
     "output_type": "stream",
     "text": [
      "training loop:  23% |#############                                            |\r"
     ]
    },
    {
     "name": "stdout",
     "output_type": "stream",
     "text": [
      "Total score (averaged over agents) episode 280: 0.04500000085681677\n",
      "Score (max over agents) from episode 280: 0.10000000149011612\n",
      "Rolling average score: 0.07090000113472343\n",
      "Noise level:  0.2 0.2\n",
      "Actor loss: -0.04737410694360733 | Critic loss: 0.00011718257883330807\n"
     ]
    },
    {
     "name": "stderr",
     "output_type": "stream",
     "text": [
      "training loop:  25% |##############                                           |\r"
     ]
    },
    {
     "name": "stdout",
     "output_type": "stream",
     "text": [
      "Total score (averaged over agents) episode 300: 0.04500000085681677\n",
      "Score (max over agents) from episode 300: 0.10000000149011612\n",
      "Rolling average score: 0.07870000125840307\n",
      "Noise level:  0.2 0.2\n",
      "Actor loss: -0.04430166631937027 | Critic loss: 0.00011474888742668554\n"
     ]
    },
    {
     "name": "stderr",
     "output_type": "stream",
     "text": [
      "training loop:  26% |##############                                           |\r"
     ]
    },
    {
     "name": "stdout",
     "output_type": "stream",
     "text": [
      "Total score (averaged over agents) episode 320: 0.09500000160187483\n",
      "Score (max over agents) from episode 320: 0.10000000149011612\n",
      "Rolling average score: 0.08130000131204725\n",
      "Noise level:  0.2 0.2\n",
      "Actor loss: -0.05139379948377609 | Critic loss: 0.0002011981705436483\n"
     ]
    },
    {
     "name": "stderr",
     "output_type": "stream",
     "text": [
      "training loop:  28% |###############                                          |\r"
     ]
    },
    {
     "name": "stdout",
     "output_type": "stream",
     "text": [
      "Total score (averaged over agents) episode 340: 0.04500000085681677\n",
      "Score (max over agents) from episode 340: 0.10000000149011612\n",
      "Rolling average score: 0.08790000142529607\n",
      "Noise level:  0.2 0.2\n",
      "Actor loss: -0.03885119780898094 | Critic loss: 0.00013738380221184343\n"
     ]
    },
    {
     "name": "stderr",
     "output_type": "stream",
     "text": [
      "training loop:  30% |#################                                        |\r"
     ]
    },
    {
     "name": "stdout",
     "output_type": "stream",
     "text": [
      "Total score (averaged over agents) episode 360: 0.04500000085681677\n",
      "Score (max over agents) from episode 360: 0.10000000149011612\n",
      "Rolling average score: 0.09170000148937106\n",
      "Noise level:  0.2 0.2\n",
      "Actor loss: -0.03797643631696701 | Critic loss: 8.407323912251741e-05\n"
     ]
    },
    {
     "name": "stderr",
     "output_type": "stream",
     "text": [
      "training loop:  31% |#################                                        |\r"
     ]
    },
    {
     "name": "stdout",
     "output_type": "stream",
     "text": [
      "Total score (averaged over agents) episode 380: 0.245000003837049\n",
      "Score (max over agents) from episode 380: 0.2900000046938658\n",
      "Rolling average score: 0.09620000153779984\n",
      "Noise level:  0.2 0.2\n",
      "Actor loss: -0.03355477750301361 | Critic loss: 0.00018611866107676178\n"
     ]
    },
    {
     "name": "stderr",
     "output_type": "stream",
     "text": [
      "training loop:  33% |##################                                       |\r"
     ]
    },
    {
     "name": "stdout",
     "output_type": "stream",
     "text": [
      "Total score (averaged over agents) episode 400: 0.09500000160187483\n",
      "Score (max over agents) from episode 400: 0.10000000149011612\n",
      "Rolling average score: 0.10480000168085098\n",
      "Noise level:  0.2 0.2\n",
      "Actor loss: -0.04667658358812332 | Critic loss: 0.00020061203395016491\n"
     ]
    },
    {
     "name": "stderr",
     "output_type": "stream",
     "text": [
      "training loop:  35% |###################                                      |\r"
     ]
    },
    {
     "name": "stdout",
     "output_type": "stream",
     "text": [
      "Total score (averaged over agents) episode 420: 0.6450000097975135\n",
      "Score (max over agents) from episode 420: 0.7000000104308128\n",
      "Rolling average score: 0.12350000193342567\n",
      "Noise level:  0.2 0.2\n",
      "Actor loss: -0.06386715918779373 | Critic loss: 0.0002963786537293345\n"
     ]
    },
    {
     "name": "stderr",
     "output_type": "stream",
     "text": [
      "training loop:  36% |####################                                     |\r"
     ]
    },
    {
     "name": "stdout",
     "output_type": "stream",
     "text": [
      "Total score (averaged over agents) episode 440: 0.19500000309199095\n",
      "Score (max over agents) from episode 440: 0.20000000298023224\n",
      "Rolling average score: 0.14190000219270588\n",
      "Noise level:  0.2 0.2\n",
      "Actor loss: -0.07311342656612396 | Critic loss: 0.0002697597665246576\n"
     ]
    },
    {
     "name": "stderr",
     "output_type": "stream",
     "text": [
      "training loop:  38% |#####################                                    |\r"
     ]
    },
    {
     "name": "stdout",
     "output_type": "stream",
     "text": [
      "Total score (averaged over agents) episode 460: 0.4950000075623393\n",
      "Score (max over agents) from episode 460: 0.5000000074505806\n",
      "Rolling average score: 0.17520000267773866\n",
      "Noise level:  0.2 0.2\n",
      "Actor loss: -0.08427155762910843 | Critic loss: 0.00021722537348978221\n"
     ]
    },
    {
     "name": "stderr",
     "output_type": "stream",
     "text": [
      "training loop:  40% |######################                                   |\r"
     ]
    },
    {
     "name": "stdout",
     "output_type": "stream",
     "text": [
      "Total score (averaged over agents) episode 480: -0.004999999888241291\n",
      "Score (max over agents) from episode 480: 0.0\n",
      "Rolling average score: 0.1884000028669834\n",
      "Noise level:  0.2 0.2\n",
      "Actor loss: -0.08020435273647308 | Critic loss: 0.00022351916413754225\n"
     ]
    },
    {
     "name": "stderr",
     "output_type": "stream",
     "text": [
      "training loop:  41% |#######################                                  |\r"
     ]
    },
    {
     "name": "stdout",
     "output_type": "stream",
     "text": [
      "Total score (averaged over agents) episode 500: 0.29500000458210707\n",
      "Score (max over agents) from episode 500: 0.30000000447034836\n",
      "Rolling average score: 0.18900000285357238\n",
      "Noise level:  0.2 0.2\n",
      "Actor loss: -0.084547258913517 | Critic loss: 0.00020875065820291638\n"
     ]
    },
    {
     "name": "stderr",
     "output_type": "stream",
     "text": [
      "training loop:  43% |########################                                 |\r"
     ]
    },
    {
     "name": "stdout",
     "output_type": "stream",
     "text": [
      "Total score (averaged over agents) episode 520: 0.04500000085681677\n",
      "Score (max over agents) from episode 520: 0.10000000149011612\n",
      "Rolling average score: 0.21090000318363308\n",
      "Noise level:  0.2 0.2\n",
      "Actor loss: -0.09908083081245422 | Critic loss: 0.00026844703825190663\n"
     ]
    },
    {
     "name": "stderr",
     "output_type": "stream",
     "text": [
      "training loop:  45% |#########################                                |\r"
     ]
    },
    {
     "name": "stdout",
     "output_type": "stream",
     "text": [
      "Total score (averaged over agents) episode 540: 0.3450000053271651\n",
      "Score (max over agents) from episode 540: 0.4000000059604645\n",
      "Rolling average score: 0.23050000349059702\n",
      "Noise level:  0.2 0.2\n",
      "Actor loss: -0.10442500561475754 | Critic loss: 0.0002711365814320743\n"
     ]
    },
    {
     "name": "stderr",
     "output_type": "stream",
     "text": [
      "training loop:  46% |##########################                               |\r"
     ]
    },
    {
     "name": "stdout",
     "output_type": "stream",
     "text": [
      "Total score (averaged over agents) episode 560: 0.09500000160187483\n",
      "Score (max over agents) from episode 560: 0.10000000149011612\n",
      "Rolling average score: 0.22560000341385603\n",
      "Noise level:  0.2 0.2\n",
      "Actor loss: -0.11625920981168747 | Critic loss: 0.0003003115707542747\n"
     ]
    },
    {
     "name": "stderr",
     "output_type": "stream",
     "text": [
      "training loop:  48% |###########################                              |\r"
     ]
    },
    {
     "name": "stdout",
     "output_type": "stream",
     "text": [
      "Total score (averaged over agents) episode 580: 0.09500000160187483\n",
      "Score (max over agents) from episode 580: 0.10000000149011612\n",
      "Rolling average score: 0.2067000031284988\n",
      "Noise level:  0.2 0.2\n",
      "Actor loss: -0.11592148244380951 | Critic loss: 0.00030256417812779546\n"
     ]
    },
    {
     "name": "stderr",
     "output_type": "stream",
     "text": [
      "training loop:  50% |############################                             |\r"
     ]
    },
    {
     "name": "stdout",
     "output_type": "stream",
     "text": [
      "Total score (averaged over agents) episode 600: 0.19500000309199095\n",
      "Score (max over agents) from episode 600: 0.20000000298023224\n",
      "Rolling average score: 0.23460000354796648\n",
      "Noise level:  0.2 0.2\n",
      "Actor loss: -0.12021049857139587 | Critic loss: 0.00029227431514300406\n"
     ]
    },
    {
     "name": "stderr",
     "output_type": "stream",
     "text": [
      "training loop:  51% |#############################                            |\r"
     ]
    },
    {
     "name": "stdout",
     "output_type": "stream",
     "text": [
      "Total score (averaged over agents) episode 620: 0.04500000085681677\n",
      "Score (max over agents) from episode 620: 0.10000000149011612\n",
      "Rolling average score: 0.25070000378414986\n",
      "Noise level:  0.2 0.2\n",
      "Actor loss: -0.1314949095249176 | Critic loss: 0.0004551848105620593\n"
     ]
    },
    {
     "name": "stderr",
     "output_type": "stream",
     "text": [
      "training loop:  53% |##############################                           |\r"
     ]
    },
    {
     "name": "stdout",
     "output_type": "stream",
     "text": [
      "Total score (averaged over agents) episode 640: -0.004999999888241291\n",
      "Score (max over agents) from episode 640: 0.0\n",
      "Rolling average score: 0.2801000042073429\n",
      "Noise level:  0.2 0.2\n",
      "Actor loss: -0.12565071880817413 | Critic loss: 0.0006201795185916126\n"
     ]
    },
    {
     "name": "stderr",
     "output_type": "stream",
     "text": [
      "training loop:  55% |###############################                          |\r"
     ]
    },
    {
     "name": "stdout",
     "output_type": "stream",
     "text": [
      "Total score (averaged over agents) episode 660: 0.09500000160187483\n",
      "Score (max over agents) from episode 660: 0.10000000149011612\n",
      "Rolling average score: 0.25230000378564\n",
      "Noise level:  0.2 0.2\n",
      "Actor loss: -0.13035117089748383 | Critic loss: 0.00035916490014642477\n"
     ]
    },
    {
     "name": "stderr",
     "output_type": "stream",
     "text": [
      "training loop:  56% |###############################                          |\r"
     ]
    },
    {
     "name": "stdout",
     "output_type": "stream",
     "text": [
      "Total score (averaged over agents) episode 680: 0.09500000160187483\n",
      "Score (max over agents) from episode 680: 0.10000000149011612\n",
      "Rolling average score: 0.315400004722178\n",
      "Noise level:  0.2 0.2\n",
      "Actor loss: -0.13700249791145325 | Critic loss: 0.0002821945818141103\n"
     ]
    },
    {
     "name": "stderr",
     "output_type": "stream",
     "text": [
      "training loop:  58% |#################################                        |\r"
     ]
    },
    {
     "name": "stdout",
     "output_type": "stream",
     "text": [
      "Total score (averaged over agents) episode 700: 0.04500000085681677\n",
      "Score (max over agents) from episode 700: 0.10000000149011612\n",
      "Rolling average score: 0.31530000472441316\n",
      "Noise level:  0.2 0.2\n",
      "Actor loss: -0.16438257694244385 | Critic loss: 0.00042281363857910037\n"
     ]
    },
    {
     "name": "stderr",
     "output_type": "stream",
     "text": [
      "training loop:  60% |##################################                       |\r"
     ]
    },
    {
     "name": "stdout",
     "output_type": "stream",
     "text": [
      "Total score (averaged over agents) episode 720: 0.09500000160187483\n",
      "Score (max over agents) from episode 720: 0.10000000149011612\n",
      "Rolling average score: 0.3050000045821071\n",
      "Noise level:  0.2 0.2\n",
      "Actor loss: -0.13851584494113922 | Critic loss: 0.00035180250415578485\n"
     ]
    },
    {
     "name": "stderr",
     "output_type": "stream",
     "text": [
      "training loop:  61% |##################################                       |\r"
     ]
    },
    {
     "name": "stdout",
     "output_type": "stream",
     "text": [
      "Total score (averaged over agents) episode 740: 1.145000017248094\n",
      "Score (max over agents) from episode 740: 1.2000000178813934\n",
      "Rolling average score: 0.31600000474601986\n",
      "Noise level:  0.2 0.2\n",
      "Actor loss: -0.16457900404930115 | Critic loss: 0.00041653186781331897\n"
     ]
    },
    {
     "name": "stderr",
     "output_type": "stream",
     "text": [
      "training loop:  63% |###################################                      |\r"
     ]
    },
    {
     "name": "stdout",
     "output_type": "stream",
     "text": [
      "Total score (averaged over agents) episode 760: 0.04500000085681677\n",
      "Score (max over agents) from episode 760: 0.10000000149011612\n",
      "Rolling average score: 0.354500005338341\n",
      "Noise level:  0.2 0.2\n",
      "Actor loss: -0.16545981168746948 | Critic loss: 0.00043701654067263007\n"
     ]
    },
    {
     "name": "stderr",
     "output_type": "stream",
     "text": [
      "training loop:  65% |#####################################                    |\r"
     ]
    },
    {
     "name": "stdout",
     "output_type": "stream",
     "text": [
      "Total score (averaged over agents) episode 780: 0.29500000458210707\n",
      "Score (max over agents) from episode 780: 0.30000000447034836\n",
      "Rolling average score: 0.3704000055789948\n",
      "Noise level:  0.2 0.2\n",
      "Actor loss: -0.14052553474903107 | Critic loss: 0.0003811375645454973\n"
     ]
    },
    {
     "name": "stderr",
     "output_type": "stream",
     "text": [
      "training loop:  66% |#####################################                    |\r"
     ]
    },
    {
     "name": "stdout",
     "output_type": "stream",
     "text": [
      "Total score (averaged over agents) episode 800: 0.04500000085681677\n",
      "Score (max over agents) from episode 800: 0.10000000149011612\n",
      "Rolling average score: 0.35550000535324217\n",
      "Noise level:  0.2 0.2\n",
      "Actor loss: -0.17425058782100677 | Critic loss: 0.0004952250747010112\n"
     ]
    },
    {
     "name": "stderr",
     "output_type": "stream",
     "text": [
      "training loop:  68% |######################################                   |\r"
     ]
    },
    {
     "name": "stdout",
     "output_type": "stream",
     "text": [
      "Total score (averaged over agents) episode 820: 1.5450000232085586\n",
      "Score (max over agents) from episode 820: 1.600000023841858\n",
      "Rolling average score: 0.35850000539794563\n",
      "Noise level:  0.2 0.2\n",
      "Actor loss: -0.17037412524223328 | Critic loss: 0.00038237107219174504\n"
     ]
    },
    {
     "name": "stderr",
     "output_type": "stream",
     "text": [
      "training loop:  70% |#######################################                  |\r"
     ]
    },
    {
     "name": "stdout",
     "output_type": "stream",
     "text": [
      "Total score (averaged over agents) episode 840: 0.04500000085681677\n",
      "Score (max over agents) from episode 840: 0.10000000149011612\n",
      "Rolling average score: 0.3315000049956143\n",
      "Noise level:  0.2 0.2\n",
      "Actor loss: -0.17550043761730194 | Critic loss: 0.0002486685407347977\n"
     ]
    },
    {
     "name": "stderr",
     "output_type": "stream",
     "text": [
      "training loop:  71% |########################################                 |\r"
     ]
    },
    {
     "name": "stdout",
     "output_type": "stream",
     "text": [
      "Total score (averaged over agents) episode 860: 0.44500000681728125\n",
      "Score (max over agents) from episode 860: 0.5000000074505806\n",
      "Rolling average score: 0.3338000050187111\n",
      "Noise level:  0.2 0.2\n",
      "Actor loss: -0.16819459199905396 | Critic loss: 0.00033797055948525667\n"
     ]
    },
    {
     "name": "stderr",
     "output_type": "stream",
     "text": [
      "training loop:  73% |#########################################                |\r"
     ]
    },
    {
     "name": "stdout",
     "output_type": "stream",
     "text": [
      "Total score (averaged over agents) episode 880: 0.19500000309199095\n",
      "Score (max over agents) from episode 880: 0.20000000298023224\n",
      "Rolling average score: 0.3237000048719347\n",
      "Noise level:  0.2 0.2\n",
      "Actor loss: -0.1859704554080963 | Critic loss: 0.00027659733314067125\n"
     ]
    },
    {
     "name": "stderr",
     "output_type": "stream",
     "text": [
      "training loop:  75% |##########################################               |\r"
     ]
    },
    {
     "name": "stdout",
     "output_type": "stream",
     "text": [
      "Total score (averaged over agents) episode 900: 1.2450000187382102\n",
      "Score (max over agents) from episode 900: 1.290000019595027\n",
      "Rolling average score: 0.36270000545307995\n",
      "Noise level:  0.2 0.2\n",
      "Actor loss: -0.1625099778175354 | Critic loss: 0.0003593800647649914\n"
     ]
    },
    {
     "name": "stderr",
     "output_type": "stream",
     "text": [
      "training loop:  76% |###########################################              |\r"
     ]
    },
    {
     "name": "stdout",
     "output_type": "stream",
     "text": [
      "Total score (averaged over agents) episode 920: 0.29500000458210707\n",
      "Score (max over agents) from episode 920: 0.30000000447034836\n",
      "Rolling average score: 0.4288000064343214\n",
      "Noise level:  0.2 0.2\n",
      "Actor loss: -0.18972064554691315 | Critic loss: 0.0004110183217562735\n"
     ]
    },
    {
     "name": "stderr",
     "output_type": "stream",
     "text": [
      "training loop:  78% |############################################             |\r"
     ]
    },
    {
     "name": "stdout",
     "output_type": "stream",
     "text": [
      "Total score (averaged over agents) episode 940: 0.245000003837049\n",
      "Score (max over agents) from episode 940: 0.2900000046938658\n",
      "Rolling average score: 0.4368000065535307\n",
      "Noise level:  0.2 0.2\n",
      "Actor loss: -0.19277524948120117 | Critic loss: 0.00033060077112168074\n"
     ]
    },
    {
     "name": "stderr",
     "output_type": "stream",
     "text": [
      "training loop:  80% |#############################################            |\r"
     ]
    },
    {
     "name": "stdout",
     "output_type": "stream",
     "text": [
      "Total score (averaged over agents) episode 960: 0.09500000160187483\n",
      "Score (max over agents) from episode 960: 0.10000000149011612\n",
      "Rolling average score: 0.47800000716000796\n",
      "Noise level:  0.2 0.2\n",
      "Actor loss: -0.18547353148460388 | Critic loss: 0.0003937282017432153\n"
     ]
    },
    {
     "name": "stderr",
     "output_type": "stream",
     "text": [
      "training loop:  81% |##############################################           |\r"
     ]
    },
    {
     "name": "stdout",
     "output_type": "stream",
     "text": [
      "Total score (averaged over agents) episode 980: 1.045000015757978\n",
      "Score (max over agents) from episode 980: 1.1000000163912773\n",
      "Rolling average score: 0.47220000706613063\n",
      "Noise level:  0.2 0.2\n",
      "Actor loss: -0.18325674533843994 | Critic loss: 0.0005491498159244657\n"
     ]
    },
    {
     "name": "stderr",
     "output_type": "stream",
     "text": [
      "training loop:  83% |###############################################          |\r"
     ]
    },
    {
     "name": "stdout",
     "output_type": "stream",
     "text": [
      "Total score (averaged over agents) episode 1000: 0.09500000160187483\n",
      "Score (max over agents) from episode 1000: 0.10000000149011612\n",
      "Rolling average score: 0.44540000665932894\n",
      "Noise level:  0.2 0.2\n",
      "Actor loss: -0.19607973098754883 | Critic loss: 0.00034292455529794097\n"
     ]
    },
    {
     "name": "stderr",
     "output_type": "stream",
     "text": [
      "training loop:  85% |################################################         |\r"
     ]
    },
    {
     "name": "stdout",
     "output_type": "stream",
     "text": [
      "Total score (averaged over agents) episode 1020: 0.04500000085681677\n",
      "Score (max over agents) from episode 1020: 0.10000000149011612\n",
      "Rolling average score: 0.3825000057183206\n",
      "Noise level:  0.2 0.2\n",
      "Actor loss: -0.1820012331008911 | Critic loss: 0.00027267145924270153\n"
     ]
    },
    {
     "name": "stderr",
     "output_type": "stream",
     "text": [
      "training loop:  86% |#################################################        |\r"
     ]
    },
    {
     "name": "stdout",
     "output_type": "stream",
     "text": [
      "Total score (averaged over agents) episode 1040: 0.09500000160187483\n",
      "Score (max over agents) from episode 1040: 0.10000000149011612\n",
      "Rolling average score: 0.3405000051110983\n",
      "Noise level:  0.2 0.2\n",
      "Actor loss: -0.17865170538425446 | Critic loss: 0.0005985886673443019\n"
     ]
    },
    {
     "name": "stderr",
     "output_type": "stream",
     "text": [
      "training loop:  88% |##################################################       |\r"
     ]
    },
    {
     "name": "stdout",
     "output_type": "stream",
     "text": [
      "Total score (averaged over agents) episode 1060: 0.7950000120326877\n",
      "Score (max over agents) from episode 1060: 0.800000011920929\n",
      "Rolling average score: 0.2900000043772161\n",
      "Noise level:  0.2 0.2\n",
      "Actor loss: -0.17995105683803558 | Critic loss: 0.0002907932212110609\n"
     ]
    },
    {
     "name": "stderr",
     "output_type": "stream",
     "text": [
      "training loop:  90% |###################################################      |\r"
     ]
    },
    {
     "name": "stdout",
     "output_type": "stream",
     "text": [
      "Total score (averaged over agents) episode 1080: 0.4950000075623393\n",
      "Score (max over agents) from episode 1080: 0.5000000074505806\n",
      "Rolling average score: 0.3057000046223402\n",
      "Noise level:  0.2 0.2\n",
      "Actor loss: -0.18619056046009064 | Critic loss: 0.0003830206114798784\n"
     ]
    },
    {
     "name": "stderr",
     "output_type": "stream",
     "text": [
      "training loop:  91% |###################################################      |\r"
     ]
    },
    {
     "name": "stdout",
     "output_type": "stream",
     "text": [
      "Total score (averaged over agents) episode 1100: 0.1450000023469329\n",
      "Score (max over agents) from episode 1100: 0.20000000298023224\n",
      "Rolling average score: 0.3325000050291419\n",
      "Noise level:  0.2 0.2\n",
      "Actor loss: -0.21060800552368164 | Critic loss: 0.000483419222291559\n"
     ]
    },
    {
     "name": "stderr",
     "output_type": "stream",
     "text": [
      "training loop:  93% |#####################################################    |\r"
     ]
    },
    {
     "name": "stdout",
     "output_type": "stream",
     "text": [
      "Total score (averaged over agents) episode 1120: 0.09500000160187483\n",
      "Score (max over agents) from episode 1120: 0.10000000149011612\n",
      "Rolling average score: 0.3546000053547323\n",
      "Noise level:  0.2 0.2\n",
      "Actor loss: -0.21464687585830688 | Critic loss: 0.0005458879168145359\n"
     ]
    },
    {
     "name": "stderr",
     "output_type": "stream",
     "text": [
      "training loop:  95% |######################################################   |\r"
     ]
    },
    {
     "name": "stdout",
     "output_type": "stream",
     "text": [
      "Total score (averaged over agents) episode 1140: 0.19500000309199095\n",
      "Score (max over agents) from episode 1140: 0.20000000298023224\n",
      "Rolling average score: 0.4077000061236322\n",
      "Noise level:  0.2 0.2\n",
      "Actor loss: -0.20290127396583557 | Critic loss: 0.0004250119091011584\n"
     ]
    },
    {
     "name": "stderr",
     "output_type": "stream",
     "text": [
      "training loop:  96% |######################################################   |\r"
     ]
    },
    {
     "name": "stdout",
     "output_type": "stream",
     "text": [
      "Total score (averaged over agents) episode 1160: 0.1450000023469329\n",
      "Score (max over agents) from episode 1160: 0.20000000298023224\n",
      "Rolling average score: 0.4611000069230795\n",
      "Noise level:  0.2 0.2\n",
      "Actor loss: -0.21081842482089996 | Critic loss: 0.00045721285277977586\n"
     ]
    },
    {
     "name": "stderr",
     "output_type": "stream",
     "text": [
      "training loop:  98% |#######################################################  |\r"
     ]
    },
    {
     "name": "stdout",
     "output_type": "stream",
     "text": [
      "Total score (averaged over agents) episode 1180: 0.04500000085681677\n",
      "Score (max over agents) from episode 1180: 0.10000000149011612\n",
      "Rolling average score: 0.46620000699535014\n",
      "Noise level:  0.2 0.2\n",
      "Actor loss: -0.22715260088443756 | Critic loss: 0.0004124463303014636\n"
     ]
    },
    {
     "name": "stderr",
     "output_type": "stream",
     "text": [
      "training loop: 100% |#########################################################|\r"
     ]
    },
    {
     "name": "stdout",
     "output_type": "stream",
     "text": [
      "Total score (averaged over agents) episode 1200: 0.5950000090524554\n",
      "Score (max over agents) from episode 1200: 0.6000000089406967\n",
      "Rolling average score: 0.4355000065267086\n",
      "Noise level:  0.2 0.2\n",
      "Actor loss: -0.20389442145824432 | Critic loss: 0.0002737015311140567\n"
     ]
    },
    {
     "name": "stderr",
     "output_type": "stream",
     "text": [
      "\n"
     ]
    }
   ],
   "source": [
    "\n",
    "widget = ['training loop: ', pb.Percentage(), ' ', pb.Bar()]#, ' ', pb.ETA() ]\n",
    "timer = pb.ProgressBar(widgets=widget, maxval=nr_episodes).start()\n",
    "min_buffer = num_agents*batch_size\n",
    "assert min_buffer<max_buffer, 'minimal length of buffer for update (min_buffer) smaller than buffer memory (max_buffer)!'\n",
    "ACloss = []\n",
    "l_exists = False\n",
    "e_score = np.zeros(nr_episodes)\n",
    "rolling_avg = np.zeros(nr_episodes)\n",
    "rolling_window = deque(maxlen=100)\n",
    "t=0\n",
    "for i in range(nr_episodes):                                         # play game for nr_episodes episodes\n",
    "    env_info = env.reset(train_mode=True)[brain_name]     # reset the environment    \n",
    "    states = env_info.vector_observations                  # get the current state (for each agent)\n",
    "    ouA.reset()\n",
    "    ouB.reset()\n",
    "    scores = np.zeros(num_agents)                          # initialize the score (for each agent)\n",
    "    while True:#t<T_max:\n",
    "        t+=1\n",
    "        # select action\n",
    "        agent.actor.eval()\n",
    "        actA  = agent.act(states[np.newaxis,0]).data.cpu().numpy() + ouA.noise()\n",
    "        actB = agent.act(states[np.newaxis,1]).data.cpu().numpy() + ouB.noise()\n",
    "        actions = np.clip([actA[0], actB[0]],-1,1) # select an action (for each agent)\n",
    "        # execute and observe\n",
    "        #actions = [np.array([0.1,1]),np.array([0.1,1])]\n",
    "        env_info = env.step(actions)[brain_name]           # send all actions to tne environment\n",
    "        next_states = env_info.vector_observations         # get next state (for each agent)\n",
    "        rewards = env_info.rewards                         # get reward (for each agent)\n",
    "        dones = env_info.local_done                        # see if episode finished\n",
    "        # store in replay buffer\n",
    "        samples = [states, np.asarray(actions), np.asarray(rewards), next_states, dones]\n",
    "        buffer.store(samples)\n",
    "        # roll over states to next time step\n",
    "        states = next_states                               \n",
    "        # keep track of scores\n",
    "        scores += env_info.rewards                         # update the score (for each agent)\n",
    "        # Update agents\n",
    "        if ((t-1) % update_steps == 0) and len(buffer.buffer) > batch_size:\n",
    "            l_exists = True\n",
    "            agent.actor.train()\n",
    "            #for a_i in np.random.permutation(num_agents): #ideally you would like to sample the agents randomly \n",
    "            for ep in range(GD_steps):\n",
    "                minibatch = buffer.get_batch(batch_size)  # get batch of size (batch_size x 5) where the 2nd dim corresponds to (s,a,r,s',done)\n",
    "                agent_i = np.random.choice(num_agents,len(minibatch))\n",
    "                closs = agent.update_critic(minibatch,agent_i)\n",
    "                aloss = agent.update_actor(minibatch,agent_i)\n",
    "            #ACloss.append([aloss,closs])\n",
    "                    \n",
    "        # Update target network\n",
    "        if agent.tau == 1 and t% int(2*update_steps) == 0:\n",
    "            agent.target_update()\n",
    "        else:\n",
    "            agent.target_update()\n",
    "        # exit loop if episode finished\n",
    "        if np.any(dones): \n",
    "            break\n",
    "    \n",
    "    if l_exists:\n",
    "        ACloss.append([aloss,closs])\n",
    "\n",
    "    ouA.sigma *= noise_decay\n",
    "    ouB.sigma *= noise_decay\n",
    "    \n",
    "    e_score[i] = np.max(scores)\n",
    "    rolling_window.append(e_score[i])\n",
    "    rolling_avg[i] = np.mean(np.array(rolling_window))\n",
    "    if (i+1) % 20 == 0:\n",
    "        print('Total score (averaged over agents) episode {}: {}'.format(i+1,np.mean(scores)))\n",
    "        print('Score (max over agents) from episode {}: {}'.format(i+1, e_score[i]))\n",
    "        print('Rolling average score: {}'.format(rolling_avg[i]))\n",
    "        print('Noise level: ',ouA.sigma,ouB.sigma)\n",
    "        if l_exists:\n",
    "            print(\"Actor loss: {} | Critic loss: {}\".format(*ACloss[-1]))\n",
    "    \n",
    "    # update progress widget bar\n",
    "    timer.update(i+1)\n",
    "    \n",
    "timer.finish()"
   ]
  },
  {
   "cell_type": "code",
   "execution_count": 6,
   "metadata": {},
   "outputs": [
    {
     "name": "stdout",
     "output_type": "stream",
     "text": [
      "[True, True] 2\n",
      "[[0.2156305  0.91295623]]\n",
      "[[ 1.39389414 -0.63960684]]\n"
     ]
    }
   ],
   "source": [
    "dones[1] = True\n",
    "print(dones,sum(dones))\n",
    "print(actA)\n",
    "print(actB)"
   ]
  },
  {
   "cell_type": "code",
   "execution_count": 15,
   "metadata": {
    "scrolled": false
   },
   "outputs": [
    {
     "name": "stdout",
     "output_type": "stream",
     "text": [
      "(1182, 2)\n"
     ]
    },
    {
     "data": {
      "text/plain": [
       "[<matplotlib.lines.Line2D at 0x25a96cbfd30>]"
      ]
     },
     "execution_count": 15,
     "metadata": {},
     "output_type": "execute_result"
    },
    {
     "data": {
      "image/png": "[encoded data removed]",
      "text/plain": [
       "<Figure size 1080x360 with 1 Axes>"
      ]
     },
     "metadata": {
      "needs_background": "light"
     },
     "output_type": "display_data"
    },
    {
     "data": {
      "image/png": "[encoded data removed]",
      "text/plain": [
       "<Figure size 1080x360 with 2 Axes>"
      ]
     },
     "metadata": {
      "needs_background": "light"
     },
     "output_type": "display_data"
    }
   ],
   "source": [
    "ACloss = np.asarray(ACloss)\n",
    "print(ACloss.shape)\n",
    "plt.figure(figsize=(15,5))\n",
    "plt.plot(e_score)\n",
    "plt.plot(rolling_avg,'r')\n",
    "plt.plot(0.5*np.ones_like(rolling_avg),'k')\n",
    "plt.figure(figsize=(15,5))\n",
    "plt.subplot(121)\n",
    "plt.plot(ACloss[:,0])\n",
    "plt.subplot(122)\n",
    "plt.plot(ACloss[:,1])\n"
   ]
  },
  {
   "cell_type": "code",
   "execution_count": 8,
   "metadata": {},
   "outputs": [
    {
     "name": "stdout",
     "output_type": "stream",
     "text": [
      "lra 0.003, lrc 0.003, noise_lvl 0.2, noise_decay 1, batch_size 256, update_steps 5, GD_steps 4\n"
     ]
    }
   ],
   "source": [
    "# env.close()\n",
    "print('lra {}, lrc {}, noise_lvl {}, noise_decay {}, batch_size {}, update_steps {}, GD_steps {}'.format(lra, lrc, noise_lvl,noise_decay,batch_size,\n",
    "                                                                                         update_steps,GD_steps))"
   ]
  },
  {
   "cell_type": "code",
   "execution_count": 9,
   "metadata": {},
   "outputs": [
    {
     "data": {
      "text/plain": [
       "115421"
      ]
     },
     "execution_count": 9,
     "metadata": {},
     "output_type": "execute_result"
    }
   ],
   "source": [
    "len(buffer.buffer)"
   ]
  },
  {
   "cell_type": "code",
   "execution_count": 10,
   "metadata": {},
   "outputs": [
    {
     "name": "stdout",
     "output_type": "stream",
     "text": [
      "115421\n"
     ]
    }
   ],
   "source": [
    "print(t)"
   ]
  },
  {
   "cell_type": "code",
   "execution_count": 11,
   "metadata": {},
   "outputs": [
    {
     "name": "stdout",
     "output_type": "stream",
     "text": [
      "0.003\n",
      "0.003\n",
      "ActorNet(\n",
      "  (fc_in): Linear(in_features=24, out_features=128, bias=True)\n",
      "  (fc1): Linear(in_features=128, out_features=64, bias=True)\n",
      "  (fc_out): Linear(in_features=64, out_features=2, bias=True)\n",
      ")\n",
      "CriticNet(\n",
      "  (bn): BatchNorm1d(52, eps=1e-05, momentum=0.1, affine=True, track_running_stats=True)\n",
      "  (fc_in): Linear(in_features=52, out_features=256, bias=True)\n",
      "  (fc1): Linear(in_features=256, out_features=64, bias=True)\n",
      "  (fc_out): Linear(in_features=64, out_features=1, bias=True)\n",
      ")\n"
     ]
    }
   ],
   "source": [
    "for param_grp in agent.actor_optim.param_groups:\n",
    "    print(param_grp['lr'])\n",
    "for param_grp in agent.critic_optim.param_groups:\n",
    "    print(param_grp['lr'])\n",
    "print(agent.actor)\n",
    "print(agent.critic)"
   ]
  },
  {
   "cell_type": "code",
   "execution_count": 12,
   "metadata": {},
   "outputs": [
    {
     "data": {
      "text/plain": [
       "0.4901000073365867"
      ]
     },
     "execution_count": 12,
     "metadata": {},
     "output_type": "execute_result"
    }
   ],
   "source": [
    "rolling_avg.max()"
   ]
  },
  {
   "cell_type": "markdown",
   "metadata": {},
   "source": [
    "lra 0.0005, lrc 0.0005, noise_lvl 0.2, noise_decay 1, batch_size 128, update_steps 1, GD_steps 2 => 0.25"
   ]
  },
  {
   "cell_type": "code",
   "execution_count": 13,
   "metadata": {},
   "outputs": [
    {
     "name": "stdout",
     "output_type": "stream",
     "text": [
      "Best player score in episode 0: 0.10000000149011612\n",
      "Best player score in episode 1: 0.10000000149011612\n",
      "Best player score in episode 2: 0.10000000149011612\n",
      "Best player score in episode 3: 0.2900000046938658\n",
      "Best player score in episode 4: 0.10000000149011612\n"
     ]
    }
   ],
   "source": [
    "T_max = 2000\n",
    "agent.actor.eval()\n",
    "for i in range(5):                                         # play game for nr_episodes episodes\n",
    "    env_info = env.reset(train_mode=False)[brain_name]     # reset the environment    \n",
    "    states = env_info.vector_observations                  # get the current state (for each agent)\n",
    "    scores = np.zeros(num_agents)                          # initialize the score (for each agent)\n",
    "    ouA.reset()\n",
    "    ouB.reset()\n",
    "    while True:#t<T_max:\n",
    "        t+=1\n",
    "        # select action\n",
    "        actA  = agent.act(states[np.newaxis,0]).data.cpu().numpy() + ouA.noise()\n",
    "        actB = agent.act(states[np.newaxis,1]).data.cpu().numpy() + ouB.noise()\n",
    "        actions = np.clip([actA[0], actB[0]],-1,1) # select an action (for each agent)\n",
    "        # execute and observe\n",
    "        #actions = [np.array([0.1,1]),np.array([0.1,1])]\n",
    "        env_info = env.step(actions)[brain_name]           # send all actions to tne environment\n",
    "        next_states = env_info.vector_observations         # get next state (for each agent)\n",
    "        rewards = env_info.rewards                         # get reward (for each agent)\n",
    "        dones = env_info.local_done                        # see if episode finished\n",
    "        # roll over states to next time step\n",
    "        states = next_states                               \n",
    "        # keep track of scores\n",
    "        scores += env_info.rewards                         # update the score (for each agent)\n",
    "        # exit loop if episode finished\n",
    "        if np.any(dones): \n",
    "            break\n",
    "    print('Best player score in episode {}: {}'.format(i,np.max(scores)))"
   ]
  },
  {
   "cell_type": "code",
   "execution_count": 14,
   "metadata": {},
   "outputs": [],
   "source": [
    "# env.close()"
   ]
  },
  {
   "cell_type": "code",
   "execution_count": null,
   "metadata": {},
   "outputs": [],
   "source": []
  },
  {
   "cell_type": "code",
   "execution_count": null,
   "metadata": {},
   "outputs": [],
   "source": []
  }
 ],
 "metadata": {
  "kernelspec": {
   "display_name": "Python 3",
   "language": "python",
   "name": "python3"
  },
  "language_info": {
   "codemirror_mode": {
    "name": "ipython",
    "version": 3
   },
   "file_extension": ".py",
   "mimetype": "text/x-python",
   "name": "python",
   "nbconvert_exporter": "python",
   "pygments_lexer": "ipython3",
   "version": "3.6.8"
  }
 },
 "nbformat": 4,
 "nbformat_minor": 2
}
