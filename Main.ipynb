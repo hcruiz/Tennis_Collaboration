{
 "cells": [
  {
   "cell_type": "code",
   "execution_count": 1,
   "metadata": {},
   "outputs": [
    {
     "name": "stderr",
     "output_type": "stream",
     "text": [
      "INFO:unityagents:\n",
      "'Academy' started successfully!\n",
      "Unity Academy name: Academy\n",
      "        Number of Brains: 1\n",
      "        Number of External Brains : 1\n",
      "        Lesson number : 0\n",
      "        Reset Parameters :\n",
      "\t\t\n",
      "Unity brain name: TennisBrain\n",
      "        Number of Visual Observations (per agent): 0\n",
      "        Vector Observation space type: continuous\n",
      "        Vector Observation space size (per agent): 8\n",
      "        Number of stacked Vector Observation: 3\n",
      "        Vector Action space type: continuous\n",
      "        Vector Action space size (per agent): 2\n",
      "        Vector Action descriptions: , \n"
     ]
    }
   ],
   "source": [
    "from unityagents import UnityEnvironment\n",
    "env_file = 'Tennis_Linux/Tennis.x86_64'#\"Tennis_Windows_x86_64\\Tennis.exe\"\n",
    "env = UnityEnvironment(file_name=env_file, no_graphics = True)"
   ]
  },
  {
   "cell_type": "code",
   "execution_count": 2,
   "metadata": {},
   "outputs": [
    {
     "name": "stdout",
     "output_type": "stream",
     "text": [
      "using device:  cpu\n",
      "NO grad. clipping used.\n"
     ]
    }
   ],
   "source": [
    "import torch\n",
    "import numpy as np\n",
    "from collections import deque\n",
    "import progressbar as pb\n",
    "import matplotlib.pyplot as plt\n",
    "from utils import OUprocess, Reply_buffer\n",
    "from Tennis_agent import SelfPlay_Agent"
   ]
  },
  {
   "cell_type": "code",
   "execution_count": 3,
   "metadata": {},
   "outputs": [
    {
     "name": "stdout",
     "output_type": "stream",
     "text": [
      "Number of agents: 2\n",
      "Size of each action: 2\n",
      "states shape:  (2, 24)\n",
      "There are 2 agents. Each observes a state with length: 24\n",
      "The state for the first agent looks like: [ 0.          0.          0.          0.          0.          0.\n",
      "  0.          0.          0.          0.          0.          0.\n",
      "  0.          0.          0.          0.         -6.65278625 -1.5\n",
      " -0.          0.          6.83172083  6.         -0.          0.        ]\n",
      "The state for the second agent looks like: [ 0.          0.          0.          0.          0.          0.\n",
      "  0.          0.          0.          0.          0.          0.\n",
      "  0.          0.          0.          0.         -6.4669857  -1.5\n",
      "  0.          0.         -6.83172083  6.          0.          0.        ]\n"
     ]
    }
   ],
   "source": [
    "# get the default brain\n",
    "brain_name = env.brain_names[0]\n",
    "brain = env.brains[brain_name]\n",
    "\n",
    "# reset the environment\n",
    "env_info = env.reset(train_mode=True)[brain_name]\n",
    "\n",
    "# number of agents \n",
    "num_agents = len(env_info.agents)\n",
    "print('Number of agents:', num_agents)\n",
    "\n",
    "# size of each action\n",
    "action_size = brain.vector_action_space_size\n",
    "print('Size of each action:', action_size)\n",
    "\n",
    "# examine the state space \n",
    "states = env_info.vector_observations\n",
    "state_size = states.shape[1]\n",
    "print('states shape: ',states.shape)\n",
    "print('There are {} agents. Each observes a state with length: {}'.format(states.shape[0], state_size))\n",
    "print('The state for the first agent looks like:', states[0])\n",
    "print('The state for the second agent looks like:', states[1])"
   ]
  },
  {
   "cell_type": "code",
   "execution_count": 4,
   "metadata": {},
   "outputs": [],
   "source": [
    "T_max = 1000\n",
    "max_buffer = 16000 # int(1.e+6) too large, for 1000 episodes the lengs was 38051\n",
    "buffer = Reply_buffer(max_buffer)\n",
    "noise_decay = 1#0.999\n",
    "noise_lvl = 0.2\n",
    "ouA = OUprocess(action_size, sigma=noise_lvl)\n",
    "ouB = OUprocess(action_size, sigma=noise_lvl)\n",
    "batch_size = 128 #512 is bad; 64 is better (w. lr 2e-4)\n",
    "update_steps = 1 #with 5 it learns but slow and gets 'stuck' in 0.1-0.2; with 30 (and GD_steps=5) is worse\n",
    "GD_steps = 2 #with 20 it learns but slow and gets 'stuck' in 0.1-0.2, with 5 (and update_steps=30 & 2) is worse\n",
    "lra=5.e-4\n",
    "lrc=5.e-4\n",
    "agent = SelfPlay_Agent(state_size, action_size, num_agents, lr_act=lra, lr_crit=lrc)\n",
    "\n",
    "nr_episodes = 600"
   ]
  },
  {
   "cell_type": "code",
   "execution_count": 5,
   "metadata": {
    "scrolled": false
   },
   "outputs": [
    {
     "name": "stderr",
     "output_type": "stream",
     "text": [
      "training loop:   3% |#                                                        |\r"
     ]
    },
    {
     "name": "stdout",
     "output_type": "stream",
     "text": [
      "Total score (averaged over agents) episode 20: -0.004999999888241291\n",
      "Score (max over agents) from episode 20: 0.0\n",
      "Rolling average score: 0.009500000160187483\n",
      "Noise level:  0.2 0.2\n",
      "Actor loss: 0.05077890306711197 | Critic loss: 5.670694008585997e-05\n"
     ]
    },
    {
     "name": "stderr",
     "output_type": "stream",
     "text": [
      "training loop:   6% |###                                                      |\r"
     ]
    },
    {
     "name": "stdout",
     "output_type": "stream",
     "text": [
      "Total score (averaged over agents) episode 40: -0.004999999888241291\n",
      "Score (max over agents) from episode 40: 0.0\n",
      "Rolling average score: 0.007250000117346644\n",
      "Noise level:  0.2 0.2\n",
      "Actor loss: 0.02959064021706581 | Critic loss: 1.1631144843704533e-05\n"
     ]
    },
    {
     "name": "stderr",
     "output_type": "stream",
     "text": [
      "training loop:  10% |#####                                                    |\r"
     ]
    },
    {
     "name": "stdout",
     "output_type": "stream",
     "text": [
      "Total score (averaged over agents) episode 60: -0.004999999888241291\n",
      "Score (max over agents) from episode 60: 0.0\n",
      "Rolling average score: 0.006500000103066365\n",
      "Noise level:  0.2 0.2\n",
      "Actor loss: 0.015494457446038723 | Critic loss: 2.240915819129441e-05\n"
     ]
    },
    {
     "name": "stderr",
     "output_type": "stream",
     "text": [
      "training loop:  13% |#######                                                  |\r"
     ]
    },
    {
     "name": "stdout",
     "output_type": "stream",
     "text": [
      "Total score (averaged over agents) episode 80: -0.004999999888241291\n",
      "Score (max over agents) from episode 80: 0.0\n",
      "Rolling average score: 0.019375000311993063\n",
      "Noise level:  0.2 0.2\n",
      "Actor loss: 0.000493804516736418 | Critic loss: 1.1254195669607725e-05\n"
     ]
    },
    {
     "name": "stderr",
     "output_type": "stream",
     "text": [
      "training loop:  16% |#########                                                |\r"
     ]
    },
    {
     "name": "stdout",
     "output_type": "stream",
     "text": [
      "Total score (averaged over agents) episode 100: -0.004999999888241291\n",
      "Score (max over agents) from episode 100: 0.0\n",
      "Rolling average score: 0.017400000281631946\n",
      "Noise level:  0.2 0.2\n",
      "Actor loss: -0.008163287304341793 | Critic loss: 7.82106799306348e-05\n"
     ]
    },
    {
     "name": "stderr",
     "output_type": "stream",
     "text": [
      "training loop:  20% |###########                                              |\r"
     ]
    },
    {
     "name": "stdout",
     "output_type": "stream",
     "text": [
      "Total score (averaged over agents) episode 120: -0.004999999888241291\n",
      "Score (max over agents) from episode 120: 0.0\n",
      "Rolling average score: 0.01550000024959445\n",
      "Noise level:  0.2 0.2\n",
      "Actor loss: -0.016192717477679253 | Critic loss: 9.087694343179464e-05\n"
     ]
    },
    {
     "name": "stderr",
     "output_type": "stream",
     "text": [
      "training loop:  23% |#############                                            |\r"
     ]
    },
    {
     "name": "stdout",
     "output_type": "stream",
     "text": [
      "Total score (averaged over agents) episode 140: -0.004999999888241291\n",
      "Score (max over agents) from episode 140: 0.0\n",
      "Rolling average score: 0.014500000234693288\n",
      "Noise level:  0.2 0.2\n",
      "Actor loss: -0.021870464086532593 | Critic loss: 2.757500078587327e-05\n"
     ]
    },
    {
     "name": "stderr",
     "output_type": "stream",
     "text": [
      "training loop:  26% |##############                                           |\r"
     ]
    },
    {
     "name": "stdout",
     "output_type": "stream",
     "text": [
      "Total score (averaged over agents) episode 160: -0.004999999888241291\n",
      "Score (max over agents) from episode 160: 0.0\n",
      "Rolling average score: 0.018500000294297932\n",
      "Noise level:  0.2 0.2\n",
      "Actor loss: -0.03879354149103165 | Critic loss: 7.006446685409173e-05\n"
     ]
    },
    {
     "name": "stderr",
     "output_type": "stream",
     "text": [
      "training loop:  30% |#################                                        |\r"
     ]
    },
    {
     "name": "stdout",
     "output_type": "stream",
     "text": [
      "Total score (averaged over agents) episode 180: -0.004999999888241291\n",
      "Score (max over agents) from episode 180: 0.0\n",
      "Rolling average score: 0.011800000183284283\n",
      "Noise level:  0.2 0.2\n",
      "Actor loss: -0.052549488842487335 | Critic loss: 7.853342685848475e-05\n"
     ]
    },
    {
     "name": "stderr",
     "output_type": "stream",
     "text": [
      "training loop:  33% |##################                                       |\r"
     ]
    },
    {
     "name": "stdout",
     "output_type": "stream",
     "text": [
      "Total score (averaged over agents) episode 200: 0.04500000085681677\n",
      "Score (max over agents) from episode 200: 0.10000000149011612\n",
      "Rolling average score: 0.02820000045001507\n",
      "Noise level:  0.2 0.2\n",
      "Actor loss: -0.09066401422023773 | Critic loss: 0.00013156392378732562\n"
     ]
    },
    {
     "name": "stderr",
     "output_type": "stream",
     "text": [
      "training loop:  36% |####################                                     |\r"
     ]
    },
    {
     "name": "stdout",
     "output_type": "stream",
     "text": [
      "Total score (averaged over agents) episode 220: 0.04500000085681677\n",
      "Score (max over agents) from episode 220: 0.10000000149011612\n",
      "Rolling average score: 0.04700000075623393\n",
      "Noise level:  0.2 0.2\n",
      "Actor loss: -0.08993229269981384 | Critic loss: 9.017416596179828e-05\n"
     ]
    },
    {
     "name": "stderr",
     "output_type": "stream",
     "text": [
      "training loop:  40% |######################                                   |\r"
     ]
    },
    {
     "name": "stdout",
     "output_type": "stream",
     "text": [
      "Total score (averaged over agents) episode 240: 0.04500000085681677\n",
      "Score (max over agents) from episode 240: 0.10000000149011612\n",
      "Rolling average score: 0.067600001078099\n",
      "Noise level:  0.2 0.2\n",
      "Actor loss: -0.10212474316358566 | Critic loss: 0.00011720559268724173\n"
     ]
    },
    {
     "name": "stderr",
     "output_type": "stream",
     "text": [
      "training loop:  43% |########################                                 |\r"
     ]
    },
    {
     "name": "stdout",
     "output_type": "stream",
     "text": [
      "Total score (averaged over agents) episode 260: 0.04500000085681677\n",
      "Score (max over agents) from episode 260: 0.10000000149011612\n",
      "Rolling average score: 0.08510000135749579\n",
      "Noise level:  0.2 0.2\n",
      "Actor loss: -0.11502042412757874 | Critic loss: 0.00010725724860094488\n"
     ]
    },
    {
     "name": "stderr",
     "output_type": "stream",
     "text": [
      "training loop:  46% |##########################                               |\r"
     ]
    },
    {
     "name": "stdout",
     "output_type": "stream",
     "text": [
      "Total score (averaged over agents) episode 280: 0.04500000085681677\n",
      "Score (max over agents) from episode 280: 0.10000000149011612\n",
      "Rolling average score: 0.10470000166445971\n",
      "Noise level:  0.2 0.2\n",
      "Actor loss: -0.12470328062772751 | Critic loss: 0.0001699265412753448\n"
     ]
    },
    {
     "name": "stderr",
     "output_type": "stream",
     "text": [
      "training loop:  50% |############################                             |\r"
     ]
    },
    {
     "name": "stdout",
     "output_type": "stream",
     "text": [
      "Total score (averaged over agents) episode 300: 0.09500000160187483\n",
      "Score (max over agents) from episode 300: 0.10000000149011612\n",
      "Rolling average score: 0.10770000170916319\n",
      "Noise level:  0.2 0.2\n",
      "Actor loss: -0.14099504053592682 | Critic loss: 0.0002682642953004688\n"
     ]
    },
    {
     "name": "stderr",
     "output_type": "stream",
     "text": [
      "training loop:  53% |##############################                           |\r"
     ]
    },
    {
     "name": "stdout",
     "output_type": "stream",
     "text": [
      "Total score (averaged over agents) episode 320: 0.04500000085681677\n",
      "Score (max over agents) from episode 320: 0.10000000149011612\n",
      "Rolling average score: 0.11060000173747539\n",
      "Noise level:  0.2 0.2\n",
      "Actor loss: -0.15296632051467896 | Critic loss: 0.0002685180807020515\n"
     ]
    },
    {
     "name": "stderr",
     "output_type": "stream",
     "text": [
      "training loop:  56% |###############################                          |\r"
     ]
    },
    {
     "name": "stdout",
     "output_type": "stream",
     "text": [
      "Total score (averaged over agents) episode 340: 0.04500000085681677\n",
      "Score (max over agents) from episode 340: 0.10000000149011612\n",
      "Rolling average score: 0.1108000017516315\n",
      "Noise level:  0.2 0.2\n",
      "Actor loss: -0.1648431122303009 | Critic loss: 0.0003362905408721417\n"
     ]
    },
    {
     "name": "stderr",
     "output_type": "stream",
     "text": [
      "training loop:  60% |##################################                       |\r"
     ]
    },
    {
     "name": "stdout",
     "output_type": "stream",
     "text": [
      "Total score (averaged over agents) episode 360: 0.04500000085681677\n",
      "Score (max over agents) from episode 360: 0.10000000149011612\n",
      "Rolling average score: 0.11720000183209776\n",
      "Noise level:  0.2 0.2\n",
      "Actor loss: -0.17782475054264069 | Critic loss: 0.0003967301163356751\n"
     ]
    },
    {
     "name": "stderr",
     "output_type": "stream",
     "text": [
      "training loop:  63% |###################################                      |\r"
     ]
    },
    {
     "name": "stdout",
     "output_type": "stream",
     "text": [
      "Total score (averaged over agents) episode 380: 0.09500000160187483\n",
      "Score (max over agents) from episode 380: 0.10000000149011612\n",
      "Rolling average score: 0.10960000170394778\n",
      "Noise level:  0.2 0.2\n",
      "Actor loss: -0.1926882416009903 | Critic loss: 0.00029292836552485824\n"
     ]
    },
    {
     "name": "stderr",
     "output_type": "stream",
     "text": [
      "training loop:  66% |#####################################                    |\r"
     ]
    },
    {
     "name": "stdout",
     "output_type": "stream",
     "text": [
      "Total score (averaged over agents) episode 400: 0.09500000160187483\n",
      "Score (max over agents) from episode 400: 0.10000000149011612\n",
      "Rolling average score: 0.10180000158026814\n",
      "Noise level:  0.2 0.2\n",
      "Actor loss: -0.187448188662529 | Critic loss: 0.00047611549962311983\n"
     ]
    },
    {
     "name": "stderr",
     "output_type": "stream",
     "text": [
      "training loop:  70% |#######################################                  |\r"
     ]
    },
    {
     "name": "stdout",
     "output_type": "stream",
     "text": [
      "Total score (averaged over agents) episode 420: 0.1450000023469329\n",
      "Score (max over agents) from episode 420: 0.20000000298023224\n",
      "Rolling average score: 0.10870000168681145\n",
      "Noise level:  0.2 0.2\n",
      "Actor loss: -0.19291388988494873 | Critic loss: 0.000365753861842677\n"
     ]
    },
    {
     "name": "stderr",
     "output_type": "stream",
     "text": [
      "training loop:  73% |#########################################                |\r"
     ]
    },
    {
     "name": "stdout",
     "output_type": "stream",
     "text": [
      "Total score (averaged over agents) episode 440: -0.004999999888241291\n",
      "Score (max over agents) from episode 440: 0.0\n",
      "Rolling average score: 0.11380000174045563\n",
      "Noise level:  0.2 0.2\n",
      "Actor loss: -0.20315714180469513 | Critic loss: 0.00036195508437231183\n"
     ]
    },
    {
     "name": "stderr",
     "output_type": "stream",
     "text": [
      "training loop:  76% |###########################################              |\r"
     ]
    },
    {
     "name": "stdout",
     "output_type": "stream",
     "text": [
      "Total score (averaged over agents) episode 460: 0.6950000105425715\n",
      "Score (max over agents) from episode 460: 0.7000000104308128\n",
      "Rolling average score: 0.12760000199079513\n",
      "Noise level:  0.2 0.2\n",
      "Actor loss: -0.22585837543010712 | Critic loss: 0.0002953481744043529\n"
     ]
    },
    {
     "name": "stderr",
     "output_type": "stream",
     "text": [
      "training loop:  80% |#############################################            |\r"
     ]
    },
    {
     "name": "stdout",
     "output_type": "stream",
     "text": [
      "Total score (averaged over agents) episode 480: 0.5450000083073974\n",
      "Score (max over agents) from episode 480: 0.6000000089406967\n",
      "Rolling average score: 0.156500002425164\n",
      "Noise level:  0.2 0.2\n",
      "Actor loss: -0.2364051640033722 | Critic loss: 0.00039467078750021756\n"
     ]
    },
    {
     "name": "stderr",
     "output_type": "stream",
     "text": [
      "training loop:  83% |###############################################          |\r"
     ]
    },
    {
     "name": "stdout",
     "output_type": "stream",
     "text": [
      "Total score (averaged over agents) episode 500: 0.5950000090524554\n",
      "Score (max over agents) from episode 500: 0.6000000089406967\n",
      "Rolling average score: 0.18180000279098749\n",
      "Noise level:  0.2 0.2\n",
      "Actor loss: -0.25878196954727173 | Critic loss: 0.0004137508221901953\n"
     ]
    },
    {
     "name": "stderr",
     "output_type": "stream",
     "text": [
      "training loop:  86% |#################################################        |\r"
     ]
    },
    {
     "name": "stdout",
     "output_type": "stream",
     "text": [
      "Total score (averaged over agents) episode 520: 0.1450000023469329\n",
      "Score (max over agents) from episode 520: 0.20000000298023224\n",
      "Rolling average score: 0.2121000032313168\n",
      "Noise level:  0.2 0.2\n",
      "Actor loss: -0.2589825689792633 | Critic loss: 0.0004883221117779613\n"
     ]
    },
    {
     "name": "stderr",
     "output_type": "stream",
     "text": [
      "training loop:  90% |###################################################      |\r"
     ]
    },
    {
     "name": "stdout",
     "output_type": "stream",
     "text": [
      "Total score (averaged over agents) episode 540: 0.3450000053271651\n",
      "Score (max over agents) from episode 540: 0.4000000059604645\n",
      "Rolling average score: 0.2438000037148595\n",
      "Noise level:  0.2 0.2\n",
      "Actor loss: -0.27395743131637573 | Critic loss: 0.0004295783000998199\n"
     ]
    },
    {
     "name": "stderr",
     "output_type": "stream",
     "text": [
      "training loop:  93% |#####################################################    |\r"
     ]
    },
    {
     "name": "stdout",
     "output_type": "stream",
     "text": [
      "Total score (averaged over agents) episode 560: 0.09500000160187483\n",
      "Score (max over agents) from episode 560: 0.10000000149011612\n",
      "Rolling average score: 0.2420000036433339\n",
      "Noise level:  0.2 0.2\n",
      "Actor loss: -0.28952255845069885 | Critic loss: 0.0004711207584477961\n"
     ]
    },
    {
     "name": "stderr",
     "output_type": "stream",
     "text": [
      "training loop:  96% |######################################################   |\r"
     ]
    },
    {
     "name": "stdout",
     "output_type": "stream",
     "text": [
      "Total score (averaged over agents) episode 580: 0.6450000097975135\n",
      "Score (max over agents) from episode 580: 0.7000000104308128\n",
      "Rolling average score: 0.23420000351965428\n",
      "Noise level:  0.2 0.2\n",
      "Actor loss: -0.30312737822532654 | Critic loss: 0.000275064492598176\n"
     ]
    },
    {
     "name": "stderr",
     "output_type": "stream",
     "text": [
      "training loop: 100% |#########################################################|\r"
     ]
    },
    {
     "name": "stdout",
     "output_type": "stream",
     "text": [
      "Total score (averaged over agents) episode 600: 0.19500000309199095\n",
      "Score (max over agents) from episode 600: 0.20000000298023224\n",
      "Rolling average score: 0.24830000372603536\n",
      "Noise level:  0.2 0.2\n",
      "Actor loss: -0.3224090039730072 | Critic loss: 0.0004121695819776505\n"
     ]
    },
    {
     "name": "stderr",
     "output_type": "stream",
     "text": [
      "\n"
     ]
    }
   ],
   "source": [
    "\n",
    "widget = ['training loop: ', pb.Percentage(), ' ', pb.Bar()]#, ' ', pb.ETA() ]\n",
    "timer = pb.ProgressBar(widgets=widget, maxval=nr_episodes).start()\n",
    "min_buffer = num_agents*batch_size\n",
    "assert min_buffer<max_buffer, 'minimal length of buffer for update (min_buffer) smaller than buffer memory (max_buffer)!'\n",
    "ACloss = []\n",
    "l_exists = False\n",
    "e_score = np.zeros(nr_episodes)\n",
    "rolling_avg = np.zeros(nr_episodes)\n",
    "rolling_window = deque(maxlen=100)\n",
    "t=0\n",
    "for i in range(nr_episodes):                                         # play game for nr_episodes episodes\n",
    "    env_info = env.reset(train_mode=True)[brain_name]     # reset the environment    \n",
    "    states = env_info.vector_observations                  # get the current state (for each agent)\n",
    "    scores = np.zeros(num_agents)                          # initialize the score (for each agent)\n",
    "    while True:#t<T_max:\n",
    "        t+=1\n",
    "#         if t==T_max:\n",
    "#             assert False, \"t reached T_max!\"\n",
    "            \n",
    "        # select action\n",
    "        actA  = agent.act(states[0]).data.cpu().numpy() + ouA.noise()\n",
    "        actB = agent.act(states[1]).data.cpu().numpy() + ouB.noise()\n",
    "        actions = np.clip([actA, actB],-1,1) # select an action (for each agent)\n",
    "        # execute and observe\n",
    "        #actions = [np.array([0.1,1]),np.array([0.1,1])]\n",
    "        env_info = env.step(actions)[brain_name]           # send all actions to tne environment\n",
    "        next_states = env_info.vector_observations         # get next state (for each agent)\n",
    "        rewards = env_info.rewards                         # get reward (for each agent)\n",
    "        dones = env_info.local_done                        # see if episode finished\n",
    "        # store in replay buffer\n",
    "        samples = [states, np.asarray(actions), np.asarray(rewards), next_states, dones]\n",
    "        buffer.store(samples)\n",
    "        # roll over states to next time step\n",
    "        states = next_states                               \n",
    "        # keep track of scores\n",
    "        scores += env_info.rewards                         # update the score (for each agent)\n",
    "        # Update agents\n",
    "        if ((t-1) % update_steps == 0) and len(buffer.buffer) > batch_size:\n",
    "#             print('Updating networks at time ',t-1)\n",
    "            l_exists = True\n",
    "            #for a_i in np.random.permutation(num_agents): #ideally you would like to sample the agents randomly \n",
    "            for ep in range(GD_steps):\n",
    "                minibatch = buffer.get_batch(batch_size)  # get batch of size (batch_size x 5) where the 2nd dim corresponds to (s,a,r,s',done)\n",
    "                agent_i = np.random.choice(num_agents,len(minibatch))\n",
    "                closs = agent.update_critic(minibatch,agent_i)\n",
    "                aloss = agent.update_actor(minibatch,agent_i)\n",
    "            #ACloss.append([aloss,closs])\n",
    "                    \n",
    "        # Update target network\n",
    "        agent.target_update()\n",
    "        # exit loop if episode finished\n",
    "        if np.any(dones): \n",
    "            break\n",
    "    \n",
    "    if l_exists:\n",
    "        ACloss.append([aloss,closs])\n",
    "    ouA.reset()\n",
    "    ouB.reset()\n",
    "    ouA.sigma *= noise_decay\n",
    "    ouB.sigma *= noise_decay\n",
    "    \n",
    "    e_score[i] = np.max(scores)\n",
    "    rolling_window.append(e_score[i])\n",
    "    rolling_avg[i] = np.mean(np.array(rolling_window))\n",
    "    if (i+1) % 20 == 0:\n",
    "        print('Total score (averaged over agents) episode {}: {}'.format(i+1,np.mean(scores)))\n",
    "        print('Score (max over agents) from episode {}: {}'.format(i+1, e_score[i]))\n",
    "        print('Rolling average score: {}'.format(rolling_avg[i]))\n",
    "        print('Noise level: ',ouA.sigma,ouB.sigma)\n",
    "        if l_exists:\n",
    "            print(\"Actor loss: {} | Critic loss: {}\".format(*ACloss[-1]))\n",
    "    \n",
    "    # update progress widget bar\n",
    "    timer.update(i+1)\n",
    "    \n",
    "timer.finish()"
   ]
  },
  {
   "cell_type": "code",
   "execution_count": 6,
   "metadata": {},
   "outputs": [
    {
     "name": "stdout",
     "output_type": "stream",
     "text": [
      "[tensor(0.0002, grad_fn=<MeanBackward0>), tensor(-4.5344e-05, grad_fn=<MeanBackward0>), tensor(2.6235e-05, grad_fn=<MeanBackward0>), tensor(0.0001, grad_fn=<MeanBackward0>), tensor(0.0005, grad_fn=<MeanBackward0>), tensor(0.0010, grad_fn=<MeanBackward0>), tensor(0.0001, grad_fn=<MeanBackward0>), tensor(0.0021, grad_fn=<MeanBackward0>)]\n"
     ]
    }
   ],
   "source": [
    "print([torch.mean(trgt-net) for trgt, net in zip(agent.actor_target.parameters(),agent.actor.parameters())])"
   ]
  },
  {
   "cell_type": "code",
   "execution_count": 18,
   "metadata": {
    "scrolled": false
   },
   "outputs": [
    {
     "name": "stdout",
     "output_type": "stream",
     "text": [
      "(594, 2)\n"
     ]
    },
    {
     "data": {
      "text/plain": [
       "[<matplotlib.lines.Line2D at 0x18cb7293b38>]"
      ]
     },
     "execution_count": 18,
     "metadata": {},
     "output_type": "execute_result"
    },
    {
     "data": {
      "image/png": "[encoded data removed]",
      "text/plain": [
       "<Figure size 1080x360 with 1 Axes>"
      ]
     },
     "metadata": {
      "needs_background": "light"
     },
     "output_type": "display_data"
    },
    {
     "data": {
      "image/png": "[encoded data removed]",
      "text/plain": [
       "<Figure size 1080x360 with 2 Axes>"
      ]
     },
     "metadata": {
      "needs_background": "light"
     },
     "output_type": "display_data"
    }
   ],
   "source": [
    "ACloss = np.asarray(ACloss)\n",
    "print(ACloss.shape)\n",
    "plt.figure(figsize=(15,5))\n",
    "plt.plot(e_score)\n",
    "plt.plot(rolling_avg,'r')\n",
    "plt.plot(0.5*np.ones_like(rolling_avg),'k')\n",
    "plt.figure(figsize=(15,5))\n",
    "plt.subplot(121)\n",
    "plt.plot(ACloss[:,0])\n",
    "plt.subplot(122)\n",
    "plt.plot(ACloss[:,1])\n"
   ]
  },
  {
   "cell_type": "code",
   "execution_count": 8,
   "metadata": {},
   "outputs": [
    {
     "name": "stdout",
     "output_type": "stream",
     "text": [
      "lra 0.0005, lrc 0.0005, noise_lvl 0.2, noise_decay 1, batch_size 128, update_steps 1, GD_steps 2\n"
     ]
    }
   ],
   "source": [
    "# env.close()\n",
    "print('lra {}, lrc {}, noise_lvl {}, noise_decay {}, batch_size {}, update_steps {}, GD_steps {}'.format(lra, lrc, noise_lvl,noise_decay,batch_size,\n",
    "                                                                                         update_steps,GD_steps))"
   ]
  },
  {
   "cell_type": "code",
   "execution_count": 9,
   "metadata": {},
   "outputs": [
    {
     "data": {
      "text/plain": [
       "16000"
      ]
     },
     "execution_count": 9,
     "metadata": {},
     "output_type": "execute_result"
    }
   ],
   "source": [
    "len(buffer.buffer)"
   ]
  },
  {
   "cell_type": "code",
   "execution_count": 16,
   "metadata": {},
   "outputs": [
    {
     "name": "stdout",
     "output_type": "stream",
     "text": [
      "30028\n"
     ]
    }
   ],
   "source": [
    "print(t)"
   ]
  },
  {
   "cell_type": "code",
   "execution_count": 10,
   "metadata": {},
   "outputs": [
    {
     "name": "stdout",
     "output_type": "stream",
     "text": [
      "0.0005\n",
      "0.0005\n"
     ]
    }
   ],
   "source": [
    "for param_grp in agent.actor_optim.param_groups:\n",
    "    print(param_grp['lr'])\n",
    "for param_grp in agent.critic_optim.param_groups:\n",
    "    print(param_grp['lr'])"
   ]
  },
  {
   "cell_type": "code",
   "execution_count": 11,
   "metadata": {},
   "outputs": [
    {
     "data": {
      "text/plain": [
       "0.2564000038430095"
      ]
     },
     "execution_count": 11,
     "metadata": {},
     "output_type": "execute_result"
    }
   ],
   "source": [
    "rolling_avg.max()"
   ]
  }
 ],
 "metadata": {
  "kernelspec": {
   "display_name": "Python 3",
   "language": "python",
   "name": "python3"
  },
  "language_info": {
   "codemirror_mode": {
    "name": "ipython",
    "version": 3
   },
   "file_extension": ".py",
   "mimetype": "text/x-python",
   "name": "python",
   "nbconvert_exporter": "python",
   "pygments_lexer": "ipython3",
   "version": "3.6.8"
  }
 },
 "nbformat": 4,
 "nbformat_minor": 2
}
