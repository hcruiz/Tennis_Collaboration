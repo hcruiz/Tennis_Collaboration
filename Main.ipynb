{
 "cells": [
  {
   "cell_type": "code",
   "execution_count": 18,
   "metadata": {},
   "outputs": [
    {
     "ename": "OSError",
     "evalue": "handle is closed",
     "output_type": "error",
     "traceback": [
      "\u001b[1;31m---------------------------------------------------------------------------\u001b[0m",
      "\u001b[1;31mOSError\u001b[0m                                   Traceback (most recent call last)",
      "\u001b[1;32m<ipython-input-18-768d343c8742>\u001b[0m in \u001b[0;36m<module>\u001b[1;34m\u001b[0m\n\u001b[0;32m      1\u001b[0m \u001b[1;32mfrom\u001b[0m \u001b[0munityagents\u001b[0m \u001b[1;32mimport\u001b[0m \u001b[0mUnityEnvironment\u001b[0m\u001b[1;33m\u001b[0m\u001b[1;33m\u001b[0m\u001b[0m\n\u001b[0;32m      2\u001b[0m \u001b[0menv_file\u001b[0m \u001b[1;33m=\u001b[0m \u001b[1;34m\"Tennis_Windows_x86_64\\Tennis.exe\"\u001b[0m \u001b[1;31m#'Tennis_Linux/Tennis.x86_64'#\u001b[0m\u001b[1;33m\u001b[0m\u001b[1;33m\u001b[0m\u001b[0m\n\u001b[1;32m----> 3\u001b[1;33m \u001b[0menv\u001b[0m \u001b[1;33m=\u001b[0m \u001b[0mUnityEnvironment\u001b[0m\u001b[1;33m(\u001b[0m\u001b[0mfile_name\u001b[0m\u001b[1;33m=\u001b[0m\u001b[0menv_file\u001b[0m\u001b[1;33m,\u001b[0m \u001b[0mno_graphics\u001b[0m \u001b[1;33m=\u001b[0m \u001b[1;32mFalse\u001b[0m\u001b[1;33m)\u001b[0m\u001b[1;33m\u001b[0m\u001b[1;33m\u001b[0m\u001b[0m\n\u001b[0m",
      "\u001b[1;32m~\\Anaconda2\\envs\\drlnd\\lib\\site-packages\\unityagents\\environment.py\u001b[0m in \u001b[0;36m__init__\u001b[1;34m(self, file_name, worker_id, base_port, curriculum, seed, docker_training, no_graphics)\u001b[0m\n\u001b[0;32m     62\u001b[0m         )\n\u001b[0;32m     63\u001b[0m         \u001b[1;32mtry\u001b[0m\u001b[1;33m:\u001b[0m\u001b[1;33m\u001b[0m\u001b[1;33m\u001b[0m\u001b[0m\n\u001b[1;32m---> 64\u001b[1;33m             \u001b[0maca_params\u001b[0m \u001b[1;33m=\u001b[0m \u001b[0mself\u001b[0m\u001b[1;33m.\u001b[0m\u001b[0msend_academy_parameters\u001b[0m\u001b[1;33m(\u001b[0m\u001b[0mrl_init_parameters_in\u001b[0m\u001b[1;33m)\u001b[0m\u001b[1;33m\u001b[0m\u001b[1;33m\u001b[0m\u001b[0m\n\u001b[0m\u001b[0;32m     65\u001b[0m         \u001b[1;32mexcept\u001b[0m \u001b[0mUnityTimeOutException\u001b[0m\u001b[1;33m:\u001b[0m\u001b[1;33m\u001b[0m\u001b[1;33m\u001b[0m\u001b[0m\n\u001b[0;32m     66\u001b[0m             \u001b[0mself\u001b[0m\u001b[1;33m.\u001b[0m\u001b[0m_close\u001b[0m\u001b[1;33m(\u001b[0m\u001b[1;33m)\u001b[0m\u001b[1;33m\u001b[0m\u001b[1;33m\u001b[0m\u001b[0m\n",
      "\u001b[1;32m~\\Anaconda2\\envs\\drlnd\\lib\\site-packages\\unityagents\\environment.py\u001b[0m in \u001b[0;36msend_academy_parameters\u001b[1;34m(self, init_parameters)\u001b[0m\n\u001b[0;32m    503\u001b[0m         \u001b[0minputs\u001b[0m \u001b[1;33m=\u001b[0m \u001b[0mUnityInput\u001b[0m\u001b[1;33m(\u001b[0m\u001b[1;33m)\u001b[0m\u001b[1;33m\u001b[0m\u001b[1;33m\u001b[0m\u001b[0m\n\u001b[0;32m    504\u001b[0m         \u001b[0minputs\u001b[0m\u001b[1;33m.\u001b[0m\u001b[0mrl_initialization_input\u001b[0m\u001b[1;33m.\u001b[0m\u001b[0mCopyFrom\u001b[0m\u001b[1;33m(\u001b[0m\u001b[0minit_parameters\u001b[0m\u001b[1;33m)\u001b[0m\u001b[1;33m\u001b[0m\u001b[1;33m\u001b[0m\u001b[0m\n\u001b[1;32m--> 505\u001b[1;33m         \u001b[1;32mreturn\u001b[0m \u001b[0mself\u001b[0m\u001b[1;33m.\u001b[0m\u001b[0mcommunicator\u001b[0m\u001b[1;33m.\u001b[0m\u001b[0minitialize\u001b[0m\u001b[1;33m(\u001b[0m\u001b[0minputs\u001b[0m\u001b[1;33m)\u001b[0m\u001b[1;33m.\u001b[0m\u001b[0mrl_initialization_output\u001b[0m\u001b[1;33m\u001b[0m\u001b[1;33m\u001b[0m\u001b[0m\n\u001b[0m\u001b[0;32m    506\u001b[0m \u001b[1;33m\u001b[0m\u001b[0m\n\u001b[0;32m    507\u001b[0m     \u001b[1;32mdef\u001b[0m \u001b[0mwrap_unity_input\u001b[0m\u001b[1;33m(\u001b[0m\u001b[0mself\u001b[0m\u001b[1;33m,\u001b[0m \u001b[0mrl_input\u001b[0m\u001b[1;33m:\u001b[0m \u001b[0mUnityRLInput\u001b[0m\u001b[1;33m)\u001b[0m \u001b[1;33m->\u001b[0m \u001b[0mUnityOutput\u001b[0m\u001b[1;33m:\u001b[0m\u001b[1;33m\u001b[0m\u001b[1;33m\u001b[0m\u001b[0m\n",
      "\u001b[1;32m~\\Anaconda2\\envs\\drlnd\\lib\\site-packages\\unityagents\\rpc_communicator.py\u001b[0m in \u001b[0;36minitialize\u001b[1;34m(self, inputs)\u001b[0m\n\u001b[0;32m     56\u001b[0m                 \u001b[1;34m\"You may need to manually close a previously opened environment \"\u001b[0m\u001b[1;33m\u001b[0m\u001b[1;33m\u001b[0m\u001b[0m\n\u001b[0;32m     57\u001b[0m                 \"or use a different worker number.\".format(str(self.worker_id)))\n\u001b[1;32m---> 58\u001b[1;33m         \u001b[1;32mif\u001b[0m \u001b[1;32mnot\u001b[0m \u001b[0mself\u001b[0m\u001b[1;33m.\u001b[0m\u001b[0munity_to_external\u001b[0m\u001b[1;33m.\u001b[0m\u001b[0mparent_conn\u001b[0m\u001b[1;33m.\u001b[0m\u001b[0mpoll\u001b[0m\u001b[1;33m(\u001b[0m\u001b[1;36m30\u001b[0m\u001b[1;33m)\u001b[0m\u001b[1;33m:\u001b[0m\u001b[1;33m\u001b[0m\u001b[1;33m\u001b[0m\u001b[0m\n\u001b[0m\u001b[0;32m     59\u001b[0m             raise UnityTimeOutException(\n\u001b[0;32m     60\u001b[0m                 \u001b[1;34m\"The Unity environment took too long to respond. Make sure that :\\n\"\u001b[0m\u001b[1;33m\u001b[0m\u001b[1;33m\u001b[0m\u001b[0m\n",
      "\u001b[1;32m~\\Anaconda2\\envs\\drlnd\\lib\\multiprocessing\\connection.py\u001b[0m in \u001b[0;36mpoll\u001b[1;34m(self, timeout)\u001b[0m\n\u001b[0;32m    253\u001b[0m     \u001b[1;32mdef\u001b[0m \u001b[0mpoll\u001b[0m\u001b[1;33m(\u001b[0m\u001b[0mself\u001b[0m\u001b[1;33m,\u001b[0m \u001b[0mtimeout\u001b[0m\u001b[1;33m=\u001b[0m\u001b[1;36m0.0\u001b[0m\u001b[1;33m)\u001b[0m\u001b[1;33m:\u001b[0m\u001b[1;33m\u001b[0m\u001b[1;33m\u001b[0m\u001b[0m\n\u001b[0;32m    254\u001b[0m         \u001b[1;34m\"\"\"Whether there is any input available to be read\"\"\"\u001b[0m\u001b[1;33m\u001b[0m\u001b[1;33m\u001b[0m\u001b[0m\n\u001b[1;32m--> 255\u001b[1;33m         \u001b[0mself\u001b[0m\u001b[1;33m.\u001b[0m\u001b[0m_check_closed\u001b[0m\u001b[1;33m(\u001b[0m\u001b[1;33m)\u001b[0m\u001b[1;33m\u001b[0m\u001b[1;33m\u001b[0m\u001b[0m\n\u001b[0m\u001b[0;32m    256\u001b[0m         \u001b[0mself\u001b[0m\u001b[1;33m.\u001b[0m\u001b[0m_check_readable\u001b[0m\u001b[1;33m(\u001b[0m\u001b[1;33m)\u001b[0m\u001b[1;33m\u001b[0m\u001b[1;33m\u001b[0m\u001b[0m\n\u001b[0;32m    257\u001b[0m         \u001b[1;32mreturn\u001b[0m \u001b[0mself\u001b[0m\u001b[1;33m.\u001b[0m\u001b[0m_poll\u001b[0m\u001b[1;33m(\u001b[0m\u001b[0mtimeout\u001b[0m\u001b[1;33m)\u001b[0m\u001b[1;33m\u001b[0m\u001b[1;33m\u001b[0m\u001b[0m\n",
      "\u001b[1;32m~\\Anaconda2\\envs\\drlnd\\lib\\multiprocessing\\connection.py\u001b[0m in \u001b[0;36m_check_closed\u001b[1;34m(self)\u001b[0m\n\u001b[0;32m    134\u001b[0m     \u001b[1;32mdef\u001b[0m \u001b[0m_check_closed\u001b[0m\u001b[1;33m(\u001b[0m\u001b[0mself\u001b[0m\u001b[1;33m)\u001b[0m\u001b[1;33m:\u001b[0m\u001b[1;33m\u001b[0m\u001b[1;33m\u001b[0m\u001b[0m\n\u001b[0;32m    135\u001b[0m         \u001b[1;32mif\u001b[0m \u001b[0mself\u001b[0m\u001b[1;33m.\u001b[0m\u001b[0m_handle\u001b[0m \u001b[1;32mis\u001b[0m \u001b[1;32mNone\u001b[0m\u001b[1;33m:\u001b[0m\u001b[1;33m\u001b[0m\u001b[1;33m\u001b[0m\u001b[0m\n\u001b[1;32m--> 136\u001b[1;33m             \u001b[1;32mraise\u001b[0m \u001b[0mOSError\u001b[0m\u001b[1;33m(\u001b[0m\u001b[1;34m\"handle is closed\"\u001b[0m\u001b[1;33m)\u001b[0m\u001b[1;33m\u001b[0m\u001b[1;33m\u001b[0m\u001b[0m\n\u001b[0m\u001b[0;32m    137\u001b[0m \u001b[1;33m\u001b[0m\u001b[0m\n\u001b[0;32m    138\u001b[0m     \u001b[1;32mdef\u001b[0m \u001b[0m_check_readable\u001b[0m\u001b[1;33m(\u001b[0m\u001b[0mself\u001b[0m\u001b[1;33m)\u001b[0m\u001b[1;33m:\u001b[0m\u001b[1;33m\u001b[0m\u001b[1;33m\u001b[0m\u001b[0m\n",
      "\u001b[1;31mOSError\u001b[0m: handle is closed"
     ]
    },
    {
     "name": "stderr",
     "output_type": "stream",
     "text": [
      "ERROR:root:Exception calling application: [WinError 232] The pipe is being closed\n",
      "Traceback (most recent call last):\n",
      "  File \"C:\\Users\\HCRuiz\\Anaconda2\\envs\\drlnd\\lib\\site-packages\\grpc\\_server.py\", line 385, in _call_behavior\n",
      "    return behavior(argument, context), True\n",
      "  File \"C:\\Users\\HCRuiz\\Anaconda2\\envs\\drlnd\\lib\\site-packages\\unityagents\\rpc_communicator.py\", line 25, in Exchange\n",
      "    self.child_conn.send(request)\n",
      "  File \"C:\\Users\\HCRuiz\\Anaconda2\\envs\\drlnd\\lib\\multiprocessing\\connection.py\", line 206, in send\n",
      "    self._send_bytes(_ForkingPickler.dumps(obj))\n",
      "  File \"C:\\Users\\HCRuiz\\Anaconda2\\envs\\drlnd\\lib\\multiprocessing\\connection.py\", line 280, in _send_bytes\n",
      "    ov, err = _winapi.WriteFile(self._handle, buf, overlapped=True)\n",
      "BrokenPipeError: [WinError 232] The pipe is being closed\n"
     ]
    }
   ],
   "source": [
    "from unityagents import UnityEnvironment\n",
    "env_file = \"Tennis_Windows_x86_64\\Tennis.exe\" #'Tennis_Linux/Tennis.x86_64'#\n",
    "env = UnityEnvironment(file_name=env_file, no_graphics = False)"
   ]
  },
  {
   "cell_type": "code",
   "execution_count": 2,
   "metadata": {},
   "outputs": [
    {
     "name": "stdout",
     "output_type": "stream",
     "text": [
      "using device:  cpu\n",
      "NO grad. clipping used.\n"
     ]
    }
   ],
   "source": [
    "import torch\n",
    "import numpy as np\n",
    "from collections import deque\n",
    "import progressbar as pb\n",
    "import matplotlib.pyplot as plt\n",
    "from utils import OUprocess, Reply_buffer\n",
    "from Tennis_agent import SelfPlay_Agent"
   ]
  },
  {
   "cell_type": "code",
   "execution_count": 3,
   "metadata": {},
   "outputs": [
    {
     "name": "stdout",
     "output_type": "stream",
     "text": [
      "Number of agents: 2\n",
      "Size of each action: 2\n",
      "states shape:  (2, 24)\n",
      "There are 2 agents. Each observes a state with length: 24\n",
      "The state for the first agent looks like: [ 0.          0.          0.          0.          0.          0.\n",
      "  0.          0.          0.          0.          0.          0.\n",
      "  0.          0.          0.          0.         -6.65278625 -1.5\n",
      " -0.          0.          6.83172083  6.         -0.          0.        ]\n",
      "The state for the second agent looks like: [ 0.          0.          0.          0.          0.          0.\n",
      "  0.          0.          0.          0.          0.          0.\n",
      "  0.          0.          0.          0.         -6.4669857  -1.5\n",
      "  0.          0.         -6.83172083  6.          0.          0.        ]\n"
     ]
    }
   ],
   "source": [
    "# get the default brain\n",
    "brain_name = env.brain_names[0]\n",
    "brain = env.brains[brain_name]\n",
    "\n",
    "# reset the environment\n",
    "env_info = env.reset(train_mode=True)[brain_name]\n",
    "\n",
    "# number of agents \n",
    "num_agents = len(env_info.agents)\n",
    "print('Number of agents:', num_agents)\n",
    "\n",
    "# size of each action\n",
    "action_size = brain.vector_action_space_size\n",
    "print('Size of each action:', action_size)\n",
    "\n",
    "# examine the state space \n",
    "states = env_info.vector_observations\n",
    "state_size = states.shape[1]\n",
    "print('states shape: ',states.shape)\n",
    "print('There are {} agents. Each observes a state with length: {}'.format(states.shape[0], state_size))\n",
    "print('The state for the first agent looks like:', states[0])\n",
    "print('The state for the second agent looks like:', states[1])"
   ]
  },
  {
   "cell_type": "code",
   "execution_count": 4,
   "metadata": {},
   "outputs": [],
   "source": [
    "T_max = 1000\n",
    "max_buffer = int(1.e+6)\n",
    "buffer = Reply_buffer(max_buffer)\n",
    "noise_decay = 1#0.999\n",
    "noise_lvl = 0.2\n",
    "ouA = OUprocess(action_size, sigma=noise_lvl)\n",
    "ouB = OUprocess(action_size, sigma=noise_lvl)\n",
    "batch_size = 512\n",
    "update_steps = 5  #with (128,5,10,5e-4,5e-4) -> 0.23 @ 600 episodes\n",
    "GD_steps = 2 #with (128,5,2,5e-4,5e-4) -> 0.25 @ 600 episodes\n",
    "lra=3.e-4\n",
    "lrc=3.e-4\n",
    "agent = SelfPlay_Agent(state_size, action_size, num_agents, tau=1, lr_act=lra, lr_crit=lrc)\n",
    "\n",
    "nr_episodes = 600"
   ]
  },
  {
   "cell_type": "code",
   "execution_count": 5,
   "metadata": {},
   "outputs": [
    {
     "name": "stderr",
     "output_type": "stream",
     "text": [
      "training loop:   3% |#                                                        |\r"
     ]
    },
    {
     "name": "stdout",
     "output_type": "stream",
     "text": [
      "Total score (averaged over agents) episode 20: -0.004999999888241291\n",
      "Score (max over agents) from episode 20: 0.0\n",
      "Rolling average score: 0.010000000149011612\n",
      "Noise level:  0.2 0.2\n"
     ]
    },
    {
     "name": "stderr",
     "output_type": "stream",
     "text": [
      "training loop:   6% |###                                                      |\r"
     ]
    },
    {
     "name": "stdout",
     "output_type": "stream",
     "text": [
      "Total score (averaged over agents) episode 40: -0.004999999888241291\n",
      "Score (max over agents) from episode 40: 0.0\n",
      "Rolling average score: 0.012000000197440385\n",
      "Noise level:  0.2 0.2\n",
      "Actor loss: -0.005008896812796593 | Critic loss: 5.2590967243304476e-05\n"
     ]
    },
    {
     "name": "stderr",
     "output_type": "stream",
     "text": [
      "training loop:  10% |#####                                                    |\r"
     ]
    },
    {
     "name": "stdout",
     "output_type": "stream",
     "text": [
      "Total score (averaged over agents) episode 60: -0.004999999888241291\n",
      "Score (max over agents) from episode 60: 0.0\n",
      "Rolling average score: 0.011333333514630794\n",
      "Noise level:  0.2 0.2\n",
      "Actor loss: -0.008619008585810661 | Critic loss: 4.5175791456131265e-05\n"
     ]
    },
    {
     "name": "stderr",
     "output_type": "stream",
     "text": [
      "training loop:  13% |#######                                                  |\r"
     ]
    },
    {
     "name": "stdout",
     "output_type": "stream",
     "text": [
      "Total score (averaged over agents) episode 80: 0.04500000085681677\n",
      "Score (max over agents) from episode 80: 0.10000000149011612\n",
      "Rolling average score: 0.019500000309199093\n",
      "Noise level:  0.2 0.2\n",
      "Actor loss: -0.013581211678683758 | Critic loss: 9.634933667257428e-05\n"
     ]
    },
    {
     "name": "stderr",
     "output_type": "stream",
     "text": [
      "training loop:  16% |#########                                                |\r"
     ]
    },
    {
     "name": "stdout",
     "output_type": "stream",
     "text": [
      "Total score (averaged over agents) episode 100: -0.004999999888241291\n",
      "Score (max over agents) from episode 100: 0.0\n",
      "Rolling average score: 0.0222000003606081\n",
      "Noise level:  0.2 0.2\n",
      "Actor loss: -0.019398698583245277 | Critic loss: 0.0003443041059654206\n"
     ]
    },
    {
     "name": "stderr",
     "output_type": "stream",
     "text": [
      "training loop:  20% |###########                                              |\r"
     ]
    },
    {
     "name": "stdout",
     "output_type": "stream",
     "text": [
      "Total score (averaged over agents) episode 120: -0.004999999888241291\n",
      "Score (max over agents) from episode 120: 0.0\n",
      "Rolling average score: 0.024100000392645596\n",
      "Noise level:  0.2 0.2\n",
      "Actor loss: -0.03596445173025131 | Critic loss: 0.00010593145270831883\n"
     ]
    },
    {
     "name": "stderr",
     "output_type": "stream",
     "text": [
      "training loop:  23% |#############                                            |\r"
     ]
    },
    {
     "name": "stdout",
     "output_type": "stream",
     "text": [
      "Total score (averaged over agents) episode 140: -0.004999999888241291\n",
      "Score (max over agents) from episode 140: 0.0\n",
      "Rolling average score: 0.022300000358372925\n",
      "Noise level:  0.2 0.2\n",
      "Actor loss: -0.027339212596416473 | Critic loss: 0.00013068740372546017\n"
     ]
    },
    {
     "name": "stderr",
     "output_type": "stream",
     "text": [
      "training loop:  26% |##############                                           |\r"
     ]
    },
    {
     "name": "stdout",
     "output_type": "stream",
     "text": [
      "Total score (averaged over agents) episode 160: -0.004999999888241291\n",
      "Score (max over agents) from episode 160: 0.0\n",
      "Rolling average score: 0.025200000405311583\n",
      "Noise level:  0.2 0.2\n",
      "Actor loss: -0.032761748880147934 | Critic loss: 0.00016624914132989943\n"
     ]
    },
    {
     "name": "stderr",
     "output_type": "stream",
     "text": [
      "training loop:  30% |#################                                        |\r"
     ]
    },
    {
     "name": "stdout",
     "output_type": "stream",
     "text": [
      "Total score (averaged over agents) episode 180: 0.19500000309199095\n",
      "Score (max over agents) from episode 180: 0.20000000298023224\n",
      "Rolling average score: 0.02320000037550926\n",
      "Noise level:  0.2 0.2\n",
      "Actor loss: -0.041393402963876724 | Critic loss: 0.00017324835062026978\n"
     ]
    },
    {
     "name": "stderr",
     "output_type": "stream",
     "text": [
      "training loop:  33% |##################                                       |\r"
     ]
    },
    {
     "name": "stdout",
     "output_type": "stream",
     "text": [
      "Total score (averaged over agents) episode 200: -0.004999999888241291\n",
      "Score (max over agents) from episode 200: 0.0\n",
      "Rolling average score: 0.02250000035390258\n",
      "Noise level:  0.2 0.2\n",
      "Actor loss: -0.05705695226788521 | Critic loss: 0.00019816002168226987\n"
     ]
    },
    {
     "name": "stderr",
     "output_type": "stream",
     "text": [
      "training loop:  36% |####################                                     |\r"
     ]
    },
    {
     "name": "stdout",
     "output_type": "stream",
     "text": [
      "Total score (averaged over agents) episode 220: -0.004999999888241291\n",
      "Score (max over agents) from episode 220: 0.0\n",
      "Rolling average score: 0.027500000447034836\n",
      "Noise level:  0.2 0.2\n",
      "Actor loss: -0.06034303456544876 | Critic loss: 0.00022804226318839937\n"
     ]
    },
    {
     "name": "stderr",
     "output_type": "stream",
     "text": [
      "training loop:  40% |######################                                   |\r"
     ]
    },
    {
     "name": "stdout",
     "output_type": "stream",
     "text": [
      "Total score (averaged over agents) episode 240: 0.04500000085681677\n",
      "Score (max over agents) from episode 240: 0.10000000149011612\n",
      "Rolling average score: 0.033200000543147326\n",
      "Noise level:  0.2 0.2\n",
      "Actor loss: -0.06389360874891281 | Critic loss: 0.00024603906786069274\n"
     ]
    },
    {
     "name": "stderr",
     "output_type": "stream",
     "text": [
      "training loop:  43% |########################                                 |\r"
     ]
    },
    {
     "name": "stdout",
     "output_type": "stream",
     "text": [
      "Total score (averaged over agents) episode 260: 0.1450000023469329\n",
      "Score (max over agents) from episode 260: 0.20000000298023224\n",
      "Rolling average score: 0.04310000069439411\n",
      "Noise level:  0.2 0.2\n",
      "Actor loss: -0.07365615665912628 | Critic loss: 0.0003278127987869084\n"
     ]
    },
    {
     "name": "stderr",
     "output_type": "stream",
     "text": [
      "training loop:  46% |##########################                               |\r"
     ]
    },
    {
     "name": "stdout",
     "output_type": "stream",
     "text": [
      "Total score (averaged over agents) episode 280: 0.09500000160187483\n",
      "Score (max over agents) from episode 280: 0.10000000149011612\n",
      "Rolling average score: 0.05600000090897083\n",
      "Noise level:  0.2 0.2\n",
      "Actor loss: -0.07815134525299072 | Critic loss: 0.0001361877511953935\n"
     ]
    },
    {
     "name": "stderr",
     "output_type": "stream",
     "text": [
      "training loop:  50% |############################                             |\r"
     ]
    },
    {
     "name": "stdout",
     "output_type": "stream",
     "text": [
      "Total score (averaged over agents) episode 300: 0.1450000023469329\n",
      "Score (max over agents) from episode 300: 0.19000000320374966\n",
      "Rolling average score: 0.06790000109001994\n",
      "Noise level:  0.2 0.2\n",
      "Actor loss: -0.09354924410581589 | Critic loss: 0.0003556135343387723\n"
     ]
    },
    {
     "name": "stderr",
     "output_type": "stream",
     "text": [
      "training loop:  53% |##############################                           |\r"
     ]
    },
    {
     "name": "stdout",
     "output_type": "stream",
     "text": [
      "Total score (averaged over agents) episode 320: 0.04500000085681677\n",
      "Score (max over agents) from episode 320: 0.10000000149011612\n",
      "Rolling average score: 0.0798000012524426\n",
      "Noise level:  0.2 0.2\n",
      "Actor loss: -0.07500481605529785 | Critic loss: 0.00025268198805861175\n"
     ]
    },
    {
     "name": "stderr",
     "output_type": "stream",
     "text": [
      "training loop:  56% |###############################                          |\r"
     ]
    },
    {
     "name": "stdout",
     "output_type": "stream",
     "text": [
      "Total score (averaged over agents) episode 340: 0.1450000023469329\n",
      "Score (max over agents) from episode 340: 0.20000000298023224\n",
      "Rolling average score: 0.09390000145882368\n",
      "Noise level:  0.2 0.2\n",
      "Actor loss: -0.10754535347223282 | Critic loss: 0.00035276298876851797\n"
     ]
    },
    {
     "name": "stderr",
     "output_type": "stream",
     "text": [
      "training loop:  60% |##################################                       |\r"
     ]
    },
    {
     "name": "stdout",
     "output_type": "stream",
     "text": [
      "Total score (averaged over agents) episode 360: 0.09500000160187483\n",
      "Score (max over agents) from episode 360: 0.10000000149011612\n",
      "Rolling average score: 0.10080000156536699\n",
      "Noise level:  0.2 0.2\n",
      "Actor loss: -0.11629003286361694 | Critic loss: 0.0003458719002082944\n"
     ]
    },
    {
     "name": "stderr",
     "output_type": "stream",
     "text": [
      "training loop:  63% |###################################                      |\r"
     ]
    },
    {
     "name": "stdout",
     "output_type": "stream",
     "text": [
      "Total score (averaged over agents) episode 380: 0.44500000681728125\n",
      "Score (max over agents) from episode 380: 0.5000000074505806\n",
      "Rolling average score: 0.11670000178739429\n",
      "Noise level:  0.2 0.2\n",
      "Actor loss: -0.11268004775047302 | Critic loss: 0.00034244981361553073\n"
     ]
    },
    {
     "name": "stderr",
     "output_type": "stream",
     "text": [
      "training loop:  66% |#####################################                    |\r"
     ]
    },
    {
     "name": "stdout",
     "output_type": "stream",
     "text": [
      "Total score (averaged over agents) episode 400: 0.09500000160187483\n",
      "Score (max over agents) from episode 400: 0.10000000149011612\n",
      "Rolling average score: 0.13960000213235615\n",
      "Noise level:  0.2 0.2\n",
      "Actor loss: -0.13971436023712158 | Critic loss: 0.00027619293541647494\n"
     ]
    },
    {
     "name": "stderr",
     "output_type": "stream",
     "text": [
      "training loop:  70% |#######################################                  |\r"
     ]
    },
    {
     "name": "stdout",
     "output_type": "stream",
     "text": [
      "Total score (averaged over agents) episode 420: 0.19500000309199095\n",
      "Score (max over agents) from episode 420: 0.20000000298023224\n",
      "Rolling average score: 0.14870000226423144\n",
      "Noise level:  0.2 0.2\n",
      "Actor loss: -0.19437234103679657 | Critic loss: 0.000430145621066913\n"
     ]
    },
    {
     "name": "stderr",
     "output_type": "stream",
     "text": [
      "training loop:  73% |#########################################                |\r"
     ]
    },
    {
     "name": "stdout",
     "output_type": "stream",
     "text": [
      "Total score (averaged over agents) episode 440: 0.04500000085681677\n",
      "Score (max over agents) from episode 440: 0.10000000149011612\n",
      "Rolling average score: 0.15370000233873726\n",
      "Noise level:  0.2 0.2\n",
      "Actor loss: -0.202104389667511 | Critic loss: 0.0005073812790215015\n"
     ]
    },
    {
     "name": "stderr",
     "output_type": "stream",
     "text": [
      "training loop:  76% |###########################################              |\r"
     ]
    },
    {
     "name": "stdout",
     "output_type": "stream",
     "text": [
      "Total score (averaged over agents) episode 460: 0.09500000160187483\n",
      "Score (max over agents) from episode 460: 0.10000000149011612\n",
      "Rolling average score: 0.1569000023789704\n",
      "Noise level:  0.2 0.2\n",
      "Actor loss: -0.1965043544769287 | Critic loss: 0.00036045664455741644\n"
     ]
    },
    {
     "name": "stderr",
     "output_type": "stream",
     "text": [
      "training loop:  80% |#############################################            |\r"
     ]
    },
    {
     "name": "stdout",
     "output_type": "stream",
     "text": [
      "Total score (averaged over agents) episode 480: 0.09500000160187483\n",
      "Score (max over agents) from episode 480: 0.10000000149011612\n",
      "Rolling average score: 0.14980000227689744\n",
      "Noise level:  0.2 0.2\n",
      "Actor loss: -0.1913706511259079 | Critic loss: 0.00043927549268119037\n"
     ]
    },
    {
     "name": "stderr",
     "output_type": "stream",
     "text": [
      "training loop:  83% |###############################################          |\r"
     ]
    },
    {
     "name": "stdout",
     "output_type": "stream",
     "text": [
      "Total score (averaged over agents) episode 500: 0.09500000160187483\n",
      "Score (max over agents) from episode 500: 0.10000000149011612\n",
      "Rolling average score: 0.14190000215545295\n",
      "Noise level:  0.2 0.2\n",
      "Actor loss: -0.20974686741828918 | Critic loss: 0.0004876102029811591\n"
     ]
    },
    {
     "name": "stderr",
     "output_type": "stream",
     "text": [
      "training loop:  86% |#################################################        |\r"
     ]
    },
    {
     "name": "stdout",
     "output_type": "stream",
     "text": [
      "Total score (averaged over agents) episode 520: 0.09500000160187483\n",
      "Score (max over agents) from episode 520: 0.10000000149011612\n",
      "Rolling average score: 0.13790000209584832\n",
      "Noise level:  0.2 0.2\n",
      "Actor loss: -0.21447895467281342 | Critic loss: 0.0002816123887896538\n"
     ]
    },
    {
     "name": "stderr",
     "output_type": "stream",
     "text": [
      "training loop:  90% |###################################################      |\r"
     ]
    },
    {
     "name": "stdout",
     "output_type": "stream",
     "text": [
      "Total score (averaged over agents) episode 540: 0.04500000085681677\n",
      "Score (max over agents) from episode 540: 0.10000000149011612\n",
      "Rolling average score: 0.12970000198110937\n",
      "Noise level:  0.2 0.2\n",
      "Actor loss: -0.18651148676872253 | Critic loss: 0.0006198827177286148\n"
     ]
    },
    {
     "name": "stderr",
     "output_type": "stream",
     "text": [
      "training loop:  93% |#####################################################    |\r"
     ]
    },
    {
     "name": "stdout",
     "output_type": "stream",
     "text": [
      "Total score (averaged over agents) episode 560: 0.04500000085681677\n",
      "Score (max over agents) from episode 560: 0.10000000149011612\n",
      "Rolling average score: 0.13670000208541752\n",
      "Noise level:  0.2 0.2\n",
      "Actor loss: -0.1829097419977188 | Critic loss: 0.000579751271288842\n"
     ]
    },
    {
     "name": "stderr",
     "output_type": "stream",
     "text": [
      "training loop:  96% |######################################################   |\r"
     ]
    },
    {
     "name": "stdout",
     "output_type": "stream",
     "text": [
      "Total score (averaged over agents) episode 580: -0.004999999888241291\n",
      "Score (max over agents) from episode 580: 0.0\n",
      "Rolling average score: 0.13010000197216867\n",
      "Noise level:  0.2 0.2\n",
      "Actor loss: -0.2015775442123413 | Critic loss: 0.0006409630877897143\n"
     ]
    },
    {
     "name": "stderr",
     "output_type": "stream",
     "text": [
      "training loop: 100% |#########################################################|\r"
     ]
    },
    {
     "name": "stdout",
     "output_type": "stream",
     "text": [
      "Total score (averaged over agents) episode 600: 0.04500000085681677\n",
      "Score (max over agents) from episode 600: 0.09000000171363354\n",
      "Rolling average score: 0.11820000179111957\n",
      "Noise level:  0.2 0.2\n",
      "Actor loss: -0.20771870017051697 | Critic loss: 0.00042294617742300034\n"
     ]
    },
    {
     "name": "stderr",
     "output_type": "stream",
     "text": [
      "\n"
     ]
    }
   ],
   "source": [
    "\n",
    "widget = ['training loop: ', pb.Percentage(), ' ', pb.Bar()]#, ' ', pb.ETA() ]\n",
    "timer = pb.ProgressBar(widgets=widget, maxval=nr_episodes).start()\n",
    "min_buffer = num_agents*batch_size\n",
    "assert min_buffer<max_buffer, 'minimal length of buffer for update (min_buffer) smaller than buffer memory (max_buffer)!'\n",
    "ACloss = []\n",
    "l_exists = False\n",
    "e_score = np.zeros(nr_episodes)\n",
    "rolling_avg = np.zeros(nr_episodes)\n",
    "rolling_window = deque(maxlen=100)\n",
    "t=0\n",
    "for i in range(nr_episodes):                                         # play game for nr_episodes episodes\n",
    "    env_info = env.reset(train_mode=True)[brain_name]     # reset the environment    \n",
    "    states = env_info.vector_observations                  # get the current state (for each agent)\n",
    "    ouA.reset()\n",
    "    ouB.reset()\n",
    "    scores = np.zeros(num_agents)                          # initialize the score (for each agent)\n",
    "    while True:#t<T_max:\n",
    "        t+=1\n",
    "        # select action\n",
    "        agent.actor.eval()\n",
    "        actA  = agent.act(states[np.newaxis,0]).data.cpu().numpy() + ouA.noise()\n",
    "        actB = agent.act(states[np.newaxis,1]).data.cpu().numpy() + ouB.noise()\n",
    "        actions = np.clip([actA[0], actB[0]],-1,1) # select an action (for each agent)\n",
    "        # execute and observe\n",
    "        #actions = [np.array([0.1,1]),np.array([0.1,1])]\n",
    "        env_info = env.step(actions)[brain_name]           # send all actions to tne environment\n",
    "        next_states = env_info.vector_observations         # get next state (for each agent)\n",
    "        rewards = env_info.rewards                         # get reward (for each agent)\n",
    "        dones = env_info.local_done                        # see if episode finished\n",
    "        # store in replay buffer\n",
    "        samples = [states, np.asarray(actions), np.asarray(rewards), next_states, dones]\n",
    "        buffer.store(samples)\n",
    "        # roll over states to next time step\n",
    "        states = next_states                               \n",
    "        # keep track of scores\n",
    "        scores += env_info.rewards                         # update the score (for each agent)\n",
    "        # Update agents\n",
    "        if ((t-1) % update_steps == 0) and len(buffer.buffer) > batch_size:\n",
    "            l_exists = True\n",
    "            agent.actor.train()\n",
    "            #for a_i in np.random.permutation(num_agents): #ideally you would like to sample the agents randomly \n",
    "            for ep in range(GD_steps):\n",
    "                minibatch = buffer.get_batch(batch_size)  # get batch of size (batch_size x 5) where the 2nd dim corresponds to (s,a,r,s',done)\n",
    "                agent_i = np.random.choice(num_agents,len(minibatch))\n",
    "                closs = agent.update_critic(minibatch,agent_i)\n",
    "                aloss = agent.update_actor(minibatch,agent_i)\n",
    "            #ACloss.append([aloss,closs])\n",
    "                    \n",
    "        # Update target network\n",
    "        if agent.tau == 1 and t% int(2*update_steps) == 0:\n",
    "            agent.target_update()\n",
    "        else:\n",
    "            agent.target_update()\n",
    "        # exit loop if episode finished\n",
    "        if np.any(dones): \n",
    "            break\n",
    "    \n",
    "    if l_exists:\n",
    "        ACloss.append([aloss,closs])\n",
    "\n",
    "    ouA.sigma *= noise_decay\n",
    "    ouB.sigma *= noise_decay\n",
    "    \n",
    "    e_score[i] = np.max(scores)\n",
    "    rolling_window.append(e_score[i])\n",
    "    rolling_avg[i] = np.mean(np.array(rolling_window))\n",
    "    if (i+1) % 20 == 0:\n",
    "        print('Total score (averaged over agents) episode {}: {}'.format(i+1,np.mean(scores)))\n",
    "        print('Score (max over agents) from episode {}: {}'.format(i+1, e_score[i]))\n",
    "        print('Rolling average score: {}'.format(rolling_avg[i]))\n",
    "        print('Noise level: ',ouA.sigma,ouB.sigma)\n",
    "        if l_exists:\n",
    "            print(\"Actor loss: {} | Critic loss: {}\".format(*ACloss[-1]))\n",
    "    \n",
    "    # update progress widget bar\n",
    "    timer.update(i+1)\n",
    "    \n",
    "timer.finish()"
   ]
  },
  {
   "cell_type": "code",
   "execution_count": 6,
   "metadata": {},
   "outputs": [
    {
     "name": "stdout",
     "output_type": "stream",
     "text": [
      "[[-1.         -1.        ]\n",
      " [-0.50445435  0.42952242]]\n",
      "[[-1.29359243 -1.2185474 ]]\n",
      "[[-0.50445435  0.42952242]]\n"
     ]
    }
   ],
   "source": [
    "print(actions)\n",
    "print(actA)\n",
    "print(actB)"
   ]
  },
  {
   "cell_type": "code",
   "execution_count": 7,
   "metadata": {
    "scrolled": false
   },
   "outputs": [
    {
     "name": "stdout",
     "output_type": "stream",
     "text": [
      "(568, 2)\n"
     ]
    },
    {
     "data": {
      "text/plain": [
       "[<matplotlib.lines.Line2D at 0x1a0f33dc9e8>]"
      ]
     },
     "execution_count": 7,
     "metadata": {},
     "output_type": "execute_result"
    },
    {
     "data": {
      "image/png": "[encoded data removed]",
      "text/plain": [
       "<Figure size 1080x360 with 1 Axes>"
      ]
     },
     "metadata": {
      "needs_background": "light"
     },
     "output_type": "display_data"
    },
    {
     "data": {
      "image/png": "[encoded data removed]",
      "text/plain": [
       "<Figure size 1080x360 with 2 Axes>"
      ]
     },
     "metadata": {
      "needs_background": "light"
     },
     "output_type": "display_data"
    }
   ],
   "source": [
    "ACloss = np.asarray(ACloss)\n",
    "print(ACloss.shape)\n",
    "plt.figure(figsize=(15,5))\n",
    "plt.plot(e_score)\n",
    "plt.plot(rolling_avg,'r')\n",
    "plt.plot(0.5*np.ones_like(rolling_avg),'k')\n",
    "plt.figure(figsize=(15,5))\n",
    "plt.subplot(121)\n",
    "plt.plot(ACloss[:,0])\n",
    "plt.subplot(122)\n",
    "plt.plot(ACloss[:,1])\n"
   ]
  },
  {
   "cell_type": "code",
   "execution_count": 8,
   "metadata": {},
   "outputs": [
    {
     "name": "stdout",
     "output_type": "stream",
     "text": [
      "lra 0.001, lrc 0.001, noise_lvl 0.2, noise_decay 1, batch_size 512, update_steps 5, GD_steps 2\n"
     ]
    }
   ],
   "source": [
    "# env.close()\n",
    "print('lra {}, lrc {}, noise_lvl {}, noise_decay {}, batch_size {}, update_steps {}, GD_steps {}'.format(lra, lrc, noise_lvl,noise_decay,batch_size,\n",
    "                                                                                         update_steps,GD_steps))"
   ]
  },
  {
   "cell_type": "code",
   "execution_count": 9,
   "metadata": {},
   "outputs": [
    {
     "data": {
      "text/plain": [
       "25112"
      ]
     },
     "execution_count": 9,
     "metadata": {},
     "output_type": "execute_result"
    }
   ],
   "source": [
    "len(buffer.buffer)"
   ]
  },
  {
   "cell_type": "code",
   "execution_count": 10,
   "metadata": {},
   "outputs": [
    {
     "name": "stdout",
     "output_type": "stream",
     "text": [
      "25112\n"
     ]
    }
   ],
   "source": [
    "print(t)"
   ]
  },
  {
   "cell_type": "code",
   "execution_count": 11,
   "metadata": {},
   "outputs": [
    {
     "name": "stdout",
     "output_type": "stream",
     "text": [
      "0.001\n",
      "0.001\n"
     ]
    }
   ],
   "source": [
    "for param_grp in agent.actor_optim.param_groups:\n",
    "    print(param_grp['lr'])\n",
    "for param_grp in agent.critic_optim.param_groups:\n",
    "    print(param_grp['lr'])"
   ]
  },
  {
   "cell_type": "code",
   "execution_count": 12,
   "metadata": {},
   "outputs": [
    {
     "data": {
      "text/plain": [
       "0.15790000239387156"
      ]
     },
     "execution_count": 12,
     "metadata": {},
     "output_type": "execute_result"
    }
   ],
   "source": [
    "rolling_avg.max()"
   ]
  },
  {
   "cell_type": "markdown",
   "metadata": {},
   "source": [
    "lra 0.0005, lrc 0.0005, noise_lvl 0.2, noise_decay 1, batch_size 128, update_steps 1, GD_steps 2 => 0.25"
   ]
  },
  {
   "cell_type": "code",
   "execution_count": 16,
   "metadata": {},
   "outputs": [
    {
     "ename": "UnityEnvironmentException",
     "evalue": "No Unity environment is loaded.",
     "output_type": "error",
     "traceback": [
      "\u001b[1;31m---------------------------------------------------------------------------\u001b[0m",
      "\u001b[1;31mUnityEnvironmentException\u001b[0m                 Traceback (most recent call last)",
      "\u001b[1;32m<ipython-input-16-eb4b22cbc47c>\u001b[0m in \u001b[0;36m<module>\u001b[1;34m\u001b[0m\n\u001b[0;32m      2\u001b[0m \u001b[0magent\u001b[0m\u001b[1;33m.\u001b[0m\u001b[0mactor\u001b[0m\u001b[1;33m.\u001b[0m\u001b[0meval\u001b[0m\u001b[1;33m(\u001b[0m\u001b[1;33m)\u001b[0m\u001b[1;33m\u001b[0m\u001b[1;33m\u001b[0m\u001b[0m\n\u001b[0;32m      3\u001b[0m \u001b[1;32mfor\u001b[0m \u001b[0mi\u001b[0m \u001b[1;32min\u001b[0m \u001b[0mrange\u001b[0m\u001b[1;33m(\u001b[0m\u001b[1;36m1\u001b[0m\u001b[1;33m)\u001b[0m\u001b[1;33m:\u001b[0m                                         \u001b[1;31m# play game for nr_episodes episodes\u001b[0m\u001b[1;33m\u001b[0m\u001b[1;33m\u001b[0m\u001b[0m\n\u001b[1;32m----> 4\u001b[1;33m     \u001b[0menv_info\u001b[0m \u001b[1;33m=\u001b[0m \u001b[0menv\u001b[0m\u001b[1;33m.\u001b[0m\u001b[0mreset\u001b[0m\u001b[1;33m(\u001b[0m\u001b[0mtrain_mode\u001b[0m\u001b[1;33m=\u001b[0m\u001b[1;32mFalse\u001b[0m\u001b[1;33m)\u001b[0m\u001b[1;33m[\u001b[0m\u001b[0mbrain_name\u001b[0m\u001b[1;33m]\u001b[0m     \u001b[1;31m# reset the environment\u001b[0m\u001b[1;33m\u001b[0m\u001b[1;33m\u001b[0m\u001b[0m\n\u001b[0m\u001b[0;32m      5\u001b[0m     \u001b[0mstates\u001b[0m \u001b[1;33m=\u001b[0m \u001b[0menv_info\u001b[0m\u001b[1;33m.\u001b[0m\u001b[0mvector_observations\u001b[0m                  \u001b[1;31m# get the current state (for each agent)\u001b[0m\u001b[1;33m\u001b[0m\u001b[1;33m\u001b[0m\u001b[0m\n\u001b[0;32m      6\u001b[0m     \u001b[0mscores\u001b[0m \u001b[1;33m=\u001b[0m \u001b[0mnp\u001b[0m\u001b[1;33m.\u001b[0m\u001b[0mzeros\u001b[0m\u001b[1;33m(\u001b[0m\u001b[0mnum_agents\u001b[0m\u001b[1;33m)\u001b[0m                          \u001b[1;31m# initialize the score (for each agent)\u001b[0m\u001b[1;33m\u001b[0m\u001b[1;33m\u001b[0m\u001b[0m\n",
      "\u001b[1;32m~\\Anaconda2\\envs\\drlnd\\lib\\site-packages\\unityagents\\environment.py\u001b[0m in \u001b[0;36mreset\u001b[1;34m(self, train_mode, config, lesson)\u001b[0m\n\u001b[0;32m    270\u001b[0m             \u001b[1;32mreturn\u001b[0m \u001b[0ms\u001b[0m\u001b[1;33m[\u001b[0m\u001b[1;36m0\u001b[0m\u001b[1;33m]\u001b[0m\u001b[1;33m\u001b[0m\u001b[1;33m\u001b[0m\u001b[0m\n\u001b[0;32m    271\u001b[0m         \u001b[1;32melse\u001b[0m\u001b[1;33m:\u001b[0m\u001b[1;33m\u001b[0m\u001b[1;33m\u001b[0m\u001b[0m\n\u001b[1;32m--> 272\u001b[1;33m             \u001b[1;32mraise\u001b[0m \u001b[0mUnityEnvironmentException\u001b[0m\u001b[1;33m(\u001b[0m\u001b[1;34m\"No Unity environment is loaded.\"\u001b[0m\u001b[1;33m)\u001b[0m\u001b[1;33m\u001b[0m\u001b[1;33m\u001b[0m\u001b[0m\n\u001b[0m\u001b[0;32m    273\u001b[0m \u001b[1;33m\u001b[0m\u001b[0m\n\u001b[0;32m    274\u001b[0m     \u001b[1;32mdef\u001b[0m \u001b[0mstep\u001b[0m\u001b[1;33m(\u001b[0m\u001b[0mself\u001b[0m\u001b[1;33m,\u001b[0m  \u001b[0mvector_action\u001b[0m\u001b[1;33m=\u001b[0m\u001b[1;32mNone\u001b[0m\u001b[1;33m,\u001b[0m \u001b[0mmemory\u001b[0m\u001b[1;33m=\u001b[0m\u001b[1;32mNone\u001b[0m\u001b[1;33m,\u001b[0m \u001b[0mtext_action\u001b[0m\u001b[1;33m=\u001b[0m\u001b[1;32mNone\u001b[0m\u001b[1;33m)\u001b[0m \u001b[1;33m->\u001b[0m \u001b[0mAllBrainInfo\u001b[0m\u001b[1;33m:\u001b[0m\u001b[1;33m\u001b[0m\u001b[1;33m\u001b[0m\u001b[0m\n",
      "\u001b[1;31mUnityEnvironmentException\u001b[0m: No Unity environment is loaded."
     ]
    }
   ],
   "source": [
    "T_max = 2000\n",
    "agent.actor.eval()\n",
    "for i in range(10):                                         # play game for nr_episodes episodes\n",
    "    env_info = env.reset(train_mode=False)[brain_name]     # reset the environment    \n",
    "    states = env_info.vector_observations                  # get the current state (for each agent)\n",
    "    scores = np.zeros(num_agents)                          # initialize the score (for each agent)\n",
    "    ouA.reset()\n",
    "    ouB.reset()\n",
    "    while True:#t<T_max:\n",
    "        t+=1\n",
    "        # select action\n",
    "        actA  = agent.act(states[np.newaxis,0]).data.cpu().numpy() + ouA.noise()\n",
    "        actB = agent.act(states[np.newaxis,1]).data.cpu().numpy() + ouB.noise()\n",
    "        actions = np.clip([actA[0], actB[0]],-1,1) # select an action (for each agent)\n",
    "        # execute and observe\n",
    "        #actions = [np.array([0.1,1]),np.array([0.1,1])]\n",
    "        env_info = env.step(actions)[brain_name]           # send all actions to tne environment\n",
    "        next_states = env_info.vector_observations         # get next state (for each agent)\n",
    "        rewards = env_info.rewards                         # get reward (for each agent)\n",
    "        dones = env_info.local_done                        # see if episode finished\n",
    "        # roll over states to next time step\n",
    "        states = next_states                               \n",
    "        # keep track of scores\n",
    "        scores += env_info.rewards                         # update the score (for each agent)\n",
    "        # exit loop if episode finished\n",
    "        if np.any(dones): \n",
    "            break\n",
    "    print('Best player score in episode {}: {}'.format(i,np.max(scores)))"
   ]
  },
  {
   "cell_type": "code",
   "execution_count": 14,
   "metadata": {},
   "outputs": [],
   "source": [
    "# env.close()"
   ]
  },
  {
   "cell_type": "code",
   "execution_count": 15,
   "metadata": {},
   "outputs": [
    {
     "name": "stdout",
     "output_type": "stream",
     "text": [
      "Best player score in episode 0: 0.0\n"
     ]
    }
   ],
   "source": [
    "print('Best player score in episode {}: {}'.format(i,np.max(scores)))"
   ]
  },
  {
   "cell_type": "code",
   "execution_count": null,
   "metadata": {},
   "outputs": [],
   "source": []
  }
 ],
 "metadata": {
  "kernelspec": {
   "display_name": "Python 3",
   "language": "python",
   "name": "python3"
  },
  "language_info": {
   "codemirror_mode": {
    "name": "ipython",
    "version": 3
   },
   "file_extension": ".py",
   "mimetype": "text/x-python",
   "name": "python",
   "nbconvert_exporter": "python",
   "pygments_lexer": "ipython3",
   "version": "3.6.8"
  }
 },
 "nbformat": 4,
 "nbformat_minor": 2
}
