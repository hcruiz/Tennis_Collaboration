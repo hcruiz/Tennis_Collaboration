{
 "cells": [
  {
   "cell_type": "code",
   "execution_count": 1,
   "metadata": {},
   "outputs": [
    {
     "name": "stderr",
     "output_type": "stream",
     "text": [
      "INFO:unityagents:\n",
      "'Academy' started successfully!\n",
      "Unity Academy name: Academy\n",
      "        Number of Brains: 1\n",
      "        Number of External Brains : 1\n",
      "        Lesson number : 0\n",
      "        Reset Parameters :\n",
      "\t\t\n",
      "Unity brain name: TennisBrain\n",
      "        Number of Visual Observations (per agent): 0\n",
      "        Vector Observation space type: continuous\n",
      "        Vector Observation space size (per agent): 8\n",
      "        Number of stacked Vector Observation: 3\n",
      "        Vector Action space type: continuous\n",
      "        Vector Action space size (per agent): 2\n",
      "        Vector Action descriptions: , \n"
     ]
    }
   ],
   "source": [
    "from unityagents import UnityEnvironment\n",
    "env_file = 'Tennis_Linux/Tennis.x86_64'# \"Tennis_Windows_x86_64\\Tennis.exe\" #\n",
    "env = UnityEnvironment(file_name=env_file, no_graphics = True)"
   ]
  },
  {
   "cell_type": "code",
   "execution_count": 2,
   "metadata": {},
   "outputs": [
    {
     "name": "stdout",
     "output_type": "stream",
     "text": [
      "using device:  cuda:0\n",
      "NO grad. clipping used.\n"
     ]
    }
   ],
   "source": [
    "import random\n",
    "import sys\n",
    "import torch\n",
    "import numpy as np\n",
    "from collections import deque\n",
    "import progressbar as pb\n",
    "import matplotlib.pyplot as plt\n",
    "from utils import OUprocess, Reply_buffer\n",
    "from Tennis_agent import SelfPlay_Agent"
   ]
  },
  {
   "cell_type": "code",
   "execution_count": 3,
   "metadata": {},
   "outputs": [
    {
     "name": "stdout",
     "output_type": "stream",
     "text": [
      "Number of agents: 2\n",
      "Size of each action: 2\n",
      "states shape:  (2, 24)\n",
      "There are 2 agents. Each observes a state with length: 24\n",
      "The state for the first agent looks like: [ 0.          0.          0.          0.          0.          0.\n",
      "  0.          0.          0.          0.          0.          0.\n",
      "  0.          0.          0.          0.         -6.65278625 -1.5\n",
      " -0.          0.          6.83172083  6.         -0.          0.        ]\n",
      "The state for the second agent looks like: [ 0.          0.          0.          0.          0.          0.\n",
      "  0.          0.          0.          0.          0.          0.\n",
      "  0.          0.          0.          0.         -6.4669857  -1.5\n",
      "  0.          0.         -6.83172083  6.          0.          0.        ]\n"
     ]
    }
   ],
   "source": [
    "# get the default brain\n",
    "brain_name = env.brain_names[0]\n",
    "brain = env.brains[brain_name]\n",
    "\n",
    "# reset the environment\n",
    "env_info = env.reset(train_mode=True)[brain_name]\n",
    "\n",
    "# number of agents \n",
    "num_agents = len(env_info.agents)\n",
    "print('Number of agents:', num_agents)\n",
    "\n",
    "# size of each action\n",
    "action_size = brain.vector_action_space_size\n",
    "print('Size of each action:', action_size)\n",
    "\n",
    "# examine the state space \n",
    "states = env_info.vector_observations\n",
    "state_size = states.shape[1]\n",
    "print('states shape: ',states.shape)\n",
    "print('There are {} agents. Each observes a state with length: {}'.format(states.shape[0], state_size))\n",
    "print('The state for the first agent looks like:', states[0])\n",
    "print('The state for the second agent looks like:', states[1])"
   ]
  },
  {
   "cell_type": "code",
   "execution_count": 4,
   "metadata": {
    "scrolled": true
   },
   "outputs": [],
   "source": [
    "def train_agent(env, nr_episodes, num_agents, seed): \n",
    "    \n",
    "    max_buffer = int(1.e+6)\n",
    "    \n",
    "    noise_decay = 1#0.999\n",
    "    noise_lvl = 0.2\n",
    "    \n",
    "    batch_size = 256\n",
    "    update_steps = 5\n",
    "    GD_steps = 4\n",
    "    lra=1.e-3\n",
    "    lrc=1.e-3\n",
    "    tau=1\n",
    "    discount=0.999\n",
    "    \n",
    "    print('### ===================================== seed {} ======================================= ###'.format(seed))\n",
    "    print('lra {}, lrc {}, noise_lvl {}, noise_decay {}, batch_size {}, update_steps {}, GD_steps {}, tau {}, gamma {}'.format(\n",
    "        lra, lrc, noise_lvl,noise_decay,batch_size,update_steps,GD_steps,tau,discount))\n",
    "    \n",
    "    buffer = Reply_buffer(max_buffer,seed=seed)\n",
    "    ou = OUprocess(num_agents, action_size, sigma=noise_lvl, seed=seed)\n",
    "    agent = SelfPlay_Agent(state_size, action_size, num_agents, tau=tau, discount=discount, lr_act=lra, lr_crit=lrc, seed=seed)\n",
    "    print(agent.actor)\n",
    "    print(agent.critic)\n",
    "    widget = ['training loop: ', pb.Percentage(), ' ', pb.Bar()]\n",
    "    timer = pb.ProgressBar(widgets=widget, maxval=nr_episodes).start()\n",
    "    ACloss = []\n",
    "    l_exists = False\n",
    "    max_avg = np.inf\n",
    "    e_score = np.zeros(nr_episodes)\n",
    "    rolling_avg = np.zeros(nr_episodes)\n",
    "    rolling_window = deque(maxlen=100)\n",
    "    t=0\n",
    "    for i in range(nr_episodes):                                         # play game for nr_episodes episodes\n",
    "        env_info = env.reset(train_mode=True)[brain_name]     # reset the environment    \n",
    "        states = env_info.vector_observations                  # get the current state (for each agent)\n",
    "        ou.reset()\n",
    "    #     ouB.reset()\n",
    "        scores = np.zeros(num_agents)                          # initialize the score (for each agent)\n",
    "        while True:\n",
    "            t+=1\n",
    "            # select action\n",
    "            agent.actor.eval()\n",
    "            noise = ou.noise()\n",
    "            actA  = agent.act(states[np.newaxis,0]).data.cpu().numpy() + noise[0]\n",
    "            actB = agent.act(states[np.newaxis,1]).data.cpu().numpy() + noise[1]\n",
    "            actions = np.clip([actA[0], actB[0]],-1,1) # select an action (for each agent)\n",
    "            # execute and observe\n",
    "            env_info = env.step(actions)[brain_name]           # send all actions to tne environment\n",
    "            next_states = env_info.vector_observations         # get next state (for each agent)\n",
    "            rewards = env_info.rewards                         # get reward (for each agent)\n",
    "            dones = env_info.local_done                        # see if episode finished\n",
    "            # store in replay buffer\n",
    "            samples = [states, np.asarray(actions), np.asarray(rewards), next_states, dones]\n",
    "            buffer.store(samples)\n",
    "            # roll over states to next time step\n",
    "            states = next_states                               \n",
    "            # keep track of scores\n",
    "            scores += env_info.rewards                         # update the score (for each agent)\n",
    "            # Update agents\n",
    "            if ((t-1) % update_steps == 0) and len(buffer.buffer) > batch_size:\n",
    "                l_exists = True\n",
    "                agent.actor.train()\n",
    "                for ep in range(GD_steps):\n",
    "                    minibatch = buffer.get_batch(batch_size)  # get batch of size (batch_size x 5) where the 2nd dim corresponds to (s,a,r,s',done)\n",
    "                    agent_i = np.random.choice(num_agents,len(minibatch))\n",
    "                    closs = agent.update_critic(minibatch,agent_i)\n",
    "                    aloss = agent.update_actor(minibatch,agent_i)\n",
    "\n",
    "            # Update target network\n",
    "            if agent.tau == 1 and t% int(2*update_steps) == 0:\n",
    "                agent.target_update()\n",
    "            else:\n",
    "                agent.target_update()\n",
    "            # exit loop if episode finished\n",
    "            if np.any(dones): \n",
    "                break\n",
    "\n",
    "        if l_exists:\n",
    "            ACloss.append([aloss,closs])\n",
    "\n",
    "        ou.sigma *= noise_decay\n",
    "\n",
    "        e_score[i] = np.max(scores)\n",
    "        rolling_window.append(e_score[i])\n",
    "        rolling_avg[i] = np.mean(np.array(rolling_window))\n",
    "        if rolling_avg[i] > 0.5:\n",
    "            print('\\nEnvironment solved in {:d} episodes!\\tAverage Score: {:.2f}'.format(i, rolling_avg[i]))\n",
    "            # Save actor and critic\n",
    "            torch.save(agent.actor.state_dict(), 'Tennis.player')\n",
    "            torch.save(agent.critic.state_dict(), 'Tennis.critic')\n",
    "            max_avg = rolling_avg[i]\n",
    "            print('Networks saved')\n",
    "\n",
    "        if (i+1) % 20 == 0:\n",
    "            print('Total score (averaged over agents) episode {}: {}'.format(i+1,np.mean(scores)))\n",
    "            print('Score (max over agents) from episode {}: {}'.format(i+1, e_score[i]))\n",
    "            print('Rolling average score: {}'.format(rolling_avg[i]))\n",
    "    #         print('Noise level: ',ouA.sigma,ouB.sigma)\n",
    "            if l_exists:\n",
    "                print(\"Actor loss: {} | Critic loss: {}\".format(*ACloss[-1]))\n",
    "            if rolling_avg[i]>max_avg:\n",
    "                # Save best actor and critic\n",
    "                torch.save(agent.actor.state_dict(), 'Tennis.player')\n",
    "                torch.save(agent.critic.state_dict(), 'Tennis.critic')\n",
    "                max_avg = rolling_avg[i]\n",
    "                print('Better network saved!')\n",
    "        # update progress widget bar\n",
    "        timer.update(i+1)\n",
    "\n",
    "    print('Max score: ', rolling_avg.max())\n",
    "    timer.finish()\n",
    "    \n",
    "    print('### ---------------------------- ++++++++++++++++++++++++ ---------------------------- ###')\n",
    "    ACloss = np.asarray(ACloss)\n",
    "    return ACloss, rolling_avg, e_score, agent"
   ]
  },
  {
   "cell_type": "code",
   "execution_count": 5,
   "metadata": {},
   "outputs": [
    {
     "name": "stdout",
     "output_type": "stream",
     "text": [
      "### ===================================== seed 2766530 ======================================= ###\n",
      "lra 0.001, lrc 0.001, noise_lvl 0.2, noise_decay 1, batch_size 256, update_steps 5, GD_steps 4, tau 1, gamma 0.999\n",
      "Random seed in buffer is:  2766530\n",
      "numpy seed in ou-process set to : 2766530\n",
      "torch seed in actor set to:  2766530\n"
     ]
    },
    {
     "name": "stderr",
     "output_type": "stream",
     "text": [
      "training loop:   0% |                                                         |\r"
     ]
    },
    {
     "name": "stdout",
     "output_type": "stream",
     "text": [
      "torch seed in actor set to:  2766530\n",
      "torch seed in critic set to:  2766530\n",
      "torch seed in critic set to:  2766530\n",
      "ActorNet(\n",
      "  (fc_in): Linear(in_features=24, out_features=128, bias=True)\n",
      "  (fc1): Linear(in_features=128, out_features=64, bias=True)\n",
      "  (fc_out): Linear(in_features=64, out_features=2, bias=True)\n",
      ")\n",
      "CriticNet(\n",
      "  (bn0): BatchNorm1d(52, eps=1e-05, momentum=0.1, affine=True, track_running_stats=True)\n",
      "  (fc_in): Linear(in_features=52, out_features=256, bias=True)\n",
      "  (fc1): Linear(in_features=256, out_features=64, bias=True)\n",
      "  (fc_out): Linear(in_features=64, out_features=1, bias=True)\n",
      ")\n"
     ]
    },
    {
     "name": "stderr",
     "output_type": "stream",
     "text": [
      "training loop:   1% |                                                         |\r"
     ]
    },
    {
     "name": "stdout",
     "output_type": "stream",
     "text": [
      "Total score (averaged over agents) episode 20: -0.004999999888241291\n",
      "Score (max over agents) from episode 20: 0.0\n",
      "Rolling average score: 0.005000000074505806\n",
      "Actor loss: -0.01859528385102749 | Critic loss: 0.00026308270753361285\n"
     ]
    },
    {
     "name": "stderr",
     "output_type": "stream",
     "text": [
      "training loop:   2% |#                                                        |\r"
     ]
    },
    {
     "name": "stdout",
     "output_type": "stream",
     "text": [
      "Total score (averaged over agents) episode 40: -0.004999999888241291\n",
      "Score (max over agents) from episode 40: 0.0\n",
      "Rolling average score: 0.002500000037252903\n",
      "Actor loss: -0.10647831857204437 | Critic loss: 0.0020669796504080296\n"
     ]
    },
    {
     "name": "stderr",
     "output_type": "stream",
     "text": [
      "training loop:   4% |##                                                       |\r"
     ]
    },
    {
     "name": "stdout",
     "output_type": "stream",
     "text": [
      "Total score (averaged over agents) episode 60: -0.004999999888241291\n",
      "Score (max over agents) from episode 60: 0.0\n",
      "Rolling average score: 0.0031666667200624943\n",
      "Actor loss: -0.009820601902902126 | Critic loss: 0.00029592870851047337\n"
     ]
    },
    {
     "name": "stderr",
     "output_type": "stream",
     "text": [
      "training loop:   5% |##                                                       |\r"
     ]
    },
    {
     "name": "stdout",
     "output_type": "stream",
     "text": [
      "Total score (averaged over agents) episode 80: -0.004999999888241291\n",
      "Score (max over agents) from episode 80: 0.0\n",
      "Rolling average score: 0.0023750000400468707\n",
      "Actor loss: -0.004502888768911362 | Critic loss: 7.424222712870687e-05\n"
     ]
    },
    {
     "name": "stderr",
     "output_type": "stream",
     "text": [
      "training loop:   6% |###                                                      |\r"
     ]
    },
    {
     "name": "stdout",
     "output_type": "stream",
     "text": [
      "Total score (averaged over agents) episode 100: -0.004999999888241291\n",
      "Score (max over agents) from episode 100: 0.0\n",
      "Rolling average score: 0.0019000000320374966\n",
      "Actor loss: 0.0003918083384633064 | Critic loss: 6.0206777561688796e-05\n"
     ]
    },
    {
     "name": "stderr",
     "output_type": "stream",
     "text": [
      "training loop:   8% |####                                                     |\r"
     ]
    },
    {
     "name": "stdout",
     "output_type": "stream",
     "text": [
      "Total score (averaged over agents) episode 120: -0.004999999888241291\n",
      "Score (max over agents) from episode 120: 0.0\n",
      "Rolling average score: 0.0009000000171363354\n",
      "Actor loss: -0.00182892638258636 | Critic loss: 1.603530654392671e-05\n"
     ]
    },
    {
     "name": "stderr",
     "output_type": "stream",
     "text": [
      "training loop:   9% |#####                                                    |\r"
     ]
    },
    {
     "name": "stdout",
     "output_type": "stream",
     "text": [
      "Total score (averaged over agents) episode 140: -0.004999999888241291\n",
      "Score (max over agents) from episode 140: 0.0\n",
      "Rolling average score: 0.0009000000171363354\n",
      "Actor loss: -0.0026486588176339865 | Critic loss: 2.0221314116497524e-05\n"
     ]
    },
    {
     "name": "stderr",
     "output_type": "stream",
     "text": [
      "training loop:  10% |#####                                                    |\r"
     ]
    },
    {
     "name": "stdout",
     "output_type": "stream",
     "text": [
      "Total score (averaged over agents) episode 160: -0.004999999888241291\n",
      "Score (max over agents) from episode 160: 0.0\n",
      "Rolling average score: 0.0\n",
      "Actor loss: -0.00394014548510313 | Critic loss: 1.693783633527346e-05\n"
     ]
    },
    {
     "name": "stderr",
     "output_type": "stream",
     "text": [
      "training loop:  12% |######                                                   |\r"
     ]
    },
    {
     "name": "stdout",
     "output_type": "stream",
     "text": [
      "Total score (averaged over agents) episode 180: 0.04500000085681677\n",
      "Score (max over agents) from episode 180: 0.10000000149011612\n",
      "Rolling average score: 0.005800000093877315\n",
      "Actor loss: -0.004971832036972046 | Critic loss: 3.490562448860146e-05\n"
     ]
    },
    {
     "name": "stderr",
     "output_type": "stream",
     "text": [
      "training loop:  13% |#######                                                  |\r"
     ]
    },
    {
     "name": "stdout",
     "output_type": "stream",
     "text": [
      "Total score (averaged over agents) episode 200: -0.004999999888241291\n",
      "Score (max over agents) from episode 200: 0.0\n",
      "Rolling average score: 0.006700000111013651\n",
      "Actor loss: -0.0021235537715256214 | Critic loss: 3.1449755624635145e-05\n"
     ]
    },
    {
     "name": "stderr",
     "output_type": "stream",
     "text": [
      "training loop:  14% |#######                                                  |\r"
     ]
    },
    {
     "name": "stdout",
     "output_type": "stream",
     "text": [
      "Total score (averaged over agents) episode 220: 0.24000000394880772\n",
      "Score (max over agents) from episode 220: 0.30000000447034836\n",
      "Rolling average score: 0.011700000185519456\n",
      "Actor loss: -0.012047234922647476 | Critic loss: 4.143708065384999e-05\n"
     ]
    },
    {
     "name": "stderr",
     "output_type": "stream",
     "text": [
      "training loop:  16% |#########                                                |\r"
     ]
    },
    {
     "name": "stdout",
     "output_type": "stream",
     "text": [
      "Total score (averaged over agents) episode 240: -0.004999999888241291\n",
      "Score (max over agents) from episode 240: 0.0\n",
      "Rolling average score: 0.015600000247359276\n",
      "Actor loss: -0.022219926118850708 | Critic loss: 0.00010725437459768727\n"
     ]
    },
    {
     "name": "stderr",
     "output_type": "stream",
     "text": [
      "training loop:  17% |#########                                                |\r"
     ]
    },
    {
     "name": "stdout",
     "output_type": "stream",
     "text": [
      "Total score (averaged over agents) episode 260: -0.004999999888241291\n",
      "Score (max over agents) from episode 260: 0.0\n",
      "Rolling average score: 0.02250000035390258\n",
      "Actor loss: -0.032810479402542114 | Critic loss: 0.00019168575818184763\n"
     ]
    },
    {
     "name": "stderr",
     "output_type": "stream",
     "text": [
      "training loop:  18% |##########                                               |\r"
     ]
    },
    {
     "name": "stdout",
     "output_type": "stream",
     "text": [
      "Total score (averaged over agents) episode 280: -0.004999999888241291\n",
      "Score (max over agents) from episode 280: 0.0\n",
      "Rolling average score: 0.02250000035390258\n",
      "Actor loss: -0.050242118537425995 | Critic loss: 0.00024769629817456007\n"
     ]
    },
    {
     "name": "stderr",
     "output_type": "stream",
     "text": [
      "training loop:  20% |###########                                              |\r"
     ]
    },
    {
     "name": "stdout",
     "output_type": "stream",
     "text": [
      "Total score (averaged over agents) episode 300: -0.004999999888241291\n",
      "Score (max over agents) from episode 300: 0.0\n",
      "Rolling average score: 0.03320000052452087\n",
      "Actor loss: -0.03720258176326752 | Critic loss: 0.00019394035916775465\n"
     ]
    },
    {
     "name": "stderr",
     "output_type": "stream",
     "text": [
      "training loop:  21% |###########                                              |\r"
     ]
    },
    {
     "name": "stdout",
     "output_type": "stream",
     "text": [
      "Total score (averaged over agents) episode 320: -0.004999999888241291\n",
      "Score (max over agents) from episode 320: 0.0\n",
      "Rolling average score: 0.03770000061020255\n",
      "Actor loss: -0.06864939630031586 | Critic loss: 0.0002505165175534785\n"
     ]
    },
    {
     "name": "stderr",
     "output_type": "stream",
     "text": [
      "training loop:  22% |############                                             |\r"
     ]
    },
    {
     "name": "stdout",
     "output_type": "stream",
     "text": [
      "Total score (averaged over agents) episode 340: 0.04500000085681677\n",
      "Score (max over agents) from episode 340: 0.10000000149011612\n",
      "Rolling average score: 0.049500000793486834\n",
      "Actor loss: -0.19307072460651398 | Critic loss: 0.0005572625086642802\n"
     ]
    },
    {
     "name": "stderr",
     "output_type": "stream",
     "text": [
      "training loop:  24% |#############                                            |\r"
     ]
    },
    {
     "name": "stdout",
     "output_type": "stream",
     "text": [
      "Total score (averaged over agents) episode 360: 0.04500000085681677\n",
      "Score (max over agents) from episode 360: 0.10000000149011612\n",
      "Rolling average score: 0.07740000123158097\n",
      "Actor loss: -0.4053558111190796 | Critic loss: 0.003406747244298458\n"
     ]
    },
    {
     "name": "stderr",
     "output_type": "stream",
     "text": [
      "training loop:  25% |##############                                           |\r"
     ]
    },
    {
     "name": "stdout",
     "output_type": "stream",
     "text": [
      "Total score (averaged over agents) episode 380: 0.04500000085681677\n",
      "Score (max over agents) from episode 380: 0.10000000149011612\n",
      "Rolling average score: 0.09540000149980188\n",
      "Actor loss: -0.3651379942893982 | Critic loss: 0.0030366911087185144\n"
     ]
    },
    {
     "name": "stderr",
     "output_type": "stream",
     "text": [
      "training loop:  26% |##############                                           |\r"
     ]
    },
    {
     "name": "stdout",
     "output_type": "stream",
     "text": [
      "Total score (averaged over agents) episode 400: 0.3950000060722232\n",
      "Score (max over agents) from episode 400: 0.4000000059604645\n",
      "Rolling average score: 0.12670000195503234\n",
      "Actor loss: -0.4504058361053467 | Critic loss: 0.0036408943124115467\n"
     ]
    },
    {
     "name": "stderr",
     "output_type": "stream",
     "text": [
      "training loop:  28% |###############                                          |\r"
     ]
    },
    {
     "name": "stdout",
     "output_type": "stream",
     "text": [
      "Total score (averaged over agents) episode 420: 0.04500000085681677\n",
      "Score (max over agents) from episode 420: 0.10000000149011612\n",
      "Rolling average score: 0.16000000244006515\n",
      "Actor loss: -0.5924396514892578 | Critic loss: 0.005802717059850693\n"
     ]
    },
    {
     "name": "stderr",
     "output_type": "stream",
     "text": [
      "training loop:  29% |################                                         |\r"
     ]
    },
    {
     "name": "stdout",
     "output_type": "stream",
     "text": [
      "Total score (averaged over agents) episode 440: 0.8950000135228038\n",
      "Score (max over agents) from episode 440: 0.9000000134110451\n",
      "Rolling average score: 0.18880000287666918\n",
      "Actor loss: -0.6495146751403809 | Critic loss: 0.0028930159751325846\n"
     ]
    },
    {
     "name": "stderr",
     "output_type": "stream",
     "text": [
      "training loop:  30% |#################                                        |\r"
     ]
    },
    {
     "name": "stdout",
     "output_type": "stream",
     "text": [
      "Total score (averaged over agents) episode 460: 0.09500000160187483\n",
      "Score (max over agents) from episode 460: 0.10000000149011612\n",
      "Rolling average score: 0.19400000292807817\n",
      "Actor loss: -0.7945457696914673 | Critic loss: 0.008292723447084427\n"
     ]
    },
    {
     "name": "stderr",
     "output_type": "stream",
     "text": [
      "training loop:  32% |##################                                       |\r"
     ]
    },
    {
     "name": "stdout",
     "output_type": "stream",
     "text": [
      "Total score (averaged over agents) episode 480: 0.09500000160187483\n",
      "Score (max over agents) from episode 480: 0.10000000149011612\n",
      "Rolling average score: 0.21500000324100255\n",
      "Actor loss: -0.8003724813461304 | Critic loss: 0.006471723318099976\n"
     ]
    },
    {
     "name": "stderr",
     "output_type": "stream",
     "text": [
      "training loop:  33% |##################                                       |\r"
     ]
    },
    {
     "name": "stdout",
     "output_type": "stream",
     "text": [
      "Total score (averaged over agents) episode 500: 0.1450000023469329\n",
      "Score (max over agents) from episode 500: 0.20000000298023224\n",
      "Rolling average score: 0.24280000366270543\n",
      "Actor loss: -1.3306792974472046 | Critic loss: 0.012121936306357384\n"
     ]
    },
    {
     "name": "stderr",
     "output_type": "stream",
     "text": [
      "training loop:  34% |###################                                      |\r"
     ]
    },
    {
     "name": "stdout",
     "output_type": "stream",
     "text": [
      "Total score (averaged over agents) episode 520: 0.19500000309199095\n",
      "Score (max over agents) from episode 520: 0.20000000298023224\n",
      "Rolling average score: 0.23690000357106328\n",
      "Actor loss: -1.7615413665771484 | Critic loss: 0.013114717788994312\n"
     ]
    },
    {
     "name": "stderr",
     "output_type": "stream",
     "text": [
      "training loop:  36% |####################                                     |\r"
     ]
    },
    {
     "name": "stdout",
     "output_type": "stream",
     "text": [
      "Total score (averaged over agents) episode 540: 0.3950000060722232\n",
      "Score (max over agents) from episode 540: 0.4000000059604645\n",
      "Rolling average score: 0.24740000370889903\n",
      "Actor loss: -1.798406720161438 | Critic loss: 0.011043664067983627\n"
     ]
    },
    {
     "name": "stderr",
     "output_type": "stream",
     "text": [
      "training loop:  37% |#####################                                    |\r"
     ]
    },
    {
     "name": "stdout",
     "output_type": "stream",
     "text": [
      "Total score (averaged over agents) episode 560: 0.3450000053271651\n",
      "Score (max over agents) from episode 560: 0.4000000059604645\n",
      "Rolling average score: 0.2612000039219856\n",
      "Actor loss: -1.968902826309204 | Critic loss: 0.01948966644704342\n"
     ]
    },
    {
     "name": "stderr",
     "output_type": "stream",
     "text": [
      "training loop:  38% |#####################                                    |\r"
     ]
    },
    {
     "name": "stdout",
     "output_type": "stream",
     "text": [
      "Total score (averaged over agents) episode 580: 0.39500000700354576\n",
      "Score (max over agents) from episode 580: 0.4000000059604645\n",
      "Rolling average score: 0.2574000038579106\n",
      "Actor loss: -2.8903651237487793 | Critic loss: 0.06677974760532379\n"
     ]
    },
    {
     "name": "stderr",
     "output_type": "stream",
     "text": [
      "training loop:  40% |######################                                   |\r"
     ]
    },
    {
     "name": "stdout",
     "output_type": "stream",
     "text": [
      "Total score (averaged over agents) episode 600: 0.245000003837049\n",
      "Score (max over agents) from episode 600: 0.30000000447034836\n",
      "Rolling average score: 0.24070000359788538\n",
      "Actor loss: -4.42433500289917 | Critic loss: 0.11299826949834824\n"
     ]
    },
    {
     "name": "stderr",
     "output_type": "stream",
     "text": [
      "training loop:  41% |#######################                                  |\r"
     ]
    },
    {
     "name": "stdout",
     "output_type": "stream",
     "text": [
      "Total score (averaged over agents) episode 620: 0.44500000681728125\n",
      "Score (max over agents) from episode 620: 0.5000000074505806\n",
      "Rolling average score: 0.2557000038214028\n",
      "Actor loss: -7.234282970428467 | Critic loss: 0.24235466122627258\n"
     ]
    },
    {
     "name": "stderr",
     "output_type": "stream",
     "text": [
      "training loop:  42% |#######################                                  |\r"
     ]
    },
    {
     "name": "stdout",
     "output_type": "stream",
     "text": [
      "Total score (averaged over agents) episode 640: 0.29500000458210707\n",
      "Score (max over agents) from episode 640: 0.4000000059604645\n",
      "Rolling average score: 0.2536000037938356\n",
      "Actor loss: -15.251422882080078 | Critic loss: 1.171426773071289\n"
     ]
    },
    {
     "name": "stderr",
     "output_type": "stream",
     "text": [
      "training loop:  44% |#########################                                |\r"
     ]
    },
    {
     "name": "stdout",
     "output_type": "stream",
     "text": [
      "Total score (averaged over agents) episode 660: -0.004999999888241291\n",
      "Score (max over agents) from episode 660: 0.0\n",
      "Rolling average score: 0.23840000357478858\n",
      "Actor loss: -21.930139541625977 | Critic loss: 2.6556968688964844\n"
     ]
    },
    {
     "name": "stderr",
     "output_type": "stream",
     "text": [
      "training loop:  45% |#########################                                |\r"
     ]
    },
    {
     "name": "stdout",
     "output_type": "stream",
     "text": [
      "Total score (averaged over agents) episode 680: 0.19500000309199095\n",
      "Score (max over agents) from episode 680: 0.20000000298023224\n",
      "Rolling average score: 0.24740000370889903\n",
      "Actor loss: -31.82274627685547 | Critic loss: 6.950283050537109\n"
     ]
    },
    {
     "name": "stderr",
     "output_type": "stream",
     "text": [
      "training loop:  46% |##########################                               |\r"
     ]
    },
    {
     "name": "stdout",
     "output_type": "stream",
     "text": [
      "Total score (averaged over agents) episode 700: 0.1450000023469329\n",
      "Score (max over agents) from episode 700: 0.20000000298023224\n",
      "Rolling average score: 0.2274000034108758\n",
      "Actor loss: -48.89806365966797 | Critic loss: 18.98332977294922\n"
     ]
    },
    {
     "name": "stderr",
     "output_type": "stream",
     "text": [
      "training loop:  48% |###########################                              |\r"
     ]
    },
    {
     "name": "stdout",
     "output_type": "stream",
     "text": [
      "Total score (averaged over agents) episode 720: -0.004999999888241291\n",
      "Score (max over agents) from episode 720: 0.0\n",
      "Rolling average score: 0.23720000356435775\n",
      "Actor loss: -89.02734375 | Critic loss: 39.209293365478516\n"
     ]
    },
    {
     "name": "stderr",
     "output_type": "stream",
     "text": [
      "training loop:  49% |###########################                              |\r"
     ]
    },
    {
     "name": "stdout",
     "output_type": "stream",
     "text": [
      "Total score (averaged over agents) episode 740: 0.4950000075623393\n",
      "Score (max over agents) from episode 740: 0.5000000074505806\n",
      "Rolling average score: 0.24830000372603536\n",
      "Actor loss: -190.1173858642578 | Critic loss: 133.91485595703125\n"
     ]
    },
    {
     "name": "stderr",
     "output_type": "stream",
     "text": [
      "training loop:  50% |############################                             |\r"
     ]
    },
    {
     "name": "stdout",
     "output_type": "stream",
     "text": [
      "Total score (averaged over agents) episode 760: -0.004999999888241291\n",
      "Score (max over agents) from episode 760: 0.0\n",
      "Rolling average score: 0.2585000038892031\n",
      "Actor loss: -384.9918212890625 | Critic loss: 583.401123046875\n"
     ]
    },
    {
     "name": "stderr",
     "output_type": "stream",
     "text": [
      "training loop:  52% |#############################                            |\r"
     ]
    },
    {
     "name": "stdout",
     "output_type": "stream",
     "text": [
      "Total score (averaged over agents) episode 780: 0.09500000160187483\n",
      "Score (max over agents) from episode 780: 0.10000000149011612\n",
      "Rolling average score: 0.25430000383406876\n",
      "Actor loss: -731.3021240234375 | Critic loss: 1895.6866455078125\n"
     ]
    },
    {
     "name": "stderr",
     "output_type": "stream",
     "text": [
      "training loop:  53% |##############################                           |\r"
     ]
    },
    {
     "name": "stdout",
     "output_type": "stream",
     "text": [
      "Total score (averaged over agents) episode 800: 0.09500000160187483\n",
      "Score (max over agents) from episode 800: 0.10000000149011612\n",
      "Rolling average score: 0.26720000403001903\n",
      "Actor loss: -1322.801025390625 | Critic loss: 8091.951171875\n"
     ]
    },
    {
     "name": "stderr",
     "output_type": "stream",
     "text": [
      "training loop:  54% |##############################                           |\r"
     ]
    },
    {
     "name": "stdout",
     "output_type": "stream",
     "text": [
      "Total score (averaged over agents) episode 820: 0.09500000160187483\n",
      "Score (max over agents) from episode 820: 0.10000000149011612\n",
      "Rolling average score: 0.27350000411272046\n",
      "Actor loss: -3125.416748046875 | Critic loss: 27167.7890625\n"
     ]
    },
    {
     "name": "stderr",
     "output_type": "stream",
     "text": [
      "training loop:  56% |###############################                          |\r"
     ]
    },
    {
     "name": "stdout",
     "output_type": "stream",
     "text": [
      "Total score (averaged over agents) episode 840: 0.1450000023469329\n",
      "Score (max over agents) from episode 840: 0.20000000298023224\n",
      "Rolling average score: 0.2535000038146973\n",
      "Actor loss: -4306.9560546875 | Critic loss: 81355.03125\n"
     ]
    },
    {
     "name": "stderr",
     "output_type": "stream",
     "text": [
      "training loop:  57% |################################                         |\r"
     ]
    },
    {
     "name": "stdout",
     "output_type": "stream",
     "text": [
      "Total score (averaged over agents) episode 860: 0.1450000023469329\n",
      "Score (max over agents) from episode 860: 0.20000000298023224\n",
      "Rolling average score: 0.2456000036932528\n",
      "Actor loss: -6148.09765625 | Critic loss: 301736.0625\n"
     ]
    },
    {
     "name": "stderr",
     "output_type": "stream",
     "text": [
      "training loop:  58% |#################################                        |\r"
     ]
    },
    {
     "name": "stdout",
     "output_type": "stream",
     "text": [
      "Total score (averaged over agents) episode 880: -0.004999999888241291\n",
      "Score (max over agents) from episode 880: 0.0\n",
      "Rolling average score: 0.24270000364631414\n",
      "Actor loss: -8960.78515625 | Critic loss: 383228.84375\n"
     ]
    },
    {
     "name": "stderr",
     "output_type": "stream",
     "text": [
      "training loop:  60% |##################################                       |\r"
     ]
    },
    {
     "name": "stdout",
     "output_type": "stream",
     "text": [
      "Total score (averaged over agents) episode 900: -0.004999999888241291\n",
      "Score (max over agents) from episode 900: 0.0\n",
      "Rolling average score: 0.22970000345259906\n",
      "Actor loss: -11651.013671875 | Critic loss: 379531.4375\n"
     ]
    },
    {
     "name": "stderr",
     "output_type": "stream",
     "text": [
      "training loop:  61% |##################################                       |\r"
     ]
    },
    {
     "name": "stdout",
     "output_type": "stream",
     "text": [
      "Total score (averaged over agents) episode 920: -0.004999999888241291\n",
      "Score (max over agents) from episode 920: 0.0\n",
      "Rolling average score: 0.22150000335648656\n",
      "Actor loss: -18525.345703125 | Critic loss: 1353991.5\n"
     ]
    },
    {
     "name": "stderr",
     "output_type": "stream",
     "text": [
      "training loop:  62% |###################################                      |\r"
     ]
    },
    {
     "name": "stdout",
     "output_type": "stream",
     "text": [
      "Total score (averaged over agents) episode 940: -0.004999999888241291\n",
      "Score (max over agents) from episode 940: 0.0\n",
      "Rolling average score: 0.20840000316500665\n",
      "Actor loss: -24757.84765625 | Critic loss: 2116811.25\n"
     ]
    },
    {
     "name": "stderr",
     "output_type": "stream",
     "text": [
      "training loop:  64% |####################################                     |\r"
     ]
    },
    {
     "name": "stdout",
     "output_type": "stream",
     "text": [
      "Total score (averaged over agents) episode 960: 0.09500000160187483\n",
      "Score (max over agents) from episode 960: 0.10000000149011612\n",
      "Rolling average score: 0.23350000351667405\n",
      "Actor loss: -47838.765625 | Critic loss: 13834908.0\n"
     ]
    },
    {
     "name": "stderr",
     "output_type": "stream",
     "text": [
      "training loop:  65% |#####################################                    |\r"
     ]
    },
    {
     "name": "stdout",
     "output_type": "stream",
     "text": [
      "Total score (averaged over agents) episode 980: 1.5450000232085586\n",
      "Score (max over agents) from episode 980: 1.600000023841858\n",
      "Rolling average score: 0.2946000044234097\n",
      "Actor loss: -126518.25 | Critic loss: 107264184.0\n"
     ]
    },
    {
     "name": "stderr",
     "output_type": "stream",
     "text": [
      "training loop:  66% |#####################################                    |\r"
     ]
    },
    {
     "name": "stdout",
     "output_type": "stream",
     "text": [
      "Total score (averaged over agents) episode 1000: 0.04500000085681677\n",
      "Score (max over agents) from episode 1000: 0.10000000149011612\n",
      "Rolling average score: 0.3027000045403838\n",
      "Actor loss: -199778.40625 | Critic loss: 192083984.0\n"
     ]
    },
    {
     "name": "stderr",
     "output_type": "stream",
     "text": [
      "training loop:  68% |######################################                   |\r"
     ]
    },
    {
     "name": "stdout",
     "output_type": "stream",
     "text": [
      "Total score (averaged over agents) episode 1020: 0.9950000150129199\n",
      "Score (max over agents) from episode 1020: 1.0000000149011612\n",
      "Rolling average score: 0.3008000044897199\n",
      "Actor loss: -338604.5 | Critic loss: 306220992.0\n"
     ]
    },
    {
     "name": "stderr",
     "output_type": "stream",
     "text": [
      "training loop:  69% |#######################################                  |\r"
     ]
    },
    {
     "name": "stdout",
     "output_type": "stream",
     "text": [
      "Total score (averaged over agents) episode 1040: 0.19500000309199095\n",
      "Score (max over agents) from episode 1040: 0.20000000298023224\n",
      "Rolling average score: 0.31490000469610097\n",
      "Actor loss: -529646.5 | Critic loss: 775752576.0\n"
     ]
    },
    {
     "name": "stderr",
     "output_type": "stream",
     "text": [
      "training loop:  70% |#######################################                  |\r"
     ]
    },
    {
     "name": "stdout",
     "output_type": "stream",
     "text": [
      "Total score (averaged over agents) episode 1060: 0.04500000085681677\n",
      "Score (max over agents) from episode 1060: 0.10000000149011612\n",
      "Rolling average score: 0.2847000042535365\n",
      "Actor loss: -759095.625 | Critic loss: 1809333248.0\n"
     ]
    },
    {
     "name": "stderr",
     "output_type": "stream",
     "text": [
      "training loop:  72% |#########################################                |\r"
     ]
    },
    {
     "name": "stdout",
     "output_type": "stream",
     "text": [
      "Total score (averaged over agents) episode 1080: 0.04500000085681677\n",
      "Score (max over agents) from episode 1080: 0.10000000149011612\n",
      "Rolling average score: 0.22350000334903597\n",
      "Actor loss: -1018763.0625 | Critic loss: 5062398976.0\n"
     ]
    },
    {
     "name": "stderr",
     "output_type": "stream",
     "text": [
      "training loop:  73% |#########################################                |\r"
     ]
    },
    {
     "name": "stdout",
     "output_type": "stream",
     "text": [
      "Total score (averaged over agents) episode 1100: 0.3450000053271651\n",
      "Score (max over agents) from episode 1100: 0.3900000061839819\n",
      "Rolling average score: 0.22310000335797667\n",
      "Actor loss: -1229799.5 | Critic loss: 6743868416.0\n"
     ]
    },
    {
     "name": "stderr",
     "output_type": "stream",
     "text": [
      "training loop:  74% |##########################################               |\r"
     ]
    },
    {
     "name": "stdout",
     "output_type": "stream",
     "text": [
      "Total score (averaged over agents) episode 1120: 0.04500000085681677\n",
      "Score (max over agents) from episode 1120: 0.10000000149011612\n",
      "Rolling average score: 0.19210000289604068\n",
      "Actor loss: -1395712.0 | Critic loss: 8953814016.0\n"
     ]
    },
    {
     "name": "stderr",
     "output_type": "stream",
     "text": [
      "training loop:  76% |###########################################              |\r"
     ]
    },
    {
     "name": "stdout",
     "output_type": "stream",
     "text": [
      "Total score (averaged over agents) episode 1140: 0.04500000085681677\n",
      "Score (max over agents) from episode 1140: 0.09000000171363354\n",
      "Rolling average score: 0.195700002964586\n",
      "Actor loss: -1654115.25 | Critic loss: 7998184960.0\n"
     ]
    },
    {
     "name": "stderr",
     "output_type": "stream",
     "text": [
      "training loop:  77% |###########################################              |\r"
     ]
    },
    {
     "name": "stdout",
     "output_type": "stream",
     "text": [
      "Total score (averaged over agents) episode 1160: 0.09500000160187483\n",
      "Score (max over agents) from episode 1160: 0.10000000149011612\n",
      "Rolling average score: 0.2148000032454729\n",
      "Actor loss: -2024769.375 | Critic loss: 28330420224.0\n"
     ]
    },
    {
     "name": "stderr",
     "output_type": "stream",
     "text": [
      "training loop:  78% |############################################             |\r"
     ]
    },
    {
     "name": "stdout",
     "output_type": "stream",
     "text": [
      "Total score (averaged over agents) episode 1180: 0.245000003837049\n",
      "Score (max over agents) from episode 1180: 0.30000000447034836\n",
      "Rolling average score: 0.21490000324323774\n",
      "Actor loss: -2440704.5 | Critic loss: 40326742016.0\n"
     ]
    },
    {
     "name": "stderr",
     "output_type": "stream",
     "text": [
      "training loop:  80% |#############################################            |\r"
     ]
    },
    {
     "name": "stdout",
     "output_type": "stream",
     "text": [
      "Total score (averaged over agents) episode 1200: 0.09500000160187483\n",
      "Score (max over agents) from episode 1200: 0.10000000149011612\n",
      "Rolling average score: 0.2131000032275915\n",
      "Actor loss: -2735222.75 | Critic loss: 46857576448.0\n"
     ]
    },
    {
     "name": "stderr",
     "output_type": "stream",
     "text": [
      "training loop:  81% |##############################################           |\r"
     ]
    },
    {
     "name": "stdout",
     "output_type": "stream",
     "text": [
      "Total score (averaged over agents) episode 1220: 0.245000003837049\n",
      "Score (max over agents) from episode 1220: 0.30000000447034836\n",
      "Rolling average score: 0.25880000391975044\n",
      "Actor loss: -3245121.25 | Critic loss: 32664547328.0\n"
     ]
    },
    {
     "name": "stderr",
     "output_type": "stream",
     "text": [
      "training loop:  82% |##############################################           |\r"
     ]
    },
    {
     "name": "stdout",
     "output_type": "stream",
     "text": [
      "Total score (averaged over agents) episode 1240: 0.0950000025331974\n",
      "Score (max over agents) from episode 1240: 0.10000000149011612\n",
      "Rolling average score: 0.2490000037662685\n",
      "Actor loss: -3659964.5 | Critic loss: 87221878784.0\n"
     ]
    },
    {
     "name": "stderr",
     "output_type": "stream",
     "text": [
      "training loop:  84% |###############################################          |\r"
     ]
    },
    {
     "name": "stdout",
     "output_type": "stream",
     "text": [
      "Total score (averaged over agents) episode 1260: -0.004999999888241291\n",
      "Score (max over agents) from episode 1260: 0.0\n",
      "Rolling average score: 0.235900003593415\n",
      "Actor loss: -4054530.0 | Critic loss: 78778089472.0\n"
     ]
    },
    {
     "name": "stderr",
     "output_type": "stream",
     "text": [
      "training loop:  85% |################################################         |\r"
     ]
    },
    {
     "name": "stdout",
     "output_type": "stream",
     "text": [
      "Total score (averaged over agents) episode 1280: 0.09500000160187483\n",
      "Score (max over agents) from episode 1280: 0.10000000149011612\n",
      "Rolling average score: 0.24090000366792083\n",
      "Actor loss: -4757871.5 | Critic loss: 123823276032.0\n"
     ]
    },
    {
     "name": "stderr",
     "output_type": "stream",
     "text": [
      "training loop:  86% |#################################################        |\r"
     ]
    },
    {
     "name": "stdout",
     "output_type": "stream",
     "text": [
      "Total score (averaged over agents) episode 1300: 0.29500000458210707\n",
      "Score (max over agents) from episode 1300: 0.30000000447034836\n",
      "Rolling average score: 0.26090000396594404\n",
      "Actor loss: -5172587.0 | Critic loss: 91214069760.0\n"
     ]
    },
    {
     "name": "stderr",
     "output_type": "stream",
     "text": [
      "training loop:  88% |##################################################       |\r"
     ]
    },
    {
     "name": "stdout",
     "output_type": "stream",
     "text": [
      "Total score (averaged over agents) episode 1320: -0.004999999888241291\n",
      "Score (max over agents) from episode 1320: 0.0\n",
      "Rolling average score: 0.22810000346973539\n",
      "Actor loss: -5891205.0 | Critic loss: 166862307328.0\n"
     ]
    },
    {
     "name": "stderr",
     "output_type": "stream",
     "text": [
      "training loop:  89% |##################################################       |\r"
     ]
    },
    {
     "name": "stdout",
     "output_type": "stream",
     "text": [
      "Total score (averaged over agents) episode 1340: 1.045000015757978\n",
      "Score (max over agents) from episode 1340: 1.1000000163912773\n",
      "Rolling average score: 0.26430000400170683\n",
      "Actor loss: -7123657.0 | Critic loss: 348066447360.0\n"
     ]
    },
    {
     "name": "stderr",
     "output_type": "stream",
     "text": [
      "training loop:  90% |###################################################      |\r"
     ]
    },
    {
     "name": "stdout",
     "output_type": "stream",
     "text": [
      "Total score (averaged over agents) episode 1360: 0.5450000083073974\n",
      "Score (max over agents) from episode 1360: 0.6000000089406967\n",
      "Rolling average score: 0.26640000401064756\n",
      "Actor loss: -8034702.0 | Critic loss: 294689964032.0\n"
     ]
    },
    {
     "name": "stderr",
     "output_type": "stream",
     "text": [
      "training loop:  92% |####################################################     |\r"
     ]
    },
    {
     "name": "stdout",
     "output_type": "stream",
     "text": [
      "Total score (averaged over agents) episode 1380: -0.004999999888241291\n",
      "Score (max over agents) from episode 1380: 0.0\n",
      "Rolling average score: 0.2794000042043626\n",
      "Actor loss: -9159188.0 | Critic loss: 604017131520.0\n"
     ]
    },
    {
     "name": "stderr",
     "output_type": "stream",
     "text": [
      "training loop:  93% |#####################################################    |\r"
     ]
    },
    {
     "name": "stdout",
     "output_type": "stream",
     "text": [
      "Total score (averaged over agents) episode 1400: -0.004999999888241291\n",
      "Score (max over agents) from episode 1400: 0.0\n",
      "Rolling average score: 0.2754000041261315\n",
      "Actor loss: -10589128.0 | Critic loss: 830687608832.0\n"
     ]
    },
    {
     "name": "stderr",
     "output_type": "stream",
     "text": [
      "training loop:  94% |#####################################################    |\r"
     ]
    },
    {
     "name": "stdout",
     "output_type": "stream",
     "text": [
      "Total score (averaged over agents) episode 1420: 0.19500000309199095\n",
      "Score (max over agents) from episode 1420: 0.20000000298023224\n",
      "Rolling average score: 0.31840000476688146\n",
      "Actor loss: -12620283.0 | Critic loss: 501023506432.0\n"
     ]
    },
    {
     "name": "stderr",
     "output_type": "stream",
     "text": [
      "training loop:  96% |######################################################   |\r"
     ]
    },
    {
     "name": "stdout",
     "output_type": "stream",
     "text": [
      "Total score (averaged over agents) episode 1440: 1.095000016503036\n",
      "Score (max over agents) from episode 1440: 1.2000000178813934\n",
      "Rolling average score: 0.31830000476911663\n",
      "Actor loss: -14920981.0 | Critic loss: 1067353833472.0\n"
     ]
    },
    {
     "name": "stderr",
     "output_type": "stream",
     "text": [
      "training loop:  97% |#######################################################  |\r"
     ]
    },
    {
     "name": "stdout",
     "output_type": "stream",
     "text": [
      "Total score (averaged over agents) episode 1460: 0.44500000681728125\n",
      "Score (max over agents) from episode 1460: 0.5000000074505806\n",
      "Rolling average score: 0.3522000052779913\n",
      "Actor loss: -17608586.0 | Critic loss: 2393265668096.0\n"
     ]
    },
    {
     "name": "stderr",
     "output_type": "stream",
     "text": [
      "training loop:  98% |#######################################################  |\r"
     ]
    },
    {
     "name": "stdout",
     "output_type": "stream",
     "text": [
      "Total score (averaged over agents) episode 1480: 0.09500000160187483\n",
      "Score (max over agents) from episode 1480: 0.10000000149011612\n",
      "Rolling average score: 0.35910000540316106\n",
      "Actor loss: -20137626.0 | Critic loss: 2922847404032.0\n"
     ]
    },
    {
     "name": "stderr",
     "output_type": "stream",
     "text": [
      "training loop: 100% |#########################################################|\n",
      "training loop:   0% |                                                         |\r"
     ]
    },
    {
     "name": "stdout",
     "output_type": "stream",
     "text": [
      "Total score (averaged over agents) episode 1500: 0.1450000023469329\n",
      "Score (max over agents) from episode 1500: 0.20000000298023224\n",
      "Rolling average score: 0.3592000054009259\n",
      "Actor loss: -22375196.0 | Critic loss: 2044730408960.0\n",
      "Max score:  0.36910000555217265\n",
      "### ---------------------------- ++++++++++++++++++++++++ ---------------------------- ###\n",
      "### ===================================== seed 8323110 ======================================= ###\n",
      "lra 0.001, lrc 0.001, noise_lvl 0.2, noise_decay 1, batch_size 256, update_steps 5, GD_steps 4, tau 1, gamma 0.999\n",
      "Random seed in buffer is:  8323110\n",
      "numpy seed in ou-process set to : 8323110\n",
      "torch seed in actor set to:  8323110\n",
      "torch seed in actor set to:  8323110\n",
      "torch seed in critic set to:  8323110\n",
      "torch seed in critic set to:  8323110\n",
      "ActorNet(\n",
      "  (fc_in): Linear(in_features=24, out_features=128, bias=True)\n",
      "  (fc1): Linear(in_features=128, out_features=64, bias=True)\n",
      "  (fc_out): Linear(in_features=64, out_features=2, bias=True)\n",
      ")\n",
      "CriticNet(\n",
      "  (bn0): BatchNorm1d(52, eps=1e-05, momentum=0.1, affine=True, track_running_stats=True)\n",
      "  (fc_in): Linear(in_features=52, out_features=256, bias=True)\n",
      "  (fc1): Linear(in_features=256, out_features=64, bias=True)\n",
      "  (fc_out): Linear(in_features=64, out_features=1, bias=True)\n",
      ")\n"
     ]
    },
    {
     "name": "stderr",
     "output_type": "stream",
     "text": [
      "training loop:   1% |                                                         |\r"
     ]
    },
    {
     "name": "stdout",
     "output_type": "stream",
     "text": [
      "Total score (averaged over agents) episode 20: -0.004999999888241291\n",
      "Score (max over agents) from episode 20: 0.0\n",
      "Rolling average score: 0.009500000160187483\n",
      "Actor loss: -0.017067130655050278 | Critic loss: 0.0001781401369953528\n"
     ]
    },
    {
     "name": "stderr",
     "output_type": "stream",
     "text": [
      "training loop:   2% |#                                                        |\r"
     ]
    },
    {
     "name": "stdout",
     "output_type": "stream",
     "text": [
      "Total score (averaged over agents) episode 40: -0.004999999888241291\n",
      "Score (max over agents) from episode 40: 0.0\n",
      "Rolling average score: 0.004750000080093741\n",
      "Actor loss: -0.011182304471731186 | Critic loss: 5.318860348779708e-05\n"
     ]
    },
    {
     "name": "stderr",
     "output_type": "stream",
     "text": [
      "training loop:   4% |##                                                       |\r"
     ]
    },
    {
     "name": "stdout",
     "output_type": "stream",
     "text": [
      "Total score (averaged over agents) episode 60: -0.004999999888241291\n",
      "Score (max over agents) from episode 60: 0.0\n",
      "Rolling average score: 0.008000000131626923\n",
      "Actor loss: -0.005352900363504887 | Critic loss: 3.3379896194674075e-05\n"
     ]
    },
    {
     "name": "stderr",
     "output_type": "stream",
     "text": [
      "training loop:   5% |##                                                       |\r"
     ]
    },
    {
     "name": "stdout",
     "output_type": "stream",
     "text": [
      "Total score (averaged over agents) episode 80: -0.004999999888241291\n",
      "Score (max over agents) from episode 80: 0.0\n",
      "Rolling average score: 0.019500000309199093\n",
      "Actor loss: -0.050262611359357834 | Critic loss: 0.0001554787450004369\n"
     ]
    },
    {
     "name": "stderr",
     "output_type": "stream",
     "text": [
      "training loop:   6% |###                                                      |\r"
     ]
    },
    {
     "name": "stdout",
     "output_type": "stream",
     "text": [
      "Total score (averaged over agents) episode 100: 0.04500000085681677\n",
      "Score (max over agents) from episode 100: 0.10000000149011612\n",
      "Rolling average score: 0.030300000477582217\n",
      "Actor loss: -0.07748193293809891 | Critic loss: 0.0002357625198783353\n"
     ]
    },
    {
     "name": "stderr",
     "output_type": "stream",
     "text": [
      "training loop:   8% |####                                                     |\r"
     ]
    },
    {
     "name": "stdout",
     "output_type": "stream",
     "text": [
      "Total score (averaged over agents) episode 120: 0.1450000023469329\n",
      "Score (max over agents) from episode 120: 0.20000000298023224\n",
      "Rolling average score: 0.050000000800937416\n",
      "Actor loss: -0.0896165668964386 | Critic loss: 0.0003523329505696893\n"
     ]
    },
    {
     "name": "stderr",
     "output_type": "stream",
     "text": [
      "training loop:   9% |#####                                                    |\r"
     ]
    },
    {
     "name": "stdout",
     "output_type": "stream",
     "text": [
      "Total score (averaged over agents) episode 140: -0.004999999888241291\n",
      "Score (max over agents) from episode 140: 0.0\n",
      "Rolling average score: 0.07550000119954348\n",
      "Actor loss: -0.16742441058158875 | Critic loss: 0.0009863058803603053\n"
     ]
    },
    {
     "name": "stderr",
     "output_type": "stream",
     "text": [
      "training loop:  10% |#####                                                    |\r"
     ]
    },
    {
     "name": "stdout",
     "output_type": "stream",
     "text": [
      "Total score (averaged over agents) episode 160: 0.09500000160187483\n",
      "Score (max over agents) from episode 160: 0.10000000149011612\n",
      "Rolling average score: 0.10540000164881348\n",
      "Actor loss: -0.379454106092453 | Critic loss: 0.0025585279799997807\n"
     ]
    },
    {
     "name": "stderr",
     "output_type": "stream",
     "text": [
      "training loop:  12% |######                                                   |\r"
     ]
    },
    {
     "name": "stdout",
     "output_type": "stream",
     "text": [
      "Total score (averaged over agents) episode 180: 0.04500000085681677\n",
      "Score (max over agents) from episode 180: 0.10000000149011612\n",
      "Rolling average score: 0.12950000202283263\n",
      "Actor loss: -0.5379282236099243 | Critic loss: 0.002910972572863102\n"
     ]
    },
    {
     "name": "stderr",
     "output_type": "stream",
     "text": [
      "training loop:  13% |#######                                                  |\r"
     ]
    },
    {
     "name": "stdout",
     "output_type": "stream",
     "text": [
      "Total score (averaged over agents) episode 200: 0.04500000085681677\n",
      "Score (max over agents) from episode 200: 0.10000000149011612\n",
      "Rolling average score: 0.1386000021547079\n",
      "Actor loss: -0.6994694471359253 | Critic loss: 0.004512913525104523\n"
     ]
    },
    {
     "name": "stderr",
     "output_type": "stream",
     "text": [
      "training loop:  14% |#######                                                  |\r"
     ]
    },
    {
     "name": "stdout",
     "output_type": "stream",
     "text": [
      "Total score (averaged over agents) episode 220: 0.09500000160187483\n",
      "Score (max over agents) from episode 220: 0.10000000149011612\n",
      "Rolling average score: 0.15090000230818987\n",
      "Actor loss: -1.04345703125 | Critic loss: 0.010681068524718285\n"
     ]
    },
    {
     "name": "stderr",
     "output_type": "stream",
     "text": [
      "training loop:  16% |#########                                                |\r"
     ]
    },
    {
     "name": "stdout",
     "output_type": "stream",
     "text": [
      "Total score (averaged over agents) episode 240: 0.1450000023469329\n",
      "Score (max over agents) from episode 240: 0.20000000298023224\n",
      "Rolling average score: 0.14820000225678087\n",
      "Actor loss: -0.9073834419250488 | Critic loss: 0.012095397338271141\n"
     ]
    },
    {
     "name": "stderr",
     "output_type": "stream",
     "text": [
      "training loop:  17% |#########                                                |\r"
     ]
    },
    {
     "name": "stdout",
     "output_type": "stream",
     "text": [
      "Total score (averaged over agents) episode 260: 0.04500000085681677\n",
      "Score (max over agents) from episode 260: 0.10000000149011612\n",
      "Rolling average score: 0.15530000235885383\n",
      "Actor loss: -0.8221031427383423 | Critic loss: 0.003771236864849925\n"
     ]
    },
    {
     "name": "stderr",
     "output_type": "stream",
     "text": [
      "training loop:  18% |##########                                               |\r"
     ]
    },
    {
     "name": "stdout",
     "output_type": "stream",
     "text": [
      "Total score (averaged over agents) episode 280: 0.29500000458210707\n",
      "Score (max over agents) from episode 280: 0.30000000447034836\n",
      "Rolling average score: 0.1692000025510788\n",
      "Actor loss: -0.9170491695404053 | Critic loss: 0.010250069200992584\n"
     ]
    },
    {
     "name": "stderr",
     "output_type": "stream",
     "text": [
      "training loop:  20% |###########                                              |\r"
     ]
    },
    {
     "name": "stdout",
     "output_type": "stream",
     "text": [
      "Total score (averaged over agents) episode 300: 0.09500000160187483\n",
      "Score (max over agents) from episode 300: 0.10000000149011612\n",
      "Rolling average score: 0.18620000280439852\n",
      "Actor loss: -1.09494149684906 | Critic loss: 0.010456852614879608\n"
     ]
    },
    {
     "name": "stderr",
     "output_type": "stream",
     "text": [
      "training loop:  21% |###########                                              |\r"
     ]
    },
    {
     "name": "stdout",
     "output_type": "stream",
     "text": [
      "Total score (averaged over agents) episode 320: 0.1450000023469329\n",
      "Score (max over agents) from episode 320: 0.20000000298023224\n",
      "Rolling average score: 0.19320000290870668\n",
      "Actor loss: -1.9399821758270264 | Critic loss: 0.03313539922237396\n"
     ]
    },
    {
     "name": "stderr",
     "output_type": "stream",
     "text": [
      "training loop:  22% |############                                             |\r"
     ]
    },
    {
     "name": "stdout",
     "output_type": "stream",
     "text": [
      "Total score (averaged over agents) episode 340: 0.19500000309199095\n",
      "Score (max over agents) from episode 340: 0.20000000298023224\n",
      "Rolling average score: 0.21420000322163105\n",
      "Actor loss: -2.5006651878356934 | Critic loss: 0.05262505263090134\n"
     ]
    },
    {
     "name": "stderr",
     "output_type": "stream",
     "text": [
      "training loop:  24% |#############                                            |\r"
     ]
    },
    {
     "name": "stdout",
     "output_type": "stream",
     "text": [
      "Total score (averaged over agents) episode 360: 0.04500000085681677\n",
      "Score (max over agents) from episode 360: 0.10000000149011612\n",
      "Rolling average score: 0.20810000313445925\n",
      "Actor loss: -4.414388656616211 | Critic loss: 0.20909573137760162\n"
     ]
    },
    {
     "name": "stderr",
     "output_type": "stream",
     "text": [
      "training loop:  25% |##############                                           |\r"
     ]
    },
    {
     "name": "stdout",
     "output_type": "stream",
     "text": [
      "Total score (averaged over agents) episode 380: 0.4950000075623393\n",
      "Score (max over agents) from episode 380: 0.5000000074505806\n",
      "Rolling average score: 0.22120000332593917\n",
      "Actor loss: -12.380529403686523 | Critic loss: 1.8034192323684692\n"
     ]
    },
    {
     "name": "stderr",
     "output_type": "stream",
     "text": [
      "training loop:  26% |##############                                           |\r"
     ]
    },
    {
     "name": "stdout",
     "output_type": "stream",
     "text": [
      "Total score (averaged over agents) episode 400: 0.44500000681728125\n",
      "Score (max over agents) from episode 400: 0.5000000074505806\n",
      "Rolling average score: 0.21140000317245722\n",
      "Actor loss: -21.09405517578125 | Critic loss: 4.065786838531494\n"
     ]
    },
    {
     "name": "stderr",
     "output_type": "stream",
     "text": [
      "training loop:  28% |###############                                          |\r"
     ]
    },
    {
     "name": "stdout",
     "output_type": "stream",
     "text": [
      "Total score (averaged over agents) episode 420: 0.1450000023469329\n",
      "Score (max over agents) from episode 420: 0.20000000298023224\n",
      "Rolling average score: 0.20040000300854444\n",
      "Actor loss: -29.33588409423828 | Critic loss: 7.171751499176025\n"
     ]
    },
    {
     "name": "stderr",
     "output_type": "stream",
     "text": [
      "training loop:  29% |################                                         |\r"
     ]
    },
    {
     "name": "stdout",
     "output_type": "stream",
     "text": [
      "Total score (averaged over agents) episode 440: -0.004999999888241291\n",
      "Score (max over agents) from episode 440: 0.0\n",
      "Rolling average score: 0.19350000290200114\n",
      "Actor loss: -58.378631591796875 | Critic loss: 29.94519805908203\n"
     ]
    },
    {
     "name": "stderr",
     "output_type": "stream",
     "text": [
      "training loop:  30% |#################                                        |\r"
     ]
    },
    {
     "name": "stdout",
     "output_type": "stream",
     "text": [
      "Total score (averaged over agents) episode 460: 0.19500000309199095\n",
      "Score (max over agents) from episode 460: 0.20000000298023224\n",
      "Rolling average score: 0.20240000303834677\n",
      "Actor loss: -115.00125122070312 | Critic loss: 67.73933410644531\n"
     ]
    },
    {
     "name": "stderr",
     "output_type": "stream",
     "text": [
      "training loop:  32% |##################                                       |\r"
     ]
    },
    {
     "name": "stdout",
     "output_type": "stream",
     "text": [
      "Total score (averaged over agents) episode 480: -0.004999999888241291\n",
      "Score (max over agents) from episode 480: 0.0\n",
      "Rolling average score: 0.16830000253394245\n",
      "Actor loss: -253.69969177246094 | Critic loss: 572.5698852539062\n"
     ]
    },
    {
     "name": "stderr",
     "output_type": "stream",
     "text": [
      "training loop:  33% |##################                                       |\r"
     ]
    },
    {
     "name": "stdout",
     "output_type": "stream",
     "text": [
      "Total score (averaged over agents) episode 500: 0.245000003837049\n",
      "Score (max over agents) from episode 500: 0.30000000447034836\n",
      "Rolling average score: 0.17330000260844827\n",
      "Actor loss: -672.586669921875 | Critic loss: 4463.1982421875\n"
     ]
    },
    {
     "name": "stderr",
     "output_type": "stream",
     "text": [
      "training loop:  34% |###################                                      |\r"
     ]
    },
    {
     "name": "stdout",
     "output_type": "stream",
     "text": [
      "Total score (averaged over agents) episode 520: 0.04500000085681677\n",
      "Score (max over agents) from episode 520: 0.10000000149011612\n",
      "Rolling average score: 0.18230000274255873\n",
      "Actor loss: -1360.9688720703125 | Critic loss: 14579.6865234375\n"
     ]
    },
    {
     "name": "stderr",
     "output_type": "stream",
     "text": [
      "training loop:  36% |####################                                     |\r"
     ]
    },
    {
     "name": "stdout",
     "output_type": "stream",
     "text": [
      "Total score (averaged over agents) episode 540: -0.004999999888241291\n",
      "Score (max over agents) from episode 540: 0.0\n",
      "Rolling average score: 0.1750000026449561\n",
      "Actor loss: -3207.11962890625 | Critic loss: 98199.03125\n"
     ]
    },
    {
     "name": "stderr",
     "output_type": "stream",
     "text": [
      "training loop:  37% |#####################                                    |\r"
     ]
    },
    {
     "name": "stdout",
     "output_type": "stream",
     "text": [
      "Total score (averaged over agents) episode 560: 0.1450000023469329\n",
      "Score (max over agents) from episode 560: 0.19000000320374966\n",
      "Rolling average score: 0.15590000240132212\n",
      "Actor loss: -4529.82958984375 | Critic loss: 139209.5\n"
     ]
    },
    {
     "name": "stderr",
     "output_type": "stream",
     "text": [
      "training loop:  38% |#####################                                    |\r"
     ]
    },
    {
     "name": "stdout",
     "output_type": "stream",
     "text": [
      "Total score (averaged over agents) episode 580: -0.004999999888241291\n",
      "Score (max over agents) from episode 580: 0.0\n",
      "Rolling average score: 0.17400000266730786\n",
      "Actor loss: -6639.53515625 | Critic loss: 332332.84375\n"
     ]
    },
    {
     "name": "stderr",
     "output_type": "stream",
     "text": [
      "training loop:  40% |######################                                   |\r"
     ]
    },
    {
     "name": "stdout",
     "output_type": "stream",
     "text": [
      "Total score (averaged over agents) episode 600: 0.3950000060722232\n",
      "Score (max over agents) from episode 600: 0.4000000059604645\n",
      "Rolling average score: 0.18390000281855465\n",
      "Actor loss: -9603.193359375 | Critic loss: 355493.59375\n"
     ]
    },
    {
     "name": "stderr",
     "output_type": "stream",
     "text": [
      "training loop:  41% |#######################                                  |\r"
     ]
    },
    {
     "name": "stdout",
     "output_type": "stream",
     "text": [
      "Total score (averaged over agents) episode 620: 0.44500000681728125\n",
      "Score (max over agents) from episode 620: 0.5000000074505806\n",
      "Rolling average score: 0.1899000029079616\n",
      "Actor loss: -13023.0 | Critic loss: 628748.25\n"
     ]
    },
    {
     "name": "stderr",
     "output_type": "stream",
     "text": [
      "training loop:  42% |#######################                                  |\r"
     ]
    },
    {
     "name": "stdout",
     "output_type": "stream",
     "text": [
      "Total score (averaged over agents) episode 640: 0.245000003837049\n",
      "Score (max over agents) from episode 640: 0.30000000447034836\n",
      "Rolling average score: 0.22610000343993306\n",
      "Actor loss: -20125.984375 | Critic loss: 2860013.5\n"
     ]
    },
    {
     "name": "stderr",
     "output_type": "stream",
     "text": [
      "training loop:  44% |#########################                                |\r"
     ]
    },
    {
     "name": "stdout",
     "output_type": "stream",
     "text": [
      "Total score (averaged over agents) episode 660: 0.09500000160187483\n",
      "Score (max over agents) from episode 660: 0.10000000149011612\n",
      "Rolling average score: 0.243300003670156\n",
      "Actor loss: -29992.99609375 | Critic loss: 6383559.0\n"
     ]
    },
    {
     "name": "stderr",
     "output_type": "stream",
     "text": [
      "training loop:  45% |#########################                                |\r"
     ]
    },
    {
     "name": "stdout",
     "output_type": "stream",
     "text": [
      "Total score (averaged over agents) episode 680: 0.04500000085681677\n",
      "Score (max over agents) from episode 680: 0.10000000149011612\n",
      "Rolling average score: 0.28140000423416495\n",
      "Actor loss: -51802.6328125 | Critic loss: 32618412.0\n"
     ]
    },
    {
     "name": "stderr",
     "output_type": "stream",
     "text": [
      "training loop:  46% |##########################                               |\r"
     ]
    },
    {
     "name": "stdout",
     "output_type": "stream",
     "text": [
      "Total score (averaged over agents) episode 700: 0.19500000309199095\n",
      "Score (max over agents) from episode 700: 0.20000000298023224\n",
      "Rolling average score: 0.29340000443160535\n",
      "Actor loss: -68850.65625 | Critic loss: 19310454.0\n"
     ]
    },
    {
     "name": "stderr",
     "output_type": "stream",
     "text": [
      "training loop:  48% |###########################                              |\r"
     ]
    },
    {
     "name": "stdout",
     "output_type": "stream",
     "text": [
      "Total score (averaged over agents) episode 720: 0.09500000160187483\n",
      "Score (max over agents) from episode 720: 0.10000000149011612\n",
      "Rolling average score: 0.31540000475943086\n",
      "Actor loss: -95270.71875 | Critic loss: 44126556.0\n"
     ]
    },
    {
     "name": "stderr",
     "output_type": "stream",
     "text": [
      "training loop:  49% |###########################                              |\r"
     ]
    },
    {
     "name": "stdout",
     "output_type": "stream",
     "text": [
      "Total score (averaged over agents) episode 740: 0.5450000092387199\n",
      "Score (max over agents) from episode 740: 0.5900000110268593\n",
      "Rolling average score: 0.3414000051654875\n",
      "Actor loss: -133719.234375 | Critic loss: 86694928.0\n"
     ]
    },
    {
     "name": "stderr",
     "output_type": "stream",
     "text": [
      "training loop:  50% |############################                             |\r"
     ]
    },
    {
     "name": "stdout",
     "output_type": "stream",
     "text": [
      "Total score (averaged over agents) episode 760: 0.245000003837049\n",
      "Score (max over agents) from episode 760: 0.30000000447034836\n",
      "Rolling average score: 0.3626000054553151\n",
      "Actor loss: -170269.6875 | Critic loss: 213934816.0\n"
     ]
    },
    {
     "name": "stderr",
     "output_type": "stream",
     "text": [
      "training loop:  52% |#############################                            |\r"
     ]
    },
    {
     "name": "stdout",
     "output_type": "stream",
     "text": [
      "Total score (averaged over agents) episode 780: 0.5450000083073974\n",
      "Score (max over agents) from episode 780: 0.6000000089406967\n",
      "Rolling average score: 0.3304000049829483\n",
      "Actor loss: -190101.796875 | Critic loss: 137915424.0\n"
     ]
    },
    {
     "name": "stderr",
     "output_type": "stream",
     "text": [
      "training loop:  53% |##############################                           |\r"
     ]
    },
    {
     "name": "stdout",
     "output_type": "stream",
     "text": [
      "Total score (averaged over agents) episode 800: -0.004999999888241291\n",
      "Score (max over agents) from episode 800: 0.0\n",
      "Rolling average score: 0.34230000514537096\n",
      "Actor loss: -245575.34375 | Critic loss: 585699904.0\n"
     ]
    },
    {
     "name": "stderr",
     "output_type": "stream",
     "text": [
      "training loop:  54% |##############################                           |\r"
     ]
    },
    {
     "name": "stdout",
     "output_type": "stream",
     "text": [
      "Total score (averaged over agents) episode 820: 0.29500000458210707\n",
      "Score (max over agents) from episode 820: 0.30000000447034836\n",
      "Rolling average score: 0.3253000049106777\n",
      "Actor loss: -268241.25 | Critic loss: 381006592.0\n"
     ]
    },
    {
     "name": "stderr",
     "output_type": "stream",
     "text": [
      "training loop:  56% |###############################                          |\r"
     ]
    },
    {
     "name": "stdout",
     "output_type": "stream",
     "text": [
      "Total score (averaged over agents) episode 840: 0.09500000160187483\n",
      "Score (max over agents) from episode 840: 0.10000000149011612\n",
      "Rolling average score: 0.2985000044852495\n",
      "Actor loss: -320480.84375 | Critic loss: 358949888.0\n"
     ]
    },
    {
     "name": "stderr",
     "output_type": "stream",
     "text": [
      "training loop:  57% |################################                         |\r"
     ]
    },
    {
     "name": "stdout",
     "output_type": "stream",
     "text": [
      "Total score (averaged over agents) episode 860: -0.004999999888241291\n",
      "Score (max over agents) from episode 860: 0.0\n",
      "Rolling average score: 0.3163000047579408\n",
      "Actor loss: -401651.1875 | Critic loss: 477879104.0\n"
     ]
    },
    {
     "name": "stderr",
     "output_type": "stream",
     "text": [
      "training loop:  58% |#################################                        |\r"
     ]
    },
    {
     "name": "stdout",
     "output_type": "stream",
     "text": [
      "Total score (averaged over agents) episode 880: 0.9950000150129199\n",
      "Score (max over agents) from episode 880: 1.0000000149011612\n",
      "Rolling average score: 0.34150000512599943\n",
      "Actor loss: -455627.75 | Critic loss: 965707648.0\n"
     ]
    },
    {
     "name": "stderr",
     "output_type": "stream",
     "text": [
      "training loop:  60% |##################################                       |\r"
     ]
    },
    {
     "name": "stdout",
     "output_type": "stream",
     "text": [
      "Total score (averaged over agents) episode 900: 0.1450000023469329\n",
      "Score (max over agents) from episode 900: 0.19000000320374966\n",
      "Rolling average score: 0.3674000055156648\n",
      "Actor loss: -558872.6875 | Critic loss: 863166336.0\n"
     ]
    },
    {
     "name": "stderr",
     "output_type": "stream",
     "text": [
      "training loop:  61% |##################################                       |\r"
     ]
    },
    {
     "name": "stdout",
     "output_type": "stream",
     "text": [
      "Total score (averaged over agents) episode 920: 1.095000016503036\n",
      "Score (max over agents) from episode 920: 1.1000000163912773\n",
      "Rolling average score: 0.41520000621676445\n",
      "Actor loss: -696946.9375 | Critic loss: 1667415808.0\n"
     ]
    },
    {
     "name": "stderr",
     "output_type": "stream",
     "text": [
      "training loop:  62% |###################################                      |\r"
     ]
    },
    {
     "name": "stdout",
     "output_type": "stream",
     "text": [
      "Total score (averaged over agents) episode 940: 0.19500000309199095\n",
      "Score (max over agents) from episode 940: 0.20000000298023224\n",
      "Rolling average score: 0.4351000065356493\n",
      "Actor loss: -893066.75 | Critic loss: 4439173632.0\n"
     ]
    },
    {
     "name": "stderr",
     "output_type": "stream",
     "text": [
      "training loop:  64% |####################################                     |\r"
     ]
    },
    {
     "name": "stdout",
     "output_type": "stream",
     "text": [
      "Total score (averaged over agents) episode 960: 0.19500000309199095\n",
      "Score (max over agents) from episode 960: 0.20000000298023224\n",
      "Rolling average score: 0.4178000063076615\n",
      "Actor loss: -985387.625 | Critic loss: 3378142208.0\n"
     ]
    },
    {
     "name": "stderr",
     "output_type": "stream",
     "text": [
      "training loop:  65% |#####################################                    |\r"
     ]
    },
    {
     "name": "stdout",
     "output_type": "stream",
     "text": [
      "Total score (averaged over agents) episode 980: 0.04500000085681677\n",
      "Score (max over agents) from episode 980: 0.09000000171363354\n",
      "Rolling average score: 0.3967000059969723\n",
      "Actor loss: -1163948.25 | Critic loss: 4658483200.0\n"
     ]
    },
    {
     "name": "stderr",
     "output_type": "stream",
     "text": [
      "training loop:  66% |#####################################                    |\r"
     ]
    },
    {
     "name": "stdout",
     "output_type": "stream",
     "text": [
      "Total score (averaged over agents) episode 1000: 0.0950000025331974\n",
      "Score (max over agents) from episode 1000: 0.10000000149011612\n",
      "Rolling average score: 0.3789000057429075\n",
      "Actor loss: -1360957.0 | Critic loss: 15029323776.0\n"
     ]
    },
    {
     "name": "stderr",
     "output_type": "stream",
     "text": [
      "training loop:  68% |######################################                   |\r"
     ]
    },
    {
     "name": "stdout",
     "output_type": "stream",
     "text": [
      "Total score (averaged over agents) episode 1020: 0.09500000160187483\n",
      "Score (max over agents) from episode 1020: 0.10000000149011612\n",
      "Rolling average score: 0.369100005608052\n",
      "Actor loss: -1716039.25 | Critic loss: 6639500288.0\n"
     ]
    },
    {
     "name": "stderr",
     "output_type": "stream",
     "text": [
      "training loop:  69% |#######################################                  |\r"
     ]
    },
    {
     "name": "stdout",
     "output_type": "stream",
     "text": [
      "Total score (averaged over agents) episode 1040: -0.004999999888241291\n",
      "Score (max over agents) from episode 1040: 0.0\n",
      "Rolling average score: 0.3439000052399933\n",
      "Actor loss: -1897541.75 | Critic loss: 15081107456.0\n"
     ]
    },
    {
     "name": "stderr",
     "output_type": "stream",
     "text": [
      "training loop:  70% |#######################################                  |\r"
     ]
    },
    {
     "name": "stdout",
     "output_type": "stream",
     "text": [
      "Total score (averaged over agents) episode 1060: 1.045000015757978\n",
      "Score (max over agents) from episode 1060: 1.1000000163912773\n",
      "Rolling average score: 0.3673000055551529\n",
      "Actor loss: -2416757.0 | Critic loss: 12153535488.0\n"
     ]
    },
    {
     "name": "stderr",
     "output_type": "stream",
     "text": [
      "training loop:  72% |#########################################                |\r"
     ]
    },
    {
     "name": "stdout",
     "output_type": "stream",
     "text": [
      "Total score (averaged over agents) episode 1080: 0.09500000160187483\n",
      "Score (max over agents) from episode 1080: 0.10000000149011612\n",
      "Rolling average score: 0.37530000569298866\n",
      "Actor loss: -2777225.5 | Critic loss: 36622336000.0\n"
     ]
    },
    {
     "name": "stderr",
     "output_type": "stream",
     "text": [
      "training loop:  73% |#########################################                |\r"
     ]
    },
    {
     "name": "stdout",
     "output_type": "stream",
     "text": [
      "Total score (averaged over agents) episode 1100: 0.245000003837049\n",
      "Score (max over agents) from episode 1100: 0.30000000447034836\n",
      "Rolling average score: 0.4242000064253807\n",
      "Actor loss: -3538162.0 | Critic loss: 125520592896.0\n"
     ]
    },
    {
     "name": "stderr",
     "output_type": "stream",
     "text": [
      "training loop:  74% |##########################################               |\r"
     ]
    },
    {
     "name": "stdout",
     "output_type": "stream",
     "text": [
      "Total score (averaged over agents) episode 1120: 0.19500000309199095\n",
      "Score (max over agents) from episode 1120: 0.20000000298023224\n",
      "Rolling average score: 0.46830000706017016\n",
      "Actor loss: -4396617.0 | Critic loss: 66493882368.0\n"
     ]
    },
    {
     "name": "stderr",
     "output_type": "stream",
     "text": [
      "training loop:  75% |##########################################               |\r"
     ]
    },
    {
     "name": "stdout",
     "output_type": "stream",
     "text": [
      "\n",
      "Environment solved in 1127 episodes!\tAverage Score: 0.51\n",
      "Networks saved\n",
      "\n",
      "Environment solved in 1128 episodes!\tAverage Score: 0.51\n",
      "Networks saved\n",
      "\n",
      "Environment solved in 1129 episodes!\tAverage Score: 0.51\n",
      "Networks saved\n",
      "\n",
      "Environment solved in 1130 episodes!\tAverage Score: 0.52\n",
      "Networks saved\n",
      "\n",
      "Environment solved in 1131 episodes!\tAverage Score: 0.52\n",
      "Networks saved\n",
      "\n",
      "Environment solved in 1132 episodes!\tAverage Score: 0.52\n",
      "Networks saved\n",
      "\n",
      "Environment solved in 1133 episodes!\tAverage Score: 0.52\n",
      "Networks saved\n",
      "\n",
      "Environment solved in 1134 episodes!\tAverage Score: 0.52\n",
      "Networks saved\n",
      "\n",
      "Environment solved in 1135 episodes!\tAverage Score: 0.52\n",
      "Networks saved\n",
      "\n",
      "Environment solved in 1136 episodes!\tAverage Score: 0.52\n",
      "Networks saved\n",
      "\n",
      "Environment solved in 1137 episodes!\tAverage Score: 0.52\n",
      "Networks saved\n",
      "\n",
      "Environment solved in 1138 episodes!\tAverage Score: 0.52\n",
      "Networks saved\n"
     ]
    },
    {
     "name": "stderr",
     "output_type": "stream",
     "text": [
      "training loop:  76% |###########################################              |\r"
     ]
    },
    {
     "name": "stdout",
     "output_type": "stream",
     "text": [
      "\n",
      "Environment solved in 1139 episodes!\tAverage Score: 0.52\n",
      "Networks saved\n",
      "Total score (averaged over agents) episode 1140: 0.19500000309199095\n",
      "Score (max over agents) from episode 1140: 0.20000000298023224\n",
      "Rolling average score: 0.5196000077947974\n",
      "Actor loss: -5518535.0 | Critic loss: 139032428544.0\n",
      "\n",
      "Environment solved in 1140 episodes!\tAverage Score: 0.51\n",
      "Networks saved\n",
      "\n",
      "Environment solved in 1141 episodes!\tAverage Score: 0.51\n",
      "Networks saved\n",
      "\n",
      "Environment solved in 1142 episodes!\tAverage Score: 0.51\n",
      "Networks saved\n",
      "\n",
      "Environment solved in 1143 episodes!\tAverage Score: 0.52\n",
      "Networks saved\n",
      "\n",
      "Environment solved in 1144 episodes!\tAverage Score: 0.52\n",
      "Networks saved\n",
      "\n",
      "Environment solved in 1145 episodes!\tAverage Score: 0.53\n",
      "Networks saved\n",
      "\n",
      "Environment solved in 1146 episodes!\tAverage Score: 0.53\n",
      "Networks saved\n",
      "\n",
      "Environment solved in 1147 episodes!\tAverage Score: 0.52\n",
      "Networks saved\n",
      "\n",
      "Environment solved in 1148 episodes!\tAverage Score: 0.52\n",
      "Networks saved\n",
      "\n",
      "Environment solved in 1149 episodes!\tAverage Score: 0.52\n",
      "Networks saved\n",
      "\n",
      "Environment solved in 1150 episodes!\tAverage Score: 0.53\n",
      "Networks saved\n",
      "\n",
      "Environment solved in 1151 episodes!\tAverage Score: 0.52\n",
      "Networks saved\n",
      "\n",
      "Environment solved in 1152 episodes!\tAverage Score: 0.52\n",
      "Networks saved\n",
      "\n",
      "Environment solved in 1153 episodes!\tAverage Score: 0.52\n",
      "Networks saved\n"
     ]
    },
    {
     "name": "stderr",
     "output_type": "stream",
     "text": [
      "training loop:  77% |###########################################              |\r"
     ]
    },
    {
     "name": "stdout",
     "output_type": "stream",
     "text": [
      "\n",
      "Environment solved in 1154 episodes!\tAverage Score: 0.53\n",
      "Networks saved\n",
      "\n",
      "Environment solved in 1155 episodes!\tAverage Score: 0.53\n",
      "Networks saved\n",
      "\n",
      "Environment solved in 1156 episodes!\tAverage Score: 0.52\n",
      "Networks saved\n",
      "\n",
      "Environment solved in 1157 episodes!\tAverage Score: 0.52\n",
      "Networks saved\n",
      "\n",
      "Environment solved in 1158 episodes!\tAverage Score: 0.52\n",
      "Networks saved\n",
      "\n",
      "Environment solved in 1159 episodes!\tAverage Score: 0.50\n",
      "Networks saved\n",
      "Total score (averaged over agents) episode 1160: -0.004999999888241291\n",
      "Score (max over agents) from episode 1160: 0.0\n",
      "Rolling average score: 0.5045000075735152\n",
      "Actor loss: -6300194.0 | Critic loss: 127273508864.0\n",
      "\n",
      "Environment solved in 1160 episodes!\tAverage Score: 0.50\n",
      "Networks saved\n",
      "\n",
      "Environment solved in 1161 episodes!\tAverage Score: 0.51\n",
      "Networks saved\n",
      "\n",
      "Environment solved in 1166 episodes!\tAverage Score: 0.50\n",
      "Networks saved\n"
     ]
    },
    {
     "name": "stderr",
     "output_type": "stream",
     "text": [
      "training loop:  78% |############################################             |\r"
     ]
    },
    {
     "name": "stdout",
     "output_type": "stream",
     "text": [
      "\n",
      "Environment solved in 1170 episodes!\tAverage Score: 0.50\n",
      "Networks saved\n",
      "\n",
      "Environment solved in 1171 episodes!\tAverage Score: 0.50\n",
      "Networks saved\n",
      "\n",
      "Environment solved in 1172 episodes!\tAverage Score: 0.51\n",
      "Networks saved\n",
      "\n",
      "Environment solved in 1173 episodes!\tAverage Score: 0.52\n",
      "Networks saved\n",
      "\n",
      "Environment solved in 1174 episodes!\tAverage Score: 0.52\n",
      "Networks saved\n",
      "\n",
      "Environment solved in 1175 episodes!\tAverage Score: 0.53\n",
      "Networks saved\n",
      "\n",
      "Environment solved in 1176 episodes!\tAverage Score: 0.53\n",
      "Networks saved\n",
      "\n",
      "Environment solved in 1177 episodes!\tAverage Score: 0.54\n",
      "Networks saved\n",
      "\n",
      "Environment solved in 1178 episodes!\tAverage Score: 0.55\n",
      "Networks saved\n",
      "\n",
      "Environment solved in 1179 episodes!\tAverage Score: 0.55\n",
      "Networks saved\n",
      "Total score (averaged over agents) episode 1180: 0.04500000085681677\n",
      "Score (max over agents) from episode 1180: 0.10000000149011612\n",
      "Rolling average score: 0.548400008212775\n",
      "Actor loss: -7251704.5 | Critic loss: 216190828544.0\n",
      "\n",
      "Environment solved in 1180 episodes!\tAverage Score: 0.55\n",
      "Networks saved\n",
      "\n",
      "Environment solved in 1181 episodes!\tAverage Score: 0.54\n",
      "Networks saved\n",
      "\n",
      "Environment solved in 1182 episodes!\tAverage Score: 0.55\n",
      "Networks saved\n",
      "\n",
      "Environment solved in 1183 episodes!\tAverage Score: 0.55\n",
      "Networks saved\n"
     ]
    },
    {
     "name": "stderr",
     "output_type": "stream",
     "text": [
      "training loop:  79% |#############################################            |\r"
     ]
    },
    {
     "name": "stdout",
     "output_type": "stream",
     "text": [
      "\n",
      "Environment solved in 1184 episodes!\tAverage Score: 0.54\n",
      "Networks saved\n",
      "\n",
      "Environment solved in 1185 episodes!\tAverage Score: 0.53\n",
      "Networks saved\n",
      "\n",
      "Environment solved in 1186 episodes!\tAverage Score: 0.53\n",
      "Networks saved\n",
      "\n",
      "Environment solved in 1187 episodes!\tAverage Score: 0.53\n",
      "Networks saved\n",
      "\n",
      "Environment solved in 1188 episodes!\tAverage Score: 0.54\n",
      "Networks saved\n",
      "\n",
      "Environment solved in 1189 episodes!\tAverage Score: 0.54\n",
      "Networks saved\n",
      "\n",
      "Environment solved in 1190 episodes!\tAverage Score: 0.54\n",
      "Networks saved\n",
      "\n",
      "Environment solved in 1191 episodes!\tAverage Score: 0.55\n",
      "Networks saved\n",
      "\n",
      "Environment solved in 1192 episodes!\tAverage Score: 0.55\n",
      "Networks saved\n",
      "\n",
      "Environment solved in 1193 episodes!\tAverage Score: 0.55\n",
      "Networks saved\n",
      "\n",
      "Environment solved in 1194 episodes!\tAverage Score: 0.56\n",
      "Networks saved\n",
      "\n",
      "Environment solved in 1195 episodes!\tAverage Score: 0.56\n",
      "Networks saved\n",
      "\n",
      "Environment solved in 1196 episodes!\tAverage Score: 0.56\n",
      "Networks saved\n",
      "\n",
      "Environment solved in 1197 episodes!\tAverage Score: 0.55\n",
      "Networks saved\n",
      "\n",
      "Environment solved in 1198 episodes!\tAverage Score: 0.55\n",
      "Networks saved\n"
     ]
    },
    {
     "name": "stderr",
     "output_type": "stream",
     "text": [
      "training loop:  80% |#############################################            |\r"
     ]
    },
    {
     "name": "stdout",
     "output_type": "stream",
     "text": [
      "\n",
      "Environment solved in 1199 episodes!\tAverage Score: 0.55\n",
      "Networks saved\n",
      "Total score (averaged over agents) episode 1200: -0.004999999888241291\n",
      "Score (max over agents) from episode 1200: 0.0\n",
      "Rolling average score: 0.5494000082090497\n",
      "Actor loss: -9733167.0 | Critic loss: 270236893184.0\n",
      "\n",
      "Environment solved in 1200 episodes!\tAverage Score: 0.55\n",
      "Networks saved\n",
      "\n",
      "Environment solved in 1201 episodes!\tAverage Score: 0.57\n",
      "Networks saved\n",
      "\n",
      "Environment solved in 1202 episodes!\tAverage Score: 0.57\n",
      "Networks saved\n",
      "\n",
      "Environment solved in 1203 episodes!\tAverage Score: 0.56\n",
      "Networks saved\n",
      "\n",
      "Environment solved in 1204 episodes!\tAverage Score: 0.55\n",
      "Networks saved\n",
      "\n",
      "Environment solved in 1205 episodes!\tAverage Score: 0.55\n",
      "Networks saved\n",
      "\n",
      "Environment solved in 1206 episodes!\tAverage Score: 0.53\n",
      "Networks saved\n",
      "\n",
      "Environment solved in 1207 episodes!\tAverage Score: 0.53\n",
      "Networks saved\n",
      "\n",
      "Environment solved in 1208 episodes!\tAverage Score: 0.52\n",
      "Networks saved\n",
      "\n",
      "Environment solved in 1209 episodes!\tAverage Score: 0.54\n",
      "Networks saved\n",
      "\n",
      "Environment solved in 1210 episodes!\tAverage Score: 0.53\n",
      "Networks saved\n",
      "\n",
      "Environment solved in 1211 episodes!\tAverage Score: 0.52\n",
      "Networks saved\n",
      "\n",
      "Environment solved in 1212 episodes!\tAverage Score: 0.52\n",
      "Networks saved\n",
      "\n",
      "Environment solved in 1213 episodes!\tAverage Score: 0.51\n",
      "Networks saved\n"
     ]
    },
    {
     "name": "stderr",
     "output_type": "stream",
     "text": [
      "training loop:  81% |##############################################           |\r"
     ]
    },
    {
     "name": "stdout",
     "output_type": "stream",
     "text": [
      "\n",
      "Environment solved in 1214 episodes!\tAverage Score: 0.52\n",
      "Networks saved\n",
      "\n",
      "Environment solved in 1215 episodes!\tAverage Score: 0.52\n",
      "Networks saved\n",
      "\n",
      "Environment solved in 1216 episodes!\tAverage Score: 0.52\n",
      "Networks saved\n",
      "\n",
      "Environment solved in 1217 episodes!\tAverage Score: 0.52\n",
      "Networks saved\n",
      "\n",
      "Environment solved in 1218 episodes!\tAverage Score: 0.52\n",
      "Networks saved\n",
      "\n",
      "Environment solved in 1219 episodes!\tAverage Score: 0.53\n",
      "Networks saved\n",
      "Total score (averaged over agents) episode 1220: 1.3450000202283263\n",
      "Score (max over agents) from episode 1220: 1.4000000208616257\n",
      "Rolling average score: 0.5290000079199672\n",
      "Actor loss: -11820546.0 | Critic loss: 397546717184.0\n",
      "\n",
      "Environment solved in 1220 episodes!\tAverage Score: 0.53\n",
      "Networks saved\n",
      "\n",
      "Environment solved in 1221 episodes!\tAverage Score: 0.53\n",
      "Networks saved\n",
      "\n",
      "Environment solved in 1222 episodes!\tAverage Score: 0.53\n",
      "Networks saved\n",
      "\n",
      "Environment solved in 1223 episodes!\tAverage Score: 0.53\n",
      "Networks saved\n",
      "\n",
      "Environment solved in 1224 episodes!\tAverage Score: 0.53\n",
      "Networks saved\n",
      "\n",
      "Environment solved in 1225 episodes!\tAverage Score: 0.53\n",
      "Networks saved\n",
      "\n",
      "Environment solved in 1226 episodes!\tAverage Score: 0.52\n",
      "Networks saved\n",
      "\n",
      "Environment solved in 1227 episodes!\tAverage Score: 0.53\n",
      "Networks saved\n",
      "\n",
      "Environment solved in 1228 episodes!\tAverage Score: 0.53\n",
      "Networks saved\n"
     ]
    },
    {
     "name": "stderr",
     "output_type": "stream",
     "text": [
      "training loop:  82% |##############################################           |\r"
     ]
    },
    {
     "name": "stdout",
     "output_type": "stream",
     "text": [
      "\n",
      "Environment solved in 1229 episodes!\tAverage Score: 0.51\n",
      "Networks saved\n",
      "\n",
      "Environment solved in 1230 episodes!\tAverage Score: 0.51\n",
      "Networks saved\n",
      "\n",
      "Environment solved in 1231 episodes!\tAverage Score: 0.52\n",
      "Networks saved\n",
      "\n",
      "Environment solved in 1232 episodes!\tAverage Score: 0.52\n",
      "Networks saved\n",
      "\n",
      "Environment solved in 1233 episodes!\tAverage Score: 0.52\n",
      "Networks saved\n",
      "\n",
      "Environment solved in 1234 episodes!\tAverage Score: 0.52\n",
      "Networks saved\n",
      "\n",
      "Environment solved in 1235 episodes!\tAverage Score: 0.53\n",
      "Networks saved\n",
      "\n",
      "Environment solved in 1236 episodes!\tAverage Score: 0.52\n",
      "Networks saved\n",
      "\n",
      "Environment solved in 1237 episodes!\tAverage Score: 0.52\n",
      "Networks saved\n",
      "\n",
      "Environment solved in 1238 episodes!\tAverage Score: 0.52\n",
      "Networks saved\n",
      "\n",
      "Environment solved in 1239 episodes!\tAverage Score: 0.52\n",
      "Networks saved\n",
      "Total score (averaged over agents) episode 1240: -0.004999999888241291\n",
      "Score (max over agents) from episode 1240: 0.0\n",
      "Rolling average score: 0.5206000078655779\n",
      "Actor loss: -13942837.0 | Critic loss: 737919893504.0\n",
      "\n",
      "Environment solved in 1240 episodes!\tAverage Score: 0.52\n",
      "Networks saved\n",
      "\n",
      "Environment solved in 1241 episodes!\tAverage Score: 0.51\n",
      "Networks saved\n",
      "\n",
      "Environment solved in 1242 episodes!\tAverage Score: 0.51\n",
      "Networks saved\n",
      "\n",
      "Environment solved in 1243 episodes!\tAverage Score: 0.51\n",
      "Networks saved\n"
     ]
    },
    {
     "name": "stderr",
     "output_type": "stream",
     "text": [
      "training loop:  83% |###############################################          |\r"
     ]
    },
    {
     "name": "stdout",
     "output_type": "stream",
     "text": [
      "\n",
      "Environment solved in 1244 episodes!\tAverage Score: 0.51\n",
      "Networks saved\n",
      "\n",
      "Environment solved in 1245 episodes!\tAverage Score: 0.51\n",
      "Networks saved\n",
      "\n",
      "Environment solved in 1246 episodes!\tAverage Score: 0.52\n",
      "Networks saved\n",
      "\n",
      "Environment solved in 1247 episodes!\tAverage Score: 0.52\n",
      "Networks saved\n",
      "\n",
      "Environment solved in 1248 episodes!\tAverage Score: 0.53\n",
      "Networks saved\n",
      "\n",
      "Environment solved in 1249 episodes!\tAverage Score: 0.54\n",
      "Networks saved\n",
      "\n",
      "Environment solved in 1250 episodes!\tAverage Score: 0.54\n",
      "Networks saved\n",
      "\n",
      "Environment solved in 1251 episodes!\tAverage Score: 0.54\n",
      "Networks saved\n",
      "\n",
      "Environment solved in 1252 episodes!\tAverage Score: 0.54\n",
      "Networks saved\n",
      "\n",
      "Environment solved in 1253 episodes!\tAverage Score: 0.56\n",
      "Networks saved\n",
      "\n",
      "Environment solved in 1254 episodes!\tAverage Score: 0.56\n",
      "Networks saved\n",
      "\n",
      "Environment solved in 1255 episodes!\tAverage Score: 0.56\n",
      "Networks saved\n",
      "\n",
      "Environment solved in 1256 episodes!\tAverage Score: 0.57\n",
      "Networks saved\n",
      "\n",
      "Environment solved in 1257 episodes!\tAverage Score: 0.57\n",
      "Networks saved\n",
      "\n",
      "Environment solved in 1258 episodes!\tAverage Score: 0.59\n",
      "Networks saved\n"
     ]
    },
    {
     "name": "stderr",
     "output_type": "stream",
     "text": [
      "training loop:  84% |###############################################          |\r"
     ]
    },
    {
     "name": "stdout",
     "output_type": "stream",
     "text": [
      "\n",
      "Environment solved in 1259 episodes!\tAverage Score: 0.61\n",
      "Networks saved\n",
      "Total score (averaged over agents) episode 1260: 1.2950000194832683\n",
      "Score (max over agents) from episode 1260: 1.3000000193715096\n",
      "Rolling average score: 0.6067000091448427\n",
      "Actor loss: -18115308.0 | Critic loss: 931635003392.0\n",
      "\n",
      "Environment solved in 1260 episodes!\tAverage Score: 0.61\n",
      "Networks saved\n",
      "\n",
      "Environment solved in 1261 episodes!\tAverage Score: 0.61\n",
      "Networks saved\n",
      "\n",
      "Environment solved in 1262 episodes!\tAverage Score: 0.61\n",
      "Networks saved\n",
      "\n",
      "Environment solved in 1263 episodes!\tAverage Score: 0.61\n",
      "Networks saved\n",
      "\n",
      "Environment solved in 1264 episodes!\tAverage Score: 0.61\n",
      "Networks saved\n",
      "\n",
      "Environment solved in 1265 episodes!\tAverage Score: 0.61\n",
      "Networks saved\n",
      "\n",
      "Environment solved in 1266 episodes!\tAverage Score: 0.62\n",
      "Networks saved\n",
      "\n",
      "Environment solved in 1267 episodes!\tAverage Score: 0.62\n",
      "Networks saved\n",
      "\n",
      "Environment solved in 1268 episodes!\tAverage Score: 0.61\n",
      "Networks saved\n",
      "\n",
      "Environment solved in 1269 episodes!\tAverage Score: 0.61\n",
      "Networks saved\n",
      "\n",
      "Environment solved in 1270 episodes!\tAverage Score: 0.60\n",
      "Networks saved\n",
      "\n",
      "Environment solved in 1271 episodes!\tAverage Score: 0.60\n",
      "Networks saved\n",
      "\n",
      "Environment solved in 1272 episodes!\tAverage Score: 0.60\n",
      "Networks saved\n",
      "\n",
      "Environment solved in 1273 episodes!\tAverage Score: 0.59\n",
      "Networks saved\n"
     ]
    },
    {
     "name": "stderr",
     "output_type": "stream",
     "text": [
      "training loop:  85% |################################################         |\r"
     ]
    },
    {
     "name": "stdout",
     "output_type": "stream",
     "text": [
      "\n",
      "Environment solved in 1274 episodes!\tAverage Score: 0.59\n",
      "Networks saved\n",
      "\n",
      "Environment solved in 1275 episodes!\tAverage Score: 0.61\n",
      "Networks saved\n",
      "\n",
      "Environment solved in 1276 episodes!\tAverage Score: 0.60\n",
      "Networks saved\n",
      "\n",
      "Environment solved in 1277 episodes!\tAverage Score: 0.60\n",
      "Networks saved\n",
      "\n",
      "Environment solved in 1278 episodes!\tAverage Score: 0.59\n",
      "Networks saved\n",
      "\n",
      "Environment solved in 1279 episodes!\tAverage Score: 0.59\n",
      "Networks saved\n",
      "Total score (averaged over agents) episode 1280: 0.1450000023469329\n",
      "Score (max over agents) from episode 1280: 0.19000000320374966\n",
      "Rolling average score: 0.5897000088915229\n",
      "Actor loss: -21116092.0 | Critic loss: 1225496985600.0\n",
      "\n",
      "Environment solved in 1280 episodes!\tAverage Score: 0.58\n",
      "Networks saved\n",
      "\n",
      "Environment solved in 1281 episodes!\tAverage Score: 0.57\n",
      "Networks saved\n",
      "\n",
      "Environment solved in 1282 episodes!\tAverage Score: 0.56\n",
      "Networks saved\n",
      "\n",
      "Environment solved in 1283 episodes!\tAverage Score: 0.58\n",
      "Networks saved\n",
      "\n",
      "Environment solved in 1284 episodes!\tAverage Score: 0.58\n",
      "Networks saved\n",
      "\n",
      "Environment solved in 1285 episodes!\tAverage Score: 0.59\n",
      "Networks saved\n",
      "\n",
      "Environment solved in 1286 episodes!\tAverage Score: 0.58\n",
      "Networks saved\n",
      "\n",
      "Environment solved in 1287 episodes!\tAverage Score: 0.58\n",
      "Networks saved\n",
      "\n",
      "Environment solved in 1288 episodes!\tAverage Score: 0.58\n",
      "Networks saved\n"
     ]
    },
    {
     "name": "stderr",
     "output_type": "stream",
     "text": [
      "training loop:  86% |#################################################        |\r"
     ]
    },
    {
     "name": "stdout",
     "output_type": "stream",
     "text": [
      "\n",
      "Environment solved in 1289 episodes!\tAverage Score: 0.57\n",
      "Networks saved\n",
      "\n",
      "Environment solved in 1290 episodes!\tAverage Score: 0.57\n",
      "Networks saved\n",
      "\n",
      "Environment solved in 1291 episodes!\tAverage Score: 0.57\n",
      "Networks saved\n",
      "\n",
      "Environment solved in 1292 episodes!\tAverage Score: 0.57\n",
      "Networks saved\n",
      "\n",
      "Environment solved in 1293 episodes!\tAverage Score: 0.57\n",
      "Networks saved\n",
      "\n",
      "Environment solved in 1294 episodes!\tAverage Score: 0.57\n",
      "Networks saved\n",
      "\n",
      "Environment solved in 1295 episodes!\tAverage Score: 0.56\n",
      "Networks saved\n",
      "\n",
      "Environment solved in 1296 episodes!\tAverage Score: 0.56\n",
      "Networks saved\n",
      "\n",
      "Environment solved in 1297 episodes!\tAverage Score: 0.54\n",
      "Networks saved\n",
      "\n",
      "Environment solved in 1298 episodes!\tAverage Score: 0.55\n",
      "Networks saved\n",
      "\n",
      "Environment solved in 1299 episodes!\tAverage Score: 0.57\n",
      "Networks saved\n",
      "Total score (averaged over agents) episode 1300: 1.995000029914081\n",
      "Score (max over agents) from episode 1300: 2.0000000298023224\n",
      "Rolling average score: 0.5658000085316598\n",
      "Actor loss: -25423058.0 | Critic loss: 1367149248512.0\n",
      "\n",
      "Environment solved in 1300 episodes!\tAverage Score: 0.57\n",
      "Networks saved\n",
      "\n",
      "Environment solved in 1301 episodes!\tAverage Score: 0.56\n",
      "Networks saved\n",
      "\n",
      "Environment solved in 1302 episodes!\tAverage Score: 0.56\n",
      "Networks saved\n",
      "\n",
      "Environment solved in 1303 episodes!\tAverage Score: 0.57\n",
      "Networks saved\n"
     ]
    },
    {
     "name": "stderr",
     "output_type": "stream",
     "text": [
      "training loop:  87% |#################################################        |\r"
     ]
    },
    {
     "name": "stdout",
     "output_type": "stream",
     "text": [
      "\n",
      "Environment solved in 1304 episodes!\tAverage Score: 0.56\n",
      "Networks saved\n",
      "\n",
      "Environment solved in 1305 episodes!\tAverage Score: 0.57\n",
      "Networks saved\n",
      "\n",
      "Environment solved in 1306 episodes!\tAverage Score: 0.57\n",
      "Networks saved\n",
      "\n",
      "Environment solved in 1307 episodes!\tAverage Score: 0.58\n",
      "Networks saved\n",
      "\n",
      "Environment solved in 1308 episodes!\tAverage Score: 0.58\n",
      "Networks saved\n",
      "\n",
      "Environment solved in 1309 episodes!\tAverage Score: 0.57\n",
      "Networks saved\n",
      "\n",
      "Environment solved in 1310 episodes!\tAverage Score: 0.57\n",
      "Networks saved\n",
      "\n",
      "Environment solved in 1311 episodes!\tAverage Score: 0.57\n",
      "Networks saved\n",
      "\n",
      "Environment solved in 1312 episodes!\tAverage Score: 0.57\n",
      "Networks saved\n",
      "\n",
      "Environment solved in 1313 episodes!\tAverage Score: 0.57\n",
      "Networks saved\n",
      "\n",
      "Environment solved in 1314 episodes!\tAverage Score: 0.58\n",
      "Networks saved\n",
      "\n",
      "Environment solved in 1315 episodes!\tAverage Score: 0.58\n",
      "Networks saved\n",
      "\n",
      "Environment solved in 1316 episodes!\tAverage Score: 0.58\n",
      "Networks saved\n",
      "\n",
      "Environment solved in 1317 episodes!\tAverage Score: 0.58\n",
      "Networks saved\n",
      "\n",
      "Environment solved in 1318 episodes!\tAverage Score: 0.58\n",
      "Networks saved\n"
     ]
    },
    {
     "name": "stderr",
     "output_type": "stream",
     "text": [
      "training loop:  88% |##################################################       |\r"
     ]
    },
    {
     "name": "stdout",
     "output_type": "stream",
     "text": [
      "\n",
      "Environment solved in 1319 episodes!\tAverage Score: 0.57\n",
      "Networks saved\n",
      "Total score (averaged over agents) episode 1320: 0.04500000085681677\n",
      "Score (max over agents) from episode 1320: 0.10000000149011612\n",
      "Rolling average score: 0.5690000085718929\n",
      "Actor loss: -30409088.0 | Critic loss: 1554314166272.0\n",
      "\n",
      "Environment solved in 1320 episodes!\tAverage Score: 0.56\n",
      "Networks saved\n",
      "\n",
      "Environment solved in 1321 episodes!\tAverage Score: 0.55\n",
      "Networks saved\n",
      "\n",
      "Environment solved in 1322 episodes!\tAverage Score: 0.55\n",
      "Networks saved\n",
      "\n",
      "Environment solved in 1323 episodes!\tAverage Score: 0.55\n",
      "Networks saved\n",
      "\n",
      "Environment solved in 1324 episodes!\tAverage Score: 0.54\n",
      "Networks saved\n",
      "\n",
      "Environment solved in 1325 episodes!\tAverage Score: 0.54\n",
      "Networks saved\n",
      "\n",
      "Environment solved in 1326 episodes!\tAverage Score: 0.54\n",
      "Networks saved\n",
      "\n",
      "Environment solved in 1327 episodes!\tAverage Score: 0.55\n",
      "Networks saved\n",
      "\n",
      "Environment solved in 1328 episodes!\tAverage Score: 0.56\n",
      "Networks saved\n",
      "\n",
      "Environment solved in 1329 episodes!\tAverage Score: 0.57\n",
      "Networks saved\n",
      "\n",
      "Environment solved in 1330 episodes!\tAverage Score: 0.57\n",
      "Networks saved\n",
      "\n",
      "Environment solved in 1331 episodes!\tAverage Score: 0.57\n",
      "Networks saved\n",
      "\n",
      "Environment solved in 1332 episodes!\tAverage Score: 0.57\n",
      "Networks saved\n",
      "\n",
      "Environment solved in 1333 episodes!\tAverage Score: 0.57\n",
      "Networks saved\n"
     ]
    },
    {
     "name": "stderr",
     "output_type": "stream",
     "text": [
      "training loop:  89% |##################################################       |\r"
     ]
    },
    {
     "name": "stdout",
     "output_type": "stream",
     "text": [
      "\n",
      "Environment solved in 1334 episodes!\tAverage Score: 0.57\n",
      "Networks saved\n",
      "\n",
      "Environment solved in 1335 episodes!\tAverage Score: 0.56\n",
      "Networks saved\n",
      "\n",
      "Environment solved in 1336 episodes!\tAverage Score: 0.57\n",
      "Networks saved\n",
      "\n",
      "Environment solved in 1337 episodes!\tAverage Score: 0.57\n",
      "Networks saved\n",
      "\n",
      "Environment solved in 1338 episodes!\tAverage Score: 0.56\n",
      "Networks saved\n",
      "\n",
      "Environment solved in 1339 episodes!\tAverage Score: 0.57\n",
      "Networks saved\n",
      "Total score (averaged over agents) episode 1340: 0.3950000060722232\n",
      "Score (max over agents) from episode 1340: 0.4000000059604645\n",
      "Rolling average score: 0.5664000084623695\n",
      "Actor loss: -34155448.0 | Critic loss: 4904776630272.0\n",
      "\n",
      "Environment solved in 1340 episodes!\tAverage Score: 0.57\n",
      "Networks saved\n",
      "\n",
      "Environment solved in 1341 episodes!\tAverage Score: 0.58\n",
      "Networks saved\n",
      "\n",
      "Environment solved in 1342 episodes!\tAverage Score: 0.58\n",
      "Networks saved\n",
      "\n",
      "Environment solved in 1343 episodes!\tAverage Score: 0.58\n",
      "Networks saved\n",
      "\n",
      "Environment solved in 1344 episodes!\tAverage Score: 0.58\n",
      "Networks saved\n",
      "\n",
      "Environment solved in 1345 episodes!\tAverage Score: 0.57\n",
      "Networks saved\n",
      "\n",
      "Environment solved in 1346 episodes!\tAverage Score: 0.56\n",
      "Networks saved\n",
      "\n",
      "Environment solved in 1347 episodes!\tAverage Score: 0.55\n",
      "Networks saved\n",
      "\n",
      "Environment solved in 1348 episodes!\tAverage Score: 0.55\n",
      "Networks saved\n"
     ]
    },
    {
     "name": "stderr",
     "output_type": "stream",
     "text": [
      "training loop:  90% |###################################################      |\r"
     ]
    },
    {
     "name": "stdout",
     "output_type": "stream",
     "text": [
      "\n",
      "Environment solved in 1349 episodes!\tAverage Score: 0.55\n",
      "Networks saved\n",
      "\n",
      "Environment solved in 1350 episodes!\tAverage Score: 0.54\n",
      "Networks saved\n",
      "\n",
      "Environment solved in 1351 episodes!\tAverage Score: 0.54\n",
      "Networks saved\n",
      "\n",
      "Environment solved in 1352 episodes!\tAverage Score: 0.54\n",
      "Networks saved\n",
      "\n",
      "Environment solved in 1353 episodes!\tAverage Score: 0.52\n",
      "Networks saved\n",
      "\n",
      "Environment solved in 1354 episodes!\tAverage Score: 0.51\n",
      "Networks saved\n",
      "\n",
      "Environment solved in 1355 episodes!\tAverage Score: 0.51\n",
      "Networks saved\n",
      "\n",
      "Environment solved in 1356 episodes!\tAverage Score: 0.51\n",
      "Networks saved\n",
      "\n",
      "Environment solved in 1357 episodes!\tAverage Score: 0.52\n",
      "Networks saved\n",
      "Total score (averaged over agents) episode 1360: -0.004999999888241291\n",
      "Score (max over agents) from episode 1360: 0.0\n",
      "Rolling average score: 0.4813000071980059\n",
      "Actor loss: -38833776.0 | Critic loss: 8629477441536.0\n"
     ]
    },
    {
     "name": "stderr",
     "output_type": "stream",
     "text": [
      "training loop:  91% |###################################################      |\r"
     ]
    },
    {
     "name": "stdout",
     "output_type": "stream",
     "text": [
      "\n",
      "Environment solved in 1364 episodes!\tAverage Score: 0.51\n",
      "Networks saved\n",
      "\n",
      "Environment solved in 1365 episodes!\tAverage Score: 0.51\n",
      "Networks saved\n",
      "\n",
      "Environment solved in 1367 episodes!\tAverage Score: 0.50\n",
      "Networks saved\n",
      "\n",
      "Environment solved in 1368 episodes!\tAverage Score: 0.51\n",
      "Networks saved\n",
      "\n",
      "Environment solved in 1369 episodes!\tAverage Score: 0.51\n",
      "Networks saved\n",
      "\n",
      "Environment solved in 1370 episodes!\tAverage Score: 0.51\n",
      "Networks saved\n",
      "\n",
      "Environment solved in 1371 episodes!\tAverage Score: 0.51\n",
      "Networks saved\n",
      "\n",
      "Environment solved in 1372 episodes!\tAverage Score: 0.51\n",
      "Networks saved\n",
      "\n",
      "Environment solved in 1373 episodes!\tAverage Score: 0.51\n",
      "Networks saved\n",
      "\n",
      "Environment solved in 1374 episodes!\tAverage Score: 0.52\n",
      "Networks saved\n"
     ]
    },
    {
     "name": "stderr",
     "output_type": "stream",
     "text": [
      "training loop:  92% |####################################################     |\r"
     ]
    },
    {
     "name": "stdout",
     "output_type": "stream",
     "text": [
      "Total score (averaged over agents) episode 1380: -0.004999999888241291\n",
      "Score (max over agents) from episode 1380: 0.0\n",
      "Rolling average score: 0.4904000073298812\n",
      "Actor loss: -44335664.0 | Critic loss: 4622967111680.0\n",
      "\n",
      "Environment solved in 1380 episodes!\tAverage Score: 0.51\n",
      "Networks saved\n",
      "\n",
      "Environment solved in 1381 episodes!\tAverage Score: 0.53\n",
      "Networks saved\n",
      "\n",
      "Environment solved in 1382 episodes!\tAverage Score: 0.53\n",
      "Networks saved\n",
      "\n",
      "Environment solved in 1383 episodes!\tAverage Score: 0.51\n",
      "Networks saved\n",
      "\n",
      "Environment solved in 1384 episodes!\tAverage Score: 0.51\n",
      "Networks saved\n",
      "\n",
      "Environment solved in 1385 episodes!\tAverage Score: 0.51\n",
      "Networks saved\n",
      "\n",
      "Environment solved in 1386 episodes!\tAverage Score: 0.50\n",
      "Networks saved\n",
      "\n",
      "Environment solved in 1387 episodes!\tAverage Score: 0.50\n",
      "Networks saved\n",
      "\n",
      "Environment solved in 1389 episodes!\tAverage Score: 0.51\n",
      "Networks saved\n",
      "\n",
      "Environment solved in 1390 episodes!\tAverage Score: 0.50\n",
      "Networks saved\n"
     ]
    },
    {
     "name": "stderr",
     "output_type": "stream",
     "text": [
      "training loop:  93% |#####################################################    |\r"
     ]
    },
    {
     "name": "stdout",
     "output_type": "stream",
     "text": [
      "\n",
      "Environment solved in 1394 episodes!\tAverage Score: 0.51\n",
      "Networks saved\n",
      "\n",
      "Environment solved in 1395 episodes!\tAverage Score: 0.52\n",
      "Networks saved\n",
      "\n",
      "Environment solved in 1396 episodes!\tAverage Score: 0.53\n",
      "Networks saved\n",
      "\n",
      "Environment solved in 1397 episodes!\tAverage Score: 0.55\n",
      "Networks saved\n",
      "\n",
      "Environment solved in 1398 episodes!\tAverage Score: 0.54\n",
      "Networks saved\n",
      "\n",
      "Environment solved in 1399 episodes!\tAverage Score: 0.53\n",
      "Networks saved\n",
      "Total score (averaged over agents) episode 1400: 0.6950000105425715\n",
      "Score (max over agents) from episode 1400: 0.7000000104308128\n",
      "Rolling average score: 0.5285000078938902\n",
      "Actor loss: -51849992.0 | Critic loss: 3784718155776.0\n",
      "\n",
      "Environment solved in 1400 episodes!\tAverage Score: 0.52\n",
      "Networks saved\n",
      "\n",
      "Environment solved in 1401 episodes!\tAverage Score: 0.52\n",
      "Networks saved\n",
      "\n",
      "Environment solved in 1402 episodes!\tAverage Score: 0.52\n",
      "Networks saved\n",
      "\n",
      "Environment solved in 1403 episodes!\tAverage Score: 0.52\n",
      "Networks saved\n",
      "\n",
      "Environment solved in 1404 episodes!\tAverage Score: 0.52\n",
      "Networks saved\n",
      "\n",
      "Environment solved in 1405 episodes!\tAverage Score: 0.51\n",
      "Networks saved\n",
      "\n",
      "Environment solved in 1406 episodes!\tAverage Score: 0.51\n",
      "Networks saved\n",
      "\n",
      "Environment solved in 1407 episodes!\tAverage Score: 0.51\n",
      "Networks saved\n",
      "\n",
      "Environment solved in 1408 episodes!\tAverage Score: 0.51\n",
      "Networks saved\n"
     ]
    },
    {
     "name": "stderr",
     "output_type": "stream",
     "text": [
      "training loop:  94% |#####################################################    |\r"
     ]
    },
    {
     "name": "stdout",
     "output_type": "stream",
     "text": [
      "\n",
      "Environment solved in 1409 episodes!\tAverage Score: 0.51\n",
      "Networks saved\n",
      "\n",
      "Environment solved in 1410 episodes!\tAverage Score: 0.52\n",
      "Networks saved\n",
      "\n",
      "Environment solved in 1411 episodes!\tAverage Score: 0.53\n",
      "Networks saved\n",
      "\n",
      "Environment solved in 1412 episodes!\tAverage Score: 0.54\n",
      "Networks saved\n",
      "\n",
      "Environment solved in 1413 episodes!\tAverage Score: 0.54\n",
      "Networks saved\n",
      "\n",
      "Environment solved in 1414 episodes!\tAverage Score: 0.53\n",
      "Networks saved\n",
      "\n",
      "Environment solved in 1415 episodes!\tAverage Score: 0.53\n",
      "Networks saved\n",
      "\n",
      "Environment solved in 1416 episodes!\tAverage Score: 0.52\n",
      "Networks saved\n",
      "\n",
      "Environment solved in 1417 episodes!\tAverage Score: 0.52\n",
      "Networks saved\n",
      "\n",
      "Environment solved in 1418 episodes!\tAverage Score: 0.52\n",
      "Networks saved\n",
      "\n",
      "Environment solved in 1419 episodes!\tAverage Score: 0.53\n",
      "Networks saved\n",
      "Total score (averaged over agents) episode 1420: 0.3450000053271651\n",
      "Score (max over agents) from episode 1420: 0.4000000059604645\n",
      "Rolling average score: 0.5257000078447163\n",
      "Actor loss: -62455088.0 | Critic loss: 5255575109632.0\n",
      "\n",
      "Environment solved in 1420 episodes!\tAverage Score: 0.53\n",
      "Networks saved\n",
      "\n",
      "Environment solved in 1421 episodes!\tAverage Score: 0.52\n",
      "Networks saved\n",
      "\n",
      "Environment solved in 1422 episodes!\tAverage Score: 0.52\n",
      "Networks saved\n",
      "\n",
      "Environment solved in 1423 episodes!\tAverage Score: 0.52\n",
      "Networks saved\n"
     ]
    },
    {
     "name": "stderr",
     "output_type": "stream",
     "text": [
      "training loop:  95% |######################################################   |\r"
     ]
    },
    {
     "name": "stdout",
     "output_type": "stream",
     "text": [
      "\n",
      "Environment solved in 1424 episodes!\tAverage Score: 0.52\n",
      "Networks saved\n",
      "\n",
      "Environment solved in 1425 episodes!\tAverage Score: 0.53\n",
      "Networks saved\n",
      "\n",
      "Environment solved in 1426 episodes!\tAverage Score: 0.54\n",
      "Networks saved\n",
      "\n",
      "Environment solved in 1427 episodes!\tAverage Score: 0.52\n",
      "Networks saved\n",
      "\n",
      "Environment solved in 1428 episodes!\tAverage Score: 0.52\n",
      "Networks saved\n",
      "\n",
      "Environment solved in 1429 episodes!\tAverage Score: 0.51\n",
      "Networks saved\n",
      "\n",
      "Environment solved in 1430 episodes!\tAverage Score: 0.50\n",
      "Networks saved\n",
      "\n",
      "Environment solved in 1432 episodes!\tAverage Score: 0.51\n",
      "Networks saved\n",
      "\n",
      "Environment solved in 1433 episodes!\tAverage Score: 0.53\n",
      "Networks saved\n",
      "\n",
      "Environment solved in 1434 episodes!\tAverage Score: 0.55\n",
      "Networks saved\n",
      "\n",
      "Environment solved in 1435 episodes!\tAverage Score: 0.55\n",
      "Networks saved\n",
      "\n",
      "Environment solved in 1436 episodes!\tAverage Score: 0.54\n",
      "Networks saved\n",
      "\n",
      "Environment solved in 1437 episodes!\tAverage Score: 0.56\n",
      "Networks saved\n",
      "\n",
      "Environment solved in 1438 episodes!\tAverage Score: 0.56\n",
      "Networks saved\n"
     ]
    },
    {
     "name": "stderr",
     "output_type": "stream",
     "text": [
      "training loop:  96% |######################################################   |\r"
     ]
    },
    {
     "name": "stdout",
     "output_type": "stream",
     "text": [
      "\n",
      "Environment solved in 1439 episodes!\tAverage Score: 0.57\n",
      "Networks saved\n",
      "Total score (averaged over agents) episode 1440: 1.1950000179931521\n",
      "Score (max over agents) from episode 1440: 1.2000000178813934\n",
      "Rolling average score: 0.5676000084728002\n",
      "Actor loss: -75091304.0 | Critic loss: 16178682527744.0\n",
      "\n",
      "Environment solved in 1440 episodes!\tAverage Score: 0.57\n",
      "Networks saved\n",
      "\n",
      "Environment solved in 1441 episodes!\tAverage Score: 0.55\n",
      "Networks saved\n",
      "\n",
      "Environment solved in 1442 episodes!\tAverage Score: 0.57\n",
      "Networks saved\n",
      "\n",
      "Environment solved in 1443 episodes!\tAverage Score: 0.58\n",
      "Networks saved\n",
      "\n",
      "Environment solved in 1444 episodes!\tAverage Score: 0.58\n",
      "Networks saved\n",
      "\n",
      "Environment solved in 1445 episodes!\tAverage Score: 0.58\n",
      "Networks saved\n",
      "\n",
      "Environment solved in 1446 episodes!\tAverage Score: 0.59\n",
      "Networks saved\n",
      "\n",
      "Environment solved in 1447 episodes!\tAverage Score: 0.59\n",
      "Networks saved\n",
      "\n",
      "Environment solved in 1448 episodes!\tAverage Score: 0.60\n",
      "Networks saved\n",
      "\n",
      "Environment solved in 1449 episodes!\tAverage Score: 0.59\n",
      "Networks saved\n",
      "\n",
      "Environment solved in 1450 episodes!\tAverage Score: 0.59\n",
      "Networks saved\n",
      "\n",
      "Environment solved in 1451 episodes!\tAverage Score: 0.60\n",
      "Networks saved\n",
      "\n",
      "Environment solved in 1452 episodes!\tAverage Score: 0.61\n",
      "Networks saved\n",
      "\n",
      "Environment solved in 1453 episodes!\tAverage Score: 0.61\n",
      "Networks saved\n"
     ]
    },
    {
     "name": "stderr",
     "output_type": "stream",
     "text": [
      "training loop:  97% |#######################################################  |\r"
     ]
    },
    {
     "name": "stdout",
     "output_type": "stream",
     "text": [
      "\n",
      "Environment solved in 1454 episodes!\tAverage Score: 0.61\n",
      "Networks saved\n",
      "\n",
      "Environment solved in 1455 episodes!\tAverage Score: 0.61\n",
      "Networks saved\n",
      "\n",
      "Environment solved in 1456 episodes!\tAverage Score: 0.60\n",
      "Networks saved\n",
      "\n",
      "Environment solved in 1457 episodes!\tAverage Score: 0.60\n",
      "Networks saved\n",
      "\n",
      "Environment solved in 1458 episodes!\tAverage Score: 0.60\n",
      "Networks saved\n",
      "\n",
      "Environment solved in 1459 episodes!\tAverage Score: 0.61\n",
      "Networks saved\n",
      "Total score (averaged over agents) episode 1460: 0.8450000127777457\n",
      "Score (max over agents) from episode 1460: 0.9000000134110451\n",
      "Rolling average score: 0.605800009034574\n",
      "Actor loss: -84132488.0 | Critic loss: 24366163165184.0\n",
      "\n",
      "Environment solved in 1460 episodes!\tAverage Score: 0.61\n",
      "Networks saved\n",
      "\n",
      "Environment solved in 1461 episodes!\tAverage Score: 0.60\n",
      "Networks saved\n",
      "\n",
      "Environment solved in 1462 episodes!\tAverage Score: 0.60\n",
      "Networks saved\n",
      "\n",
      "Environment solved in 1463 episodes!\tAverage Score: 0.60\n",
      "Networks saved\n",
      "\n",
      "Environment solved in 1464 episodes!\tAverage Score: 0.59\n",
      "Networks saved\n",
      "\n",
      "Environment solved in 1465 episodes!\tAverage Score: 0.60\n",
      "Networks saved\n",
      "\n",
      "Environment solved in 1466 episodes!\tAverage Score: 0.59\n",
      "Networks saved\n",
      "\n",
      "Environment solved in 1467 episodes!\tAverage Score: 0.59\n",
      "Networks saved\n",
      "\n",
      "Environment solved in 1468 episodes!\tAverage Score: 0.58\n",
      "Networks saved\n"
     ]
    },
    {
     "name": "stderr",
     "output_type": "stream",
     "text": [
      "training loop:  98% |#######################################################  |\r"
     ]
    },
    {
     "name": "stdout",
     "output_type": "stream",
     "text": [
      "\n",
      "Environment solved in 1469 episodes!\tAverage Score: 0.58\n",
      "Networks saved\n",
      "\n",
      "Environment solved in 1470 episodes!\tAverage Score: 0.59\n",
      "Networks saved\n",
      "\n",
      "Environment solved in 1471 episodes!\tAverage Score: 0.60\n",
      "Networks saved\n",
      "\n",
      "Environment solved in 1472 episodes!\tAverage Score: 0.60\n",
      "Networks saved\n",
      "\n",
      "Environment solved in 1473 episodes!\tAverage Score: 0.60\n",
      "Networks saved\n",
      "\n",
      "Environment solved in 1474 episodes!\tAverage Score: 0.59\n",
      "Networks saved\n",
      "\n",
      "Environment solved in 1475 episodes!\tAverage Score: 0.60\n",
      "Networks saved\n",
      "\n",
      "Environment solved in 1476 episodes!\tAverage Score: 0.60\n",
      "Networks saved\n",
      "\n",
      "Environment solved in 1477 episodes!\tAverage Score: 0.60\n",
      "Networks saved\n",
      "\n",
      "Environment solved in 1478 episodes!\tAverage Score: 0.61\n",
      "Networks saved\n",
      "\n",
      "Environment solved in 1479 episodes!\tAverage Score: 0.61\n",
      "Networks saved\n",
      "Total score (averaged over agents) episode 1480: 0.19500000309199095\n",
      "Score (max over agents) from episode 1480: 0.20000000298023224\n",
      "Rolling average score: 0.6107000091113151\n",
      "Actor loss: -94923184.0 | Critic loss: 31221908242432.0\n",
      "\n",
      "Environment solved in 1480 episodes!\tAverage Score: 0.59\n",
      "Networks saved\n",
      "\n",
      "Environment solved in 1481 episodes!\tAverage Score: 0.58\n",
      "Networks saved\n",
      "\n",
      "Environment solved in 1482 episodes!\tAverage Score: 0.58\n",
      "Networks saved\n",
      "\n",
      "Environment solved in 1483 episodes!\tAverage Score: 0.58\n",
      "Networks saved\n"
     ]
    },
    {
     "name": "stderr",
     "output_type": "stream",
     "text": [
      "training loop:  99% |######################################################## |\r"
     ]
    },
    {
     "name": "stdout",
     "output_type": "stream",
     "text": [
      "\n",
      "Environment solved in 1484 episodes!\tAverage Score: 0.57\n",
      "Networks saved\n",
      "\n",
      "Environment solved in 1485 episodes!\tAverage Score: 0.58\n",
      "Networks saved\n",
      "\n",
      "Environment solved in 1486 episodes!\tAverage Score: 0.59\n",
      "Networks saved\n",
      "\n",
      "Environment solved in 1487 episodes!\tAverage Score: 0.59\n",
      "Networks saved\n",
      "\n",
      "Environment solved in 1488 episodes!\tAverage Score: 0.59\n",
      "Networks saved\n",
      "\n",
      "Environment solved in 1489 episodes!\tAverage Score: 0.59\n",
      "Networks saved\n",
      "\n",
      "Environment solved in 1490 episodes!\tAverage Score: 0.59\n",
      "Networks saved\n",
      "\n",
      "Environment solved in 1491 episodes!\tAverage Score: 0.60\n",
      "Networks saved\n",
      "\n",
      "Environment solved in 1492 episodes!\tAverage Score: 0.61\n",
      "Networks saved\n",
      "\n",
      "Environment solved in 1493 episodes!\tAverage Score: 0.59\n",
      "Networks saved\n",
      "\n",
      "Environment solved in 1494 episodes!\tAverage Score: 0.59\n",
      "Networks saved\n",
      "\n",
      "Environment solved in 1495 episodes!\tAverage Score: 0.57\n",
      "Networks saved\n",
      "\n",
      "Environment solved in 1496 episodes!\tAverage Score: 0.56\n",
      "Networks saved\n",
      "\n",
      "Environment solved in 1497 episodes!\tAverage Score: 0.54\n",
      "Networks saved\n",
      "\n",
      "Environment solved in 1498 episodes!\tAverage Score: 0.55\n",
      "Networks saved\n"
     ]
    },
    {
     "name": "stderr",
     "output_type": "stream",
     "text": [
      "training loop: 100% |#########################################################|\r"
     ]
    },
    {
     "name": "stdout",
     "output_type": "stream",
     "text": [
      "\n",
      "Environment solved in 1499 episodes!\tAverage Score: 0.55\n",
      "Networks saved\n",
      "Total score (averaged over agents) episode 1500: 0.09500000160187483\n",
      "Score (max over agents) from episode 1500: 0.10000000149011612\n",
      "Rolling average score: 0.5477000081725418\n",
      "Actor loss: -102815816.0 | Critic loss: 70567260585984.0\n",
      "Max score:  0.6198000093363225\n",
      "### ---------------------------- ++++++++++++++++++++++++ ---------------------------- ###\n"
     ]
    },
    {
     "name": "stderr",
     "output_type": "stream",
     "text": [
      "\n"
     ]
    },
    {
     "name": "stdout",
     "output_type": "stream",
     "text": [
      "Tennis solved!\n"
     ]
    },
    {
     "data": {
      "image/png": "[encoded data removed]",
      "text/plain": [
       "<Figure size 1080x360 with 1 Axes>"
      ]
     },
     "metadata": {
      "needs_background": "light"
     },
     "output_type": "display_data"
    },
    {
     "data": {
      "image/png": "[encoded data removed]",
      "text/plain": [
       "<Figure size 1080x360 with 2 Axes>"
      ]
     },
     "metadata": {
      "needs_background": "light"
     },
     "output_type": "display_data"
    }
   ],
   "source": [
    "nr_episodes = 1500\n",
    "for i in range(20):\n",
    "    seed = np.random.randint(10000000)\n",
    "    ACloss, rolling_avg, e_score, agent = train_agent(env, nr_episodes, num_agents, seed)\n",
    "    if rolling_avg.max() > 0.5:\n",
    "        plt.figure(figsize=(15,5))\n",
    "        plt.plot(e_score)\n",
    "        plt.plot(rolling_avg,'r')\n",
    "        plt.plot(0.5*np.ones_like(rolling_avg),'k')\n",
    "        plt.title('Score over Episodes')\n",
    "        plt.xlabel('Episodes')\n",
    "        plt.savefig('Scores.png')\n",
    "        plt.figure(figsize=(15,5))\n",
    "        plt.subplot(121)\n",
    "        plt.plot(ACloss[:,0])\n",
    "        plt.title('Actor loss')\n",
    "        plt.xlabel('Episodes')\n",
    "        plt.subplot(122)\n",
    "        plt.plot(ACloss[:,1])\n",
    "        plt.title('Critic loss')\n",
    "        plt.xlabel('Episodes')\n",
    "        plt.savefig('AC_loss.png')\n",
    "        print('Tennis solved!')\n",
    "        break"
   ]
  },
  {
   "cell_type": "code",
   "execution_count": 6,
   "metadata": {
    "scrolled": false
   },
   "outputs": [
    {
     "data": {
      "text/plain": [
       "Text(0.5, 0, 'Episodes')"
      ]
     },
     "execution_count": 6,
     "metadata": {},
     "output_type": "execute_result"
    },
    {
     "data": {
      "image/png": "[encoded data removed]",
      "text/plain": [
       "<Figure size 1080x360 with 1 Axes>"
      ]
     },
     "metadata": {
      "needs_background": "light"
     },
     "output_type": "display_data"
    },
    {
     "data": {
      "image/png": "[encoded data removed]",
      "text/plain": [
       "<Figure size 1080x360 with 2 Axes>"
      ]
     },
     "metadata": {
      "needs_background": "light"
     },
     "output_type": "display_data"
    }
   ],
   "source": [
    "plt.figure(figsize=(15,5))\n",
    "plt.plot(e_score)\n",
    "plt.plot(rolling_avg,'r')\n",
    "plt.plot(0.5*np.ones_like(rolling_avg),'k')\n",
    "plt.title('Score over Episodes')\n",
    "plt.xlabel('Episodes')\n",
    "# plt.savefig('Scores.png')\n",
    "plt.figure(figsize=(15,5))\n",
    "plt.subplot(121)\n",
    "plt.plot(ACloss[:,0])\n",
    "plt.title('Actor loss')\n",
    "plt.subplot(122)\n",
    "plt.plot(ACloss[:,1])\n",
    "plt.title('Critic loss')\n",
    "plt.xlabel('Episodes')\n",
    "# plt.savefig('AC_loss.png')"
   ]
  },
  {
   "cell_type": "markdown",
   "metadata": {},
   "source": [
    "lra 0.0005, lrc 0.0005, noise_lvl 0.2, noise_decay 1, batch_size 128, update_steps 1, GD_steps 2 => 0.25"
   ]
  },
  {
   "cell_type": "code",
   "execution_count": 7,
   "metadata": {},
   "outputs": [],
   "source": [
    "# agent.actor.eval()\n",
    "# for i in range(5):                                         # play game for nr_episodes episodes\n",
    "#     env_info = env.reset(train_mode=False)[brain_name]     # reset the environment    \n",
    "#     states = env_info.vector_observations                  # get the current state (for each agent)\n",
    "#     scores = np.zeros(num_agents)                          # initialize the score (for each agent)\n",
    "#     ou.reset()\n",
    "#     while True:#t<T_max:\n",
    "#         t+=1\n",
    "#         # select action\n",
    "#         noise = ou.noise()\n",
    "#         actA  = agent.act(states[np.newaxis,0]).data.cpu().numpy() + noise[0]\n",
    "#         actB = agent.act(states[np.newaxis,1]).data.cpu().numpy() + noise[1]\n",
    "#         actions = np.clip([actA[0], actB[0]],-1,1) # select an action (for each agent)\n",
    "#         # execute and observe\n",
    "#         #actions = [np.array([0.1,1]),np.array([0.1,1])]\n",
    "#         env_info = env.step(actions)[brain_name]           # send all actions to tne environment\n",
    "#         next_states = env_info.vector_observations         # get next state (for each agent)\n",
    "#         rewards = env_info.rewards                         # get reward (for each agent)\n",
    "#         dones = env_info.local_done                        # see if episode finished\n",
    "#         # roll over states to next time step\n",
    "#         states = next_states                               \n",
    "#         # keep track of scores\n",
    "#         scores += env_info.rewards                         # update the score (for each agent)\n",
    "#         # exit loop if episode finished\n",
    "#         if np.any(dones): \n",
    "#             break\n",
    "#     print('Best player score in episode {}: {}'.format(i,np.max(scores)))"
   ]
  },
  {
   "cell_type": "code",
   "execution_count": 8,
   "metadata": {},
   "outputs": [],
   "source": [
    "# env.close()"
   ]
  },
  {
   "cell_type": "code",
   "execution_count": null,
   "metadata": {},
   "outputs": [],
   "source": []
  },
  {
   "cell_type": "code",
   "execution_count": null,
   "metadata": {},
   "outputs": [],
   "source": []
  }
 ],
 "metadata": {
  "kernelspec": {
   "display_name": "Python 3",
   "language": "python",
   "name": "python3"
  },
  "language_info": {
   "codemirror_mode": {
    "name": "ipython",
    "version": 3
   },
   "file_extension": ".py",
   "mimetype": "text/x-python",
   "name": "python",
   "nbconvert_exporter": "python",
   "pygments_lexer": "ipython3",
   "version": "3.6.8"
  }
 },
 "nbformat": 4,
 "nbformat_minor": 2
}
